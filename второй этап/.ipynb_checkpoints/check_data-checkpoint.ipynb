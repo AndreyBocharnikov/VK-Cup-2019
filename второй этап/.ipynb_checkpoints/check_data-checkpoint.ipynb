{
 "cells": [
  {
   "cell_type": "code",
   "execution_count": 1,
   "metadata": {},
   "outputs": [],
   "source": [
    "import numpy as np\n",
    "import pandas as pd\n",
    "import matplotlib.pyplot as plt \n",
    "import time\n",
    "from sklearn.model_selection import train_test_split\n",
    "import torch\n",
    "import torch.nn as nn\n",
    "import torch.optim as optim\n",
    "import torch.nn.functional as F\n",
    "from torch.utils import data\n",
    "import random\n",
    "from sklearn.preprocessing import StandardScaler\n",
    "from sklearn.preprocessing import scale"
   ]
  },
  {
   "cell_type": "code",
   "execution_count": 2,
   "metadata": {},
   "outputs": [],
   "source": [
    "torch.manual_seed(123)\n",
    "np.random.seed(123)\n",
    "random.seed(123)\n",
    "torch.backends.cudnn.deterministic=True"
   ]
  },
  {
   "cell_type": "code",
   "execution_count": 2,
   "metadata": {},
   "outputs": [],
   "source": [
    "history = pd.read_csv('history.tsv', sep='\\t')\n",
    "users = pd.read_csv('users.tsv', sep='\\t')\n",
    "validate = pd.read_csv('validate.tsv', sep='\\t')\n",
    "validate_answers = pd.read_csv('validate_answers.tsv', sep='\\t')"
   ]
  },
  {
   "cell_type": "code",
   "execution_count": 4,
   "metadata": {},
   "outputs": [
    {
     "data": {
      "text/html": [
       "<div>\n",
       "<style scoped>\n",
       "    .dataframe tbody tr th:only-of-type {\n",
       "        vertical-align: middle;\n",
       "    }\n",
       "\n",
       "    .dataframe tbody tr th {\n",
       "        vertical-align: top;\n",
       "    }\n",
       "\n",
       "    .dataframe thead th {\n",
       "        text-align: right;\n",
       "    }\n",
       "</style>\n",
       "<table border=\"1\" class=\"dataframe\">\n",
       "  <thead>\n",
       "    <tr style=\"text-align: right;\">\n",
       "      <th></th>\n",
       "      <th>user_id</th>\n",
       "      <th>sex</th>\n",
       "      <th>age</th>\n",
       "      <th>city_id</th>\n",
       "    </tr>\n",
       "  </thead>\n",
       "  <tbody>\n",
       "    <tr>\n",
       "      <th>0</th>\n",
       "      <td>0</td>\n",
       "      <td>2</td>\n",
       "      <td>19</td>\n",
       "      <td>0</td>\n",
       "    </tr>\n",
       "    <tr>\n",
       "      <th>1</th>\n",
       "      <td>1</td>\n",
       "      <td>1</td>\n",
       "      <td>0</td>\n",
       "      <td>1</td>\n",
       "    </tr>\n",
       "    <tr>\n",
       "      <th>2</th>\n",
       "      <td>2</td>\n",
       "      <td>2</td>\n",
       "      <td>24</td>\n",
       "      <td>2</td>\n",
       "    </tr>\n",
       "    <tr>\n",
       "      <th>3</th>\n",
       "      <td>3</td>\n",
       "      <td>1</td>\n",
       "      <td>20</td>\n",
       "      <td>3</td>\n",
       "    </tr>\n",
       "    <tr>\n",
       "      <th>4</th>\n",
       "      <td>4</td>\n",
       "      <td>2</td>\n",
       "      <td>29</td>\n",
       "      <td>4</td>\n",
       "    </tr>\n",
       "  </tbody>\n",
       "</table>\n",
       "</div>"
      ],
      "text/plain": [
       "   user_id  sex  age  city_id\n",
       "0        0    2   19        0\n",
       "1        1    1    0        1\n",
       "2        2    2   24        2\n",
       "3        3    1   20        3\n",
       "4        4    2   29        4"
      ]
     },
     "execution_count": 4,
     "metadata": {},
     "output_type": "execute_result"
    }
   ],
   "source": [
    "users.head()"
   ]
  },
  {
   "cell_type": "code",
   "execution_count": 629,
   "metadata": {
    "collapsed": true
   },
   "outputs": [
    {
     "data": {
      "text/plain": [
       "city_id\n",
       "0       8479\n",
       "1         16\n",
       "2          1\n",
       "3       1985\n",
       "4         66\n",
       "5         20\n",
       "6          1\n",
       "7       1232\n",
       "8        262\n",
       "9          2\n",
       "10         1\n",
       "11       224\n",
       "12         9\n",
       "13       229\n",
       "14         6\n",
       "15       137\n",
       "16        92\n",
       "17       233\n",
       "18        97\n",
       "19       308\n",
       "20        57\n",
       "21       250\n",
       "22         3\n",
       "23        19\n",
       "24        12\n",
       "25       315\n",
       "26         1\n",
       "27         1\n",
       "28        37\n",
       "29       213\n",
       "        ... \n",
       "2427       1\n",
       "2428       1\n",
       "2429       1\n",
       "2430       1\n",
       "2431       1\n",
       "2432       1\n",
       "2433       1\n",
       "2434       1\n",
       "2435       1\n",
       "2436       1\n",
       "2437       1\n",
       "2438       1\n",
       "2439       1\n",
       "2440       1\n",
       "2441       1\n",
       "2442       1\n",
       "2443       1\n",
       "2444       1\n",
       "2445       1\n",
       "2446       1\n",
       "2447       1\n",
       "2448       1\n",
       "2449       1\n",
       "2450       1\n",
       "2451       1\n",
       "2452       1\n",
       "2453       1\n",
       "2454       1\n",
       "2455       1\n",
       "2456       1\n",
       "Length: 2457, dtype: int64"
      ]
     },
     "execution_count": 629,
     "metadata": {},
     "output_type": "execute_result"
    }
   ],
   "source": [
    "users.groupby('city_id').size()"
   ]
  },
  {
   "cell_type": "code",
   "execution_count": 144,
   "metadata": {
    "scrolled": true
   },
   "outputs": [],
   "source": [
    "fake_users = users[(users.sex == 0).apply(int) + (users.age == 0).apply(int) + (users.city_id == 0).apply(int) > 1].index\n",
    "normal_users = users[(users.sex == 0).apply(int) + (users.age == 0).apply(int) + (users.city_id == 0).apply(int) <= 1].index"
   ]
  },
  {
   "cell_type": "code",
   "execution_count": 10,
   "metadata": {},
   "outputs": [
    {
     "data": {
      "text/plain": [
       "(27769, 4)"
      ]
     },
     "execution_count": 10,
     "metadata": {},
     "output_type": "execute_result"
    }
   ],
   "source": [
    "users.shape"
   ]
  },
  {
   "cell_type": "code",
   "execution_count": 11,
   "metadata": {},
   "outputs": [
    {
     "data": {
      "text/plain": [
       "(27769, 3, 107, 2457)"
      ]
     },
     "execution_count": 11,
     "metadata": {},
     "output_type": "execute_result"
    }
   ],
   "source": [
    "users.user_id.nunique(), users.sex.nunique(), users.age.nunique(), users.city_id.nunique()"
   ]
  },
  {
   "cell_type": "code",
   "execution_count": 17,
   "metadata": {},
   "outputs": [
    {
     "data": {
      "text/plain": [
       "(30, 8479, 2180)"
      ]
     },
     "execution_count": 17,
     "metadata": {},
     "output_type": "execute_result"
    }
   ],
   "source": [
    "users[users.sex == 0].shape[0], users[users.city_id == 0].shape[0], users[users.age == 0].shape[0]"
   ]
  },
  {
   "cell_type": "code",
   "execution_count": 18,
   "metadata": {},
   "outputs": [
    {
     "data": {
      "text/plain": [
       "array([    0,     1,     2, ..., 27766, 27767, 27768], dtype=int64)"
      ]
     },
     "execution_count": 18,
     "metadata": {},
     "output_type": "execute_result"
    }
   ],
   "source": [
    "users.user_id.unique() - # range(0, 27769)"
   ]
  },
  {
   "cell_type": "code",
   "execution_count": 180,
   "metadata": {},
   "outputs": [
    {
     "data": {
      "text/plain": [
       "(27769, 25536)"
      ]
     },
     "execution_count": 180,
     "metadata": {},
     "output_type": "execute_result"
    }
   ],
   "source": [
    "users.user_id.nunique(), history.user_id.nunique()"
   ]
  },
  {
   "cell_type": "code",
   "execution_count": 181,
   "metadata": {},
   "outputs": [
    {
     "data": {
      "text/plain": [
       "(253, 74301)"
      ]
     },
     "execution_count": 181,
     "metadata": {},
     "output_type": "execute_result"
    }
   ],
   "source": [
    "validate.cpm.nunique(), history.cpm.nunique()"
   ]
  },
  {
   "cell_type": "code",
   "execution_count": 150,
   "metadata": {},
   "outputs": [
    {
     "data": {
      "text/html": [
       "<div>\n",
       "<style scoped>\n",
       "    .dataframe tbody tr th:only-of-type {\n",
       "        vertical-align: middle;\n",
       "    }\n",
       "\n",
       "    .dataframe tbody tr th {\n",
       "        vertical-align: top;\n",
       "    }\n",
       "\n",
       "    .dataframe thead th {\n",
       "        text-align: right;\n",
       "    }\n",
       "</style>\n",
       "<table border=\"1\" class=\"dataframe\">\n",
       "  <thead>\n",
       "    <tr style=\"text-align: right;\">\n",
       "      <th></th>\n",
       "      <th>hour</th>\n",
       "      <th>cpm</th>\n",
       "      <th>publisher</th>\n",
       "      <th>user_id</th>\n",
       "    </tr>\n",
       "  </thead>\n",
       "  <tbody>\n",
       "    <tr>\n",
       "      <th>0</th>\n",
       "      <td>10</td>\n",
       "      <td>30.00</td>\n",
       "      <td>1</td>\n",
       "      <td>15661</td>\n",
       "    </tr>\n",
       "    <tr>\n",
       "      <th>1</th>\n",
       "      <td>8</td>\n",
       "      <td>41.26</td>\n",
       "      <td>1</td>\n",
       "      <td>8444</td>\n",
       "    </tr>\n",
       "    <tr>\n",
       "      <th>2</th>\n",
       "      <td>7</td>\n",
       "      <td>360.00</td>\n",
       "      <td>1</td>\n",
       "      <td>15821</td>\n",
       "    </tr>\n",
       "    <tr>\n",
       "      <th>3</th>\n",
       "      <td>18</td>\n",
       "      <td>370.00</td>\n",
       "      <td>1</td>\n",
       "      <td>21530</td>\n",
       "    </tr>\n",
       "    <tr>\n",
       "      <th>4</th>\n",
       "      <td>8</td>\n",
       "      <td>195.00</td>\n",
       "      <td>2</td>\n",
       "      <td>22148</td>\n",
       "    </tr>\n",
       "  </tbody>\n",
       "</table>\n",
       "</div>"
      ],
      "text/plain": [
       "   hour     cpm  publisher  user_id\n",
       "0    10   30.00          1    15661\n",
       "1     8   41.26          1     8444\n",
       "2     7  360.00          1    15821\n",
       "3    18  370.00          1    21530\n",
       "4     8  195.00          2    22148"
      ]
     },
     "execution_count": 150,
     "metadata": {},
     "output_type": "execute_result"
    }
   ],
   "source": [
    "history.head()"
   ]
  },
  {
   "cell_type": "code",
   "execution_count": 155,
   "metadata": {},
   "outputs": [
    {
     "data": {
      "text/plain": [
       "publisher\n",
       "1     692535\n",
       "2     273037\n",
       "3      72124\n",
       "4       2286\n",
       "5       7263\n",
       "6       5935\n",
       "7      66134\n",
       "8       3625\n",
       "9      10165\n",
       "10      4232\n",
       "11      4028\n",
       "12      1922\n",
       "13       173\n",
       "14      1055\n",
       "15       564\n",
       "16      1331\n",
       "17      1095\n",
       "18       196\n",
       "19        54\n",
       "20        94\n",
       "21         9\n",
       "dtype: int64"
      ]
     },
     "execution_count": 155,
     "metadata": {},
     "output_type": "execute_result"
    }
   ],
   "source": [
    "history.groupby('publisher').size()"
   ]
  },
  {
   "cell_type": "code",
   "execution_count": 119,
   "metadata": {
    "scrolled": true
   },
   "outputs": [
    {
     "data": {
      "text/plain": [
       "20972"
      ]
     },
     "execution_count": 119,
     "metadata": {},
     "output_type": "execute_result"
    }
   ],
   "source": [
    "history.groupby('user_id').size().idxmax() # id пользов который видел больше всего рекламы"
   ]
  },
  {
   "cell_type": "code",
   "execution_count": 121,
   "metadata": {
    "collapsed": true
   },
   "outputs": [
    {
     "data": {
      "text/plain": [
       "user_id\n",
       "0          2\n",
       "1         82\n",
       "3          8\n",
       "4        132\n",
       "5          9\n",
       "6         42\n",
       "7         10\n",
       "8          6\n",
       "9          6\n",
       "11        10\n",
       "12         1\n",
       "13        11\n",
       "14         5\n",
       "15         3\n",
       "16         4\n",
       "18        26\n",
       "19         4\n",
       "20       177\n",
       "21         8\n",
       "22        78\n",
       "23        55\n",
       "24        54\n",
       "25        24\n",
       "26        26\n",
       "27        17\n",
       "28         1\n",
       "29        47\n",
       "30        36\n",
       "31         1\n",
       "32         2\n",
       "        ... \n",
       "27735    107\n",
       "27736      2\n",
       "27737      5\n",
       "27739    156\n",
       "27740    278\n",
       "27741      3\n",
       "27742     92\n",
       "27744      2\n",
       "27745     37\n",
       "27746     11\n",
       "27747     32\n",
       "27749      6\n",
       "27750      1\n",
       "27751      1\n",
       "27752     56\n",
       "27753     19\n",
       "27755      8\n",
       "27756     87\n",
       "27757      6\n",
       "27758     19\n",
       "27759     34\n",
       "27760      6\n",
       "27761     10\n",
       "27762      4\n",
       "27763      6\n",
       "27764     43\n",
       "27765     79\n",
       "27766     54\n",
       "27767      1\n",
       "27768     30\n",
       "Length: 25536, dtype: int64"
      ]
     },
     "execution_count": 121,
     "metadata": {},
     "output_type": "execute_result"
    }
   ],
   "source": [
    "history.groupby('user_id').size() # сколько раз каждый польз видел рекламу"
   ]
  },
  {
   "cell_type": "code",
   "execution_count": 5,
   "metadata": {},
   "outputs": [],
   "source": [
    "def count_ac(lst):\n",
    "    cnt = {}\n",
    "    for item in lst:\n",
    "        cnt[item] = cnt.get(item, 0) + 1\n",
    "    return pd.Series(cnt).sort_index()"
   ]
  },
  {
   "cell_type": "code",
   "execution_count": 213,
   "metadata": {
    "collapsed": true
   },
   "outputs": [
    {
     "data": {
      "text/plain": [
       "0      7\n",
       "1     15\n",
       "2     15\n",
       "3     10\n",
       "4      5\n",
       "5      2\n",
       "6      2\n",
       "7      7\n",
       "8      3\n",
       "9      5\n",
       "10     4\n",
       "11     6\n",
       "12    11\n",
       "13    10\n",
       "14    10\n",
       "15     7\n",
       "16    19\n",
       "17     4\n",
       "18    11\n",
       "19     7\n",
       "20     6\n",
       "21     1\n",
       "22     6\n",
       "23     4\n",
       "dtype: int64"
      ]
     },
     "execution_count": 213,
     "metadata": {},
     "output_type": "execute_result"
    }
   ],
   "source": [
    "index = 20\n",
    "count_ac(history[history.user_id == index].hour) # в какие часы пользов index сколько рекламы смотрит"
   ]
  },
  {
   "cell_type": "code",
   "execution_count": 136,
   "metadata": {},
   "outputs": [],
   "source": [
    "fake_users_active = []\n",
    "for fake_user in fake_users:\n",
    "    fake_users_active.append(history[history.user_id == fake_user].shape[0])\n",
    "fake_users_active = pd.Series(fake_users_active)"
   ]
  },
  {
   "cell_type": "code",
   "execution_count": 145,
   "metadata": {
    "scrolled": true
   },
   "outputs": [
    {
     "data": {
      "text/plain": [
       "0.7507389162561576"
      ]
     },
     "execution_count": 145,
     "metadata": {},
     "output_type": "execute_result"
    }
   ],
   "source": [
    "(fake_users_active < 20).sum() / fake_users_active.size"
   ]
  },
  {
   "cell_type": "code",
   "execution_count": 146,
   "metadata": {},
   "outputs": [],
   "source": [
    "normal_user_active = []\n",
    "for normal_user in normal_users:\n",
    "    normal_user_active.append(history[history.user_id == normal_user].shape[0])\n",
    "normal_user_active = pd.Series(normal_user_active)    "
   ]
  },
  {
   "cell_type": "code",
   "execution_count": 147,
   "metadata": {},
   "outputs": [
    {
     "data": {
      "text/plain": [
       "0.5477311803842416"
      ]
     },
     "execution_count": 147,
     "metadata": {},
     "output_type": "execute_result"
    }
   ],
   "source": [
    "(normal_user_active < 20).sum() / normal_user_active.size"
   ]
  },
  {
   "cell_type": "code",
   "execution_count": 92,
   "metadata": {
    "scrolled": true
   },
   "outputs": [
    {
     "name": "stdout",
     "output_type": "stream",
     "text": [
      "3 1490\n"
     ]
    },
    {
     "data": {
      "text/plain": [
       "10970"
      ]
     },
     "execution_count": 92,
     "metadata": {},
     "output_type": "execute_result"
    }
   ],
   "source": [
    "print(history[history.cpm == 30].hour.min(), history[history.cpm == 30].hour.max())\n",
    "history[history.cpm == 30].user_id.nunique()"
   ]
  },
  {
   "cell_type": "code",
   "execution_count": 72,
   "metadata": {},
   "outputs": [
    {
     "data": {
      "text/html": [
       "<div>\n",
       "<style scoped>\n",
       "    .dataframe tbody tr th:only-of-type {\n",
       "        vertical-align: middle;\n",
       "    }\n",
       "\n",
       "    .dataframe tbody tr th {\n",
       "        vertical-align: top;\n",
       "    }\n",
       "\n",
       "    .dataframe thead th {\n",
       "        text-align: right;\n",
       "    }\n",
       "</style>\n",
       "<table border=\"1\" class=\"dataframe\">\n",
       "  <thead>\n",
       "    <tr style=\"text-align: right;\">\n",
       "      <th></th>\n",
       "      <th>hour</th>\n",
       "      <th>cpm</th>\n",
       "      <th>publisher</th>\n",
       "      <th>user_id</th>\n",
       "    </tr>\n",
       "  </thead>\n",
       "  <tbody>\n",
       "    <tr>\n",
       "      <th>336326</th>\n",
       "      <td>520</td>\n",
       "      <td>37.25</td>\n",
       "      <td>16</td>\n",
       "      <td>12</td>\n",
       "    </tr>\n",
       "  </tbody>\n",
       "</table>\n",
       "</div>"
      ],
      "text/plain": [
       "        hour    cpm  publisher  user_id\n",
       "336326   520  37.25         16       12"
      ]
     },
     "execution_count": 72,
     "metadata": {},
     "output_type": "execute_result"
    }
   ],
   "source": [
    "history[history.user_id == 12]"
   ]
  },
  {
   "cell_type": "code",
   "execution_count": 71,
   "metadata": {
    "collapsed": true
   },
   "outputs": [
    {
     "ename": "KeyboardInterrupt",
     "evalue": "",
     "output_type": "error",
     "traceback": [
      "\u001b[1;31m---------------------------------------------------------------------------\u001b[0m",
      "\u001b[1;31mKeyboardInterrupt\u001b[0m                         Traceback (most recent call last)",
      "\u001b[1;32m<ipython-input-71-bc1875f07164>\u001b[0m in \u001b[0;36m<module>\u001b[1;34m\u001b[0m\n\u001b[0;32m      6\u001b[0m \u001b[1;32mfor\u001b[0m \u001b[0muser\u001b[0m \u001b[1;32min\u001b[0m \u001b[0musers\u001b[0m\u001b[1;33m:\u001b[0m\u001b[1;33m\u001b[0m\u001b[1;33m\u001b[0m\u001b[0m\n\u001b[0;32m      7\u001b[0m     \u001b[1;32mfor\u001b[0m \u001b[0mhour\u001b[0m \u001b[1;32min\u001b[0m \u001b[0mhours\u001b[0m\u001b[1;33m:\u001b[0m\u001b[1;33m\u001b[0m\u001b[1;33m\u001b[0m\u001b[0m\n\u001b[1;32m----> 8\u001b[1;33m         \u001b[0mtmp\u001b[0m \u001b[1;33m=\u001b[0m \u001b[0mhistory\u001b[0m\u001b[1;33m[\u001b[0m\u001b[1;33m(\u001b[0m\u001b[0mhistory\u001b[0m\u001b[1;33m.\u001b[0m\u001b[0mhour\u001b[0m \u001b[1;33m==\u001b[0m \u001b[0mhour\u001b[0m\u001b[1;33m)\u001b[0m \u001b[1;33m&\u001b[0m \u001b[1;33m(\u001b[0m\u001b[0mhistory\u001b[0m\u001b[1;33m.\u001b[0m\u001b[0muser_id\u001b[0m \u001b[1;33m==\u001b[0m \u001b[0muser\u001b[0m\u001b[1;33m)\u001b[0m\u001b[1;33m]\u001b[0m\u001b[1;33m.\u001b[0m\u001b[0mshape\u001b[0m\u001b[1;33m[\u001b[0m\u001b[1;36m0\u001b[0m\u001b[1;33m]\u001b[0m\u001b[1;33m\u001b[0m\u001b[1;33m\u001b[0m\u001b[0m\n\u001b[0m\u001b[0;32m      9\u001b[0m         \u001b[1;32mif\u001b[0m \u001b[0mtmp\u001b[0m \u001b[1;33m>\u001b[0m \u001b[0mmax_res\u001b[0m\u001b[1;33m:\u001b[0m\u001b[1;33m\u001b[0m\u001b[1;33m\u001b[0m\u001b[0m\n\u001b[0;32m     10\u001b[0m             \u001b[0mmax_res\u001b[0m \u001b[1;33m=\u001b[0m \u001b[0mtmp\u001b[0m\u001b[1;33m\u001b[0m\u001b[1;33m\u001b[0m\u001b[0m\n",
      "\u001b[1;32mD:\\Anaconda\\lib\\site-packages\\pandas\\core\\ops.py\u001b[0m in \u001b[0;36mwrapper\u001b[1;34m(self, other, axis)\u001b[0m\n\u001b[0;32m   1764\u001b[0m \u001b[1;33m\u001b[0m\u001b[0m\n\u001b[0;32m   1765\u001b[0m             \u001b[1;32mwith\u001b[0m \u001b[0mnp\u001b[0m\u001b[1;33m.\u001b[0m\u001b[0merrstate\u001b[0m\u001b[1;33m(\u001b[0m\u001b[0mall\u001b[0m\u001b[1;33m=\u001b[0m\u001b[1;34m'ignore'\u001b[0m\u001b[1;33m)\u001b[0m\u001b[1;33m:\u001b[0m\u001b[1;33m\u001b[0m\u001b[1;33m\u001b[0m\u001b[0m\n\u001b[1;32m-> 1766\u001b[1;33m                 \u001b[0mres\u001b[0m \u001b[1;33m=\u001b[0m \u001b[0mna_op\u001b[0m\u001b[1;33m(\u001b[0m\u001b[0mvalues\u001b[0m\u001b[1;33m,\u001b[0m \u001b[0mother\u001b[0m\u001b[1;33m)\u001b[0m\u001b[1;33m\u001b[0m\u001b[1;33m\u001b[0m\u001b[0m\n\u001b[0m\u001b[0;32m   1767\u001b[0m             \u001b[1;32mif\u001b[0m \u001b[0mis_scalar\u001b[0m\u001b[1;33m(\u001b[0m\u001b[0mres\u001b[0m\u001b[1;33m)\u001b[0m\u001b[1;33m:\u001b[0m\u001b[1;33m\u001b[0m\u001b[1;33m\u001b[0m\u001b[0m\n\u001b[0;32m   1768\u001b[0m                 raise TypeError('Could not compare {typ} type with Series'\n",
      "\u001b[1;32mD:\\Anaconda\\lib\\site-packages\\pandas\\core\\ops.py\u001b[0m in \u001b[0;36mna_op\u001b[1;34m(x, y)\u001b[0m\n\u001b[0;32m   1647\u001b[0m             \u001b[1;32mif\u001b[0m \u001b[0mmethod\u001b[0m \u001b[1;32mis\u001b[0m \u001b[1;32mnot\u001b[0m \u001b[1;32mNone\u001b[0m\u001b[1;33m:\u001b[0m\u001b[1;33m\u001b[0m\u001b[1;33m\u001b[0m\u001b[0m\n\u001b[0;32m   1648\u001b[0m                 \u001b[1;32mwith\u001b[0m \u001b[0mnp\u001b[0m\u001b[1;33m.\u001b[0m\u001b[0merrstate\u001b[0m\u001b[1;33m(\u001b[0m\u001b[0mall\u001b[0m\u001b[1;33m=\u001b[0m\u001b[1;34m'ignore'\u001b[0m\u001b[1;33m)\u001b[0m\u001b[1;33m:\u001b[0m\u001b[1;33m\u001b[0m\u001b[1;33m\u001b[0m\u001b[0m\n\u001b[1;32m-> 1649\u001b[1;33m                     \u001b[0mresult\u001b[0m \u001b[1;33m=\u001b[0m \u001b[0mmethod\u001b[0m\u001b[1;33m(\u001b[0m\u001b[0my\u001b[0m\u001b[1;33m)\u001b[0m\u001b[1;33m\u001b[0m\u001b[1;33m\u001b[0m\u001b[0m\n\u001b[0m\u001b[0;32m   1650\u001b[0m                 \u001b[1;32mif\u001b[0m \u001b[0mresult\u001b[0m \u001b[1;32mis\u001b[0m \u001b[0mNotImplemented\u001b[0m\u001b[1;33m:\u001b[0m\u001b[1;33m\u001b[0m\u001b[1;33m\u001b[0m\u001b[0m\n\u001b[0;32m   1651\u001b[0m                     \u001b[1;32mreturn\u001b[0m \u001b[0minvalid_comparison\u001b[0m\u001b[1;33m(\u001b[0m\u001b[0mx\u001b[0m\u001b[1;33m,\u001b[0m \u001b[0my\u001b[0m\u001b[1;33m,\u001b[0m \u001b[0mop\u001b[0m\u001b[1;33m)\u001b[0m\u001b[1;33m\u001b[0m\u001b[1;33m\u001b[0m\u001b[0m\n",
      "\u001b[1;31mKeyboardInterrupt\u001b[0m: "
     ]
    }
   ],
   "source": [
    "users = history.user_id.unique()\n",
    "hours = history.hour.unique()\n",
    "max_user = None\n",
    "max_hour = None\n",
    "max_res = 0\n",
    "for user in users:\n",
    "    for hour in hours:\n",
    "        tmp = history[(history.hour == hour) & (history.user_id == user)].shape[0]\n",
    "        if tmp > max_res:\n",
    "            max_res = tmp\n",
    "            max_hour = hour\n",
    "            max_user = user"
   ]
  },
  {
   "cell_type": "code",
   "execution_count": null,
   "metadata": {},
   "outputs": [],
   "source": [
    "max_res, max_user, max_hour"
   ]
  },
  {
   "cell_type": "code",
   "execution_count": 54,
   "metadata": {},
   "outputs": [
    {
     "data": {
      "text/plain": [
       "(74301, 1147857)"
      ]
     },
     "execution_count": 54,
     "metadata": {},
     "output_type": "execute_result"
    }
   ],
   "source": [
    "history.cpm.nunique(), history.shape[0]"
   ]
  },
  {
   "cell_type": "code",
   "execution_count": 87,
   "metadata": {
    "collapsed": true
   },
   "outputs": [
    {
     "data": {
      "text/plain": [
       "hour\n",
       "3       137\n",
       "4       161\n",
       "5       257\n",
       "6       310\n",
       "7       436\n",
       "8       504\n",
       "9       509\n",
       "10      518\n",
       "11      560\n",
       "12      529\n",
       "13      503\n",
       "14      506\n",
       "15      499\n",
       "16      446\n",
       "17      533\n",
       "18      497\n",
       "19      516\n",
       "20      573\n",
       "21      556\n",
       "22      547\n",
       "23      359\n",
       "24      370\n",
       "25      228\n",
       "26      169\n",
       "27      145\n",
       "28      172\n",
       "29      226\n",
       "30      300\n",
       "31      404\n",
       "32      423\n",
       "       ... \n",
       "1461    660\n",
       "1462    607\n",
       "1463    461\n",
       "1464    344\n",
       "1465    235\n",
       "1466    177\n",
       "1467    140\n",
       "1468    152\n",
       "1469    197\n",
       "1470    263\n",
       "1471    425\n",
       "1472    505\n",
       "1473    493\n",
       "1474    500\n",
       "1475    535\n",
       "1476    491\n",
       "1477    469\n",
       "1478    500\n",
       "1479    530\n",
       "1480    520\n",
       "1481    478\n",
       "1482    551\n",
       "1483    588\n",
       "1484    571\n",
       "1485    666\n",
       "1486    559\n",
       "1487    454\n",
       "1488    363\n",
       "1489    227\n",
       "1490    166\n",
       "Name: cpm, Length: 1488, dtype: int64"
      ]
     },
     "execution_count": 87,
     "metadata": {},
     "output_type": "execute_result"
    }
   ],
   "source": [
    "history.groupby('hour').cpm.nunique()"
   ]
  },
  {
   "cell_type": "code",
   "execution_count": 69,
   "metadata": {
    "scrolled": true
   },
   "outputs": [
    {
     "data": {
      "text/html": [
       "<div>\n",
       "<style scoped>\n",
       "    .dataframe tbody tr th:only-of-type {\n",
       "        vertical-align: middle;\n",
       "    }\n",
       "\n",
       "    .dataframe tbody tr th {\n",
       "        vertical-align: top;\n",
       "    }\n",
       "\n",
       "    .dataframe thead th {\n",
       "        text-align: right;\n",
       "    }\n",
       "</style>\n",
       "<table border=\"1\" class=\"dataframe\">\n",
       "  <thead>\n",
       "    <tr style=\"text-align: right;\">\n",
       "      <th></th>\n",
       "      <th>hour</th>\n",
       "      <th>cpm</th>\n",
       "      <th>publisher</th>\n",
       "      <th>user_id</th>\n",
       "    </tr>\n",
       "  </thead>\n",
       "  <tbody>\n",
       "    <tr>\n",
       "      <th>3</th>\n",
       "      <td>18</td>\n",
       "      <td>370.0</td>\n",
       "      <td>1</td>\n",
       "      <td>21530</td>\n",
       "    </tr>\n",
       "    <tr>\n",
       "      <th>691</th>\n",
       "      <td>18</td>\n",
       "      <td>370.0</td>\n",
       "      <td>1</td>\n",
       "      <td>1561</td>\n",
       "    </tr>\n",
       "    <tr>\n",
       "      <th>1042</th>\n",
       "      <td>11</td>\n",
       "      <td>370.0</td>\n",
       "      <td>2</td>\n",
       "      <td>12010</td>\n",
       "    </tr>\n",
       "    <tr>\n",
       "      <th>2474</th>\n",
       "      <td>7</td>\n",
       "      <td>370.0</td>\n",
       "      <td>1</td>\n",
       "      <td>18637</td>\n",
       "    </tr>\n",
       "    <tr>\n",
       "      <th>2945</th>\n",
       "      <td>9</td>\n",
       "      <td>370.0</td>\n",
       "      <td>1</td>\n",
       "      <td>13000</td>\n",
       "    </tr>\n",
       "    <tr>\n",
       "      <th>4887</th>\n",
       "      <td>12</td>\n",
       "      <td>370.0</td>\n",
       "      <td>1</td>\n",
       "      <td>3051</td>\n",
       "    </tr>\n",
       "    <tr>\n",
       "      <th>5147</th>\n",
       "      <td>21</td>\n",
       "      <td>370.0</td>\n",
       "      <td>2</td>\n",
       "      <td>21947</td>\n",
       "    </tr>\n",
       "    <tr>\n",
       "      <th>5556</th>\n",
       "      <td>21</td>\n",
       "      <td>370.0</td>\n",
       "      <td>1</td>\n",
       "      <td>23284</td>\n",
       "    </tr>\n",
       "    <tr>\n",
       "      <th>6374</th>\n",
       "      <td>9</td>\n",
       "      <td>370.0</td>\n",
       "      <td>1</td>\n",
       "      <td>19240</td>\n",
       "    </tr>\n",
       "    <tr>\n",
       "      <th>7583</th>\n",
       "      <td>21</td>\n",
       "      <td>370.0</td>\n",
       "      <td>2</td>\n",
       "      <td>15586</td>\n",
       "    </tr>\n",
       "    <tr>\n",
       "      <th>8798</th>\n",
       "      <td>18</td>\n",
       "      <td>370.0</td>\n",
       "      <td>1</td>\n",
       "      <td>24196</td>\n",
       "    </tr>\n",
       "    <tr>\n",
       "      <th>9534</th>\n",
       "      <td>15</td>\n",
       "      <td>370.0</td>\n",
       "      <td>7</td>\n",
       "      <td>27586</td>\n",
       "    </tr>\n",
       "    <tr>\n",
       "      <th>9554</th>\n",
       "      <td>6</td>\n",
       "      <td>370.0</td>\n",
       "      <td>1</td>\n",
       "      <td>19043</td>\n",
       "    </tr>\n",
       "    <tr>\n",
       "      <th>9840</th>\n",
       "      <td>11</td>\n",
       "      <td>370.0</td>\n",
       "      <td>2</td>\n",
       "      <td>21957</td>\n",
       "    </tr>\n",
       "    <tr>\n",
       "      <th>10242</th>\n",
       "      <td>11</td>\n",
       "      <td>370.0</td>\n",
       "      <td>2</td>\n",
       "      <td>22535</td>\n",
       "    </tr>\n",
       "    <tr>\n",
       "      <th>10707</th>\n",
       "      <td>21</td>\n",
       "      <td>370.0</td>\n",
       "      <td>1</td>\n",
       "      <td>15724</td>\n",
       "    </tr>\n",
       "    <tr>\n",
       "      <th>13145</th>\n",
       "      <td>12</td>\n",
       "      <td>370.0</td>\n",
       "      <td>2</td>\n",
       "      <td>25172</td>\n",
       "    </tr>\n",
       "    <tr>\n",
       "      <th>14278</th>\n",
       "      <td>39</td>\n",
       "      <td>370.0</td>\n",
       "      <td>1</td>\n",
       "      <td>26092</td>\n",
       "    </tr>\n",
       "    <tr>\n",
       "      <th>14289</th>\n",
       "      <td>47</td>\n",
       "      <td>370.0</td>\n",
       "      <td>2</td>\n",
       "      <td>1428</td>\n",
       "    </tr>\n",
       "    <tr>\n",
       "      <th>14453</th>\n",
       "      <td>37</td>\n",
       "      <td>370.0</td>\n",
       "      <td>2</td>\n",
       "      <td>4566</td>\n",
       "    </tr>\n",
       "    <tr>\n",
       "      <th>15380</th>\n",
       "      <td>46</td>\n",
       "      <td>370.0</td>\n",
       "      <td>1</td>\n",
       "      <td>4275</td>\n",
       "    </tr>\n",
       "    <tr>\n",
       "      <th>15757</th>\n",
       "      <td>39</td>\n",
       "      <td>370.0</td>\n",
       "      <td>2</td>\n",
       "      <td>22319</td>\n",
       "    </tr>\n",
       "    <tr>\n",
       "      <th>15947</th>\n",
       "      <td>31</td>\n",
       "      <td>370.0</td>\n",
       "      <td>2</td>\n",
       "      <td>11351</td>\n",
       "    </tr>\n",
       "    <tr>\n",
       "      <th>16765</th>\n",
       "      <td>42</td>\n",
       "      <td>370.0</td>\n",
       "      <td>2</td>\n",
       "      <td>21892</td>\n",
       "    </tr>\n",
       "    <tr>\n",
       "      <th>17284</th>\n",
       "      <td>31</td>\n",
       "      <td>370.0</td>\n",
       "      <td>2</td>\n",
       "      <td>12967</td>\n",
       "    </tr>\n",
       "    <tr>\n",
       "      <th>18972</th>\n",
       "      <td>46</td>\n",
       "      <td>370.0</td>\n",
       "      <td>1</td>\n",
       "      <td>22587</td>\n",
       "    </tr>\n",
       "    <tr>\n",
       "      <th>19174</th>\n",
       "      <td>44</td>\n",
       "      <td>370.0</td>\n",
       "      <td>1</td>\n",
       "      <td>12104</td>\n",
       "    </tr>\n",
       "    <tr>\n",
       "      <th>20018</th>\n",
       "      <td>37</td>\n",
       "      <td>370.0</td>\n",
       "      <td>1</td>\n",
       "      <td>11808</td>\n",
       "    </tr>\n",
       "    <tr>\n",
       "      <th>20266</th>\n",
       "      <td>30</td>\n",
       "      <td>370.0</td>\n",
       "      <td>2</td>\n",
       "      <td>11862</td>\n",
       "    </tr>\n",
       "    <tr>\n",
       "      <th>21493</th>\n",
       "      <td>44</td>\n",
       "      <td>370.0</td>\n",
       "      <td>2</td>\n",
       "      <td>14269</td>\n",
       "    </tr>\n",
       "    <tr>\n",
       "      <th>...</th>\n",
       "      <td>...</td>\n",
       "      <td>...</td>\n",
       "      <td>...</td>\n",
       "      <td>...</td>\n",
       "    </tr>\n",
       "    <tr>\n",
       "      <th>1121963</th>\n",
       "      <td>1040</td>\n",
       "      <td>370.0</td>\n",
       "      <td>2</td>\n",
       "      <td>16157</td>\n",
       "    </tr>\n",
       "    <tr>\n",
       "      <th>1122003</th>\n",
       "      <td>1053</td>\n",
       "      <td>370.0</td>\n",
       "      <td>2</td>\n",
       "      <td>8153</td>\n",
       "    </tr>\n",
       "    <tr>\n",
       "      <th>1123341</th>\n",
       "      <td>1049</td>\n",
       "      <td>370.0</td>\n",
       "      <td>1</td>\n",
       "      <td>653</td>\n",
       "    </tr>\n",
       "    <tr>\n",
       "      <th>1124165</th>\n",
       "      <td>1034</td>\n",
       "      <td>370.0</td>\n",
       "      <td>1</td>\n",
       "      <td>1140</td>\n",
       "    </tr>\n",
       "    <tr>\n",
       "      <th>1124787</th>\n",
       "      <td>18</td>\n",
       "      <td>370.0</td>\n",
       "      <td>7</td>\n",
       "      <td>16951</td>\n",
       "    </tr>\n",
       "    <tr>\n",
       "      <th>1125873</th>\n",
       "      <td>4</td>\n",
       "      <td>370.0</td>\n",
       "      <td>12</td>\n",
       "      <td>5704</td>\n",
       "    </tr>\n",
       "    <tr>\n",
       "      <th>1126214</th>\n",
       "      <td>11</td>\n",
       "      <td>370.0</td>\n",
       "      <td>1</td>\n",
       "      <td>18306</td>\n",
       "    </tr>\n",
       "    <tr>\n",
       "      <th>1127536</th>\n",
       "      <td>984</td>\n",
       "      <td>370.0</td>\n",
       "      <td>7</td>\n",
       "      <td>8658</td>\n",
       "    </tr>\n",
       "    <tr>\n",
       "      <th>1127916</th>\n",
       "      <td>995</td>\n",
       "      <td>370.0</td>\n",
       "      <td>1</td>\n",
       "      <td>12890</td>\n",
       "    </tr>\n",
       "    <tr>\n",
       "      <th>1128089</th>\n",
       "      <td>1006</td>\n",
       "      <td>370.0</td>\n",
       "      <td>2</td>\n",
       "      <td>25803</td>\n",
       "    </tr>\n",
       "    <tr>\n",
       "      <th>1128495</th>\n",
       "      <td>526</td>\n",
       "      <td>370.0</td>\n",
       "      <td>1</td>\n",
       "      <td>5203</td>\n",
       "    </tr>\n",
       "    <tr>\n",
       "      <th>1129374</th>\n",
       "      <td>514</td>\n",
       "      <td>370.0</td>\n",
       "      <td>2</td>\n",
       "      <td>7308</td>\n",
       "    </tr>\n",
       "    <tr>\n",
       "      <th>1131786</th>\n",
       "      <td>549</td>\n",
       "      <td>370.0</td>\n",
       "      <td>2</td>\n",
       "      <td>15243</td>\n",
       "    </tr>\n",
       "    <tr>\n",
       "      <th>1133069</th>\n",
       "      <td>536</td>\n",
       "      <td>370.0</td>\n",
       "      <td>1</td>\n",
       "      <td>17719</td>\n",
       "    </tr>\n",
       "    <tr>\n",
       "      <th>1133473</th>\n",
       "      <td>463</td>\n",
       "      <td>370.0</td>\n",
       "      <td>7</td>\n",
       "      <td>11810</td>\n",
       "    </tr>\n",
       "    <tr>\n",
       "      <th>1133631</th>\n",
       "      <td>475</td>\n",
       "      <td>370.0</td>\n",
       "      <td>2</td>\n",
       "      <td>15413</td>\n",
       "    </tr>\n",
       "    <tr>\n",
       "      <th>1135240</th>\n",
       "      <td>132</td>\n",
       "      <td>370.0</td>\n",
       "      <td>1</td>\n",
       "      <td>20740</td>\n",
       "    </tr>\n",
       "    <tr>\n",
       "      <th>1136495</th>\n",
       "      <td>1432</td>\n",
       "      <td>370.0</td>\n",
       "      <td>1</td>\n",
       "      <td>9407</td>\n",
       "    </tr>\n",
       "    <tr>\n",
       "      <th>1136805</th>\n",
       "      <td>1426</td>\n",
       "      <td>370.0</td>\n",
       "      <td>3</td>\n",
       "      <td>9320</td>\n",
       "    </tr>\n",
       "    <tr>\n",
       "      <th>1136987</th>\n",
       "      <td>107</td>\n",
       "      <td>370.0</td>\n",
       "      <td>1</td>\n",
       "      <td>17114</td>\n",
       "    </tr>\n",
       "    <tr>\n",
       "      <th>1139024</th>\n",
       "      <td>1424</td>\n",
       "      <td>370.0</td>\n",
       "      <td>1</td>\n",
       "      <td>16709</td>\n",
       "    </tr>\n",
       "    <tr>\n",
       "      <th>1140091</th>\n",
       "      <td>1436</td>\n",
       "      <td>370.0</td>\n",
       "      <td>2</td>\n",
       "      <td>7965</td>\n",
       "    </tr>\n",
       "    <tr>\n",
       "      <th>1140358</th>\n",
       "      <td>950</td>\n",
       "      <td>370.0</td>\n",
       "      <td>2</td>\n",
       "      <td>3363</td>\n",
       "    </tr>\n",
       "    <tr>\n",
       "      <th>1140573</th>\n",
       "      <td>1432</td>\n",
       "      <td>370.0</td>\n",
       "      <td>1</td>\n",
       "      <td>23374</td>\n",
       "    </tr>\n",
       "    <tr>\n",
       "      <th>1142099</th>\n",
       "      <td>947</td>\n",
       "      <td>370.0</td>\n",
       "      <td>2</td>\n",
       "      <td>9165</td>\n",
       "    </tr>\n",
       "    <tr>\n",
       "      <th>1143468</th>\n",
       "      <td>248</td>\n",
       "      <td>370.0</td>\n",
       "      <td>1</td>\n",
       "      <td>26778</td>\n",
       "    </tr>\n",
       "    <tr>\n",
       "      <th>1145007</th>\n",
       "      <td>349</td>\n",
       "      <td>370.0</td>\n",
       "      <td>1</td>\n",
       "      <td>15892</td>\n",
       "    </tr>\n",
       "    <tr>\n",
       "      <th>1145583</th>\n",
       "      <td>255</td>\n",
       "      <td>370.0</td>\n",
       "      <td>3</td>\n",
       "      <td>16542</td>\n",
       "    </tr>\n",
       "    <tr>\n",
       "      <th>1145969</th>\n",
       "      <td>353</td>\n",
       "      <td>370.0</td>\n",
       "      <td>1</td>\n",
       "      <td>14889</td>\n",
       "    </tr>\n",
       "    <tr>\n",
       "      <th>1146119</th>\n",
       "      <td>337</td>\n",
       "      <td>370.0</td>\n",
       "      <td>1</td>\n",
       "      <td>11949</td>\n",
       "    </tr>\n",
       "  </tbody>\n",
       "</table>\n",
       "<p>1784 rows × 4 columns</p>\n",
       "</div>"
      ],
      "text/plain": [
       "         hour    cpm  publisher  user_id\n",
       "3          18  370.0          1    21530\n",
       "691        18  370.0          1     1561\n",
       "1042       11  370.0          2    12010\n",
       "2474        7  370.0          1    18637\n",
       "2945        9  370.0          1    13000\n",
       "4887       12  370.0          1     3051\n",
       "5147       21  370.0          2    21947\n",
       "5556       21  370.0          1    23284\n",
       "6374        9  370.0          1    19240\n",
       "7583       21  370.0          2    15586\n",
       "8798       18  370.0          1    24196\n",
       "9534       15  370.0          7    27586\n",
       "9554        6  370.0          1    19043\n",
       "9840       11  370.0          2    21957\n",
       "10242      11  370.0          2    22535\n",
       "10707      21  370.0          1    15724\n",
       "13145      12  370.0          2    25172\n",
       "14278      39  370.0          1    26092\n",
       "14289      47  370.0          2     1428\n",
       "14453      37  370.0          2     4566\n",
       "15380      46  370.0          1     4275\n",
       "15757      39  370.0          2    22319\n",
       "15947      31  370.0          2    11351\n",
       "16765      42  370.0          2    21892\n",
       "17284      31  370.0          2    12967\n",
       "18972      46  370.0          1    22587\n",
       "19174      44  370.0          1    12104\n",
       "20018      37  370.0          1    11808\n",
       "20266      30  370.0          2    11862\n",
       "21493      44  370.0          2    14269\n",
       "...       ...    ...        ...      ...\n",
       "1121963  1040  370.0          2    16157\n",
       "1122003  1053  370.0          2     8153\n",
       "1123341  1049  370.0          1      653\n",
       "1124165  1034  370.0          1     1140\n",
       "1124787    18  370.0          7    16951\n",
       "1125873     4  370.0         12     5704\n",
       "1126214    11  370.0          1    18306\n",
       "1127536   984  370.0          7     8658\n",
       "1127916   995  370.0          1    12890\n",
       "1128089  1006  370.0          2    25803\n",
       "1128495   526  370.0          1     5203\n",
       "1129374   514  370.0          2     7308\n",
       "1131786   549  370.0          2    15243\n",
       "1133069   536  370.0          1    17719\n",
       "1133473   463  370.0          7    11810\n",
       "1133631   475  370.0          2    15413\n",
       "1135240   132  370.0          1    20740\n",
       "1136495  1432  370.0          1     9407\n",
       "1136805  1426  370.0          3     9320\n",
       "1136987   107  370.0          1    17114\n",
       "1139024  1424  370.0          1    16709\n",
       "1140091  1436  370.0          2     7965\n",
       "1140358   950  370.0          2     3363\n",
       "1140573  1432  370.0          1    23374\n",
       "1142099   947  370.0          2     9165\n",
       "1143468   248  370.0          1    26778\n",
       "1145007   349  370.0          1    15892\n",
       "1145583   255  370.0          3    16542\n",
       "1145969   353  370.0          1    14889\n",
       "1146119   337  370.0          1    11949\n",
       "\n",
       "[1784 rows x 4 columns]"
      ]
     },
     "execution_count": 69,
     "metadata": {},
     "output_type": "execute_result"
    }
   ],
   "source": [
    "history.groupby('cpm').get_group(370.00)"
   ]
  },
  {
   "cell_type": "code",
   "execution_count": 94,
   "metadata": {},
   "outputs": [
    {
     "name": "stdout",
     "output_type": "stream",
     "text": [
      "4 1488\n"
     ]
    },
    {
     "data": {
      "text/plain": [
       "1525"
      ]
     },
     "execution_count": 94,
     "metadata": {},
     "output_type": "execute_result"
    }
   ],
   "source": [
    "cpm_370 = history.groupby('cpm').get_group(370.00)\n",
    "print(cpm_370.hour.min(),cpm_370.hour.max())\n",
    "cpm_370.user_id.nunique()"
   ]
  },
  {
   "cell_type": "code",
   "execution_count": 66,
   "metadata": {},
   "outputs": [
    {
     "data": {
      "text/plain": [
       "array([21530,  1561, 12010, ..., 26778, 16542, 11949], dtype=int64)"
      ]
     },
     "execution_count": 66,
     "metadata": {},
     "output_type": "execute_result"
    }
   ],
   "source": [
    "users_saw_370 = history.groupby('cpm').get_group(370.00).user_id.unique()\n",
    "users_saw_370"
   ]
  },
  {
   "cell_type": "code",
   "execution_count": 60,
   "metadata": {
    "scrolled": true
   },
   "outputs": [
    {
     "data": {
      "text/plain": [
       "1484"
      ]
     },
     "execution_count": 60,
     "metadata": {},
     "output_type": "execute_result"
    }
   ],
   "source": [
    "history.groupby('cpm').get_group(370.00).hour.max() - history.groupby('cpm').get_group(370.00).hour.min()"
   ]
  },
  {
   "cell_type": "code",
   "execution_count": 48,
   "metadata": {
    "collapsed": true
   },
   "outputs": [
    {
     "data": {
      "text/plain": [
       "user_id\n",
       "0                                             [1186, 1217]\n",
       "1        [8, 9, 34, 57, 68, 139, 187, 208, 224, 296, 33...\n",
       "3              [215, 333, 373, 638, 681, 1245, 1284, 1126]\n",
       "4        [11, 17, 43, 64, 70, 58, 83, 82, 72, 113, 132,...\n",
       "5                 [36, 84, 302, 372, 371, 810, 1309, 1453]\n",
       "6        [7, 11, 79, 182, 223, 230, 222, 253, 350, 440,...\n",
       "7        [13, 159, 280, 282, 305, 391, 547, 668, 1134, ...\n",
       "8                                    [188, 217, 765, 1041]\n",
       "9                                          [198, 349, 500]\n",
       "11                       [133, 440, 519, 1094, 1147, 1093]\n",
       "12                                                   [520]\n",
       "13                   [491, 490, 511, 509, 508, 1203, 1204]\n",
       "14                                  [353, 703, 1430, 1217]\n",
       "15                                           [71, 60, 180]\n",
       "16                                  [912, 1063, 1219, 969]\n",
       "18       [21, 19, 31, 46, 47, 75, 292, 300, 451, 511, 5...\n",
       "19                                           [39, 628, 58]\n",
       "20       [13, 19, 16, 40, 34, 31, 50, 67, 73, 94, 79, 1...\n",
       "21               [120, 262, 452, 471, 527, 769, 1286, 786]\n",
       "22       [20, 3, 36, 69, 100, 151, 148, 153, 187, 185, ...\n",
       "23       [43, 94, 77, 166, 174, 176, 170, 171, 191, 205...\n",
       "24       [10, 92, 89, 188, 238, 279, 276, 342, 375, 494...\n",
       "25       [49, 157, 181, 260, 350, 399, 419, 474, 461, 5...\n",
       "26       [89, 132, 139, 186, 193, 225, 231, 259, 372, 4...\n",
       "27       [48, 302, 519, 536, 535, 636, 782, 839, 862, 9...\n",
       "28                                                   [422]\n",
       "29       [46, 71, 77, 102, 178, 214, 255, 251, 274, 270...\n",
       "30       [70, 91, 236, 309, 377, 372, 379, 528, 563, 64...\n",
       "31                                                   [285]\n",
       "32                                             [400, 1053]\n",
       "                               ...                        \n",
       "27735    [15, 5, 19, 11, 36, 69, 60, 82, 90, 87, 116, 1...\n",
       "27736                                         [1184, 1284]\n",
       "27737                            [44, 454, 455, 550, 1071]\n",
       "27739    [7, 42, 119, 115, 118, 140, 186, 201, 208, 226...\n",
       "27740    [14, 37, 38, 62, 81, 114, 116, 109, 111, 107, ...\n",
       "27741                                      [132, 254, 471]\n",
       "27742    [39, 37, 48, 108, 117, 113, 107, 133, 135, 181...\n",
       "27744                                           [802, 808]\n",
       "27745    [81, 138, 164, 188, 211, 259, 381, 379, 383, 7...\n",
       "27746    [201, 275, 297, 322, 372, 417, 593, 711, 665, ...\n",
       "27747    [13, 20, 38, 94, 82, 115, 136, 142, 159, 164, ...\n",
       "27749                   [107, 720, 1233, 1252, 1384, 1216]\n",
       "27750                                                [613]\n",
       "27751                                                [262]\n",
       "27752    [10, 44, 43, 45, 61, 78, 77, 118, 105, 181, 18...\n",
       "27753    [236, 304, 321, 372, 427, 445, 923, 931, 950, ...\n",
       "27755                [95, 165, 261, 790, 1079, 1462, 1140]\n",
       "27756    [120, 212, 276, 297, 380, 394, 396, 448, 478, ...\n",
       "27757                                [129, 132, 812, 1049]\n",
       "27758    [19, 281, 319, 409, 447, 433, 520, 772, 953, 1...\n",
       "27759    [39, 59, 215, 199, 261, 323, 446, 481, 590, 59...\n",
       "27760                     [111, 150, 377, 927, 1194, 1281]\n",
       "27761                          [260, 284, 919, 1269, 1362]\n",
       "27762                                      [212, 297, 693]\n",
       "27763                       [112, 254, 249, 447, 758, 877]\n",
       "27764    [104, 165, 262, 308, 298, 383, 407, 430, 431, ...\n",
       "27765    [41, 66, 54, 149, 248, 345, 387, 439, 483, 510...\n",
       "27766    [46, 42, 63, 66, 64, 89, 91, 264, 353, 379, 40...\n",
       "27767                                                [731]\n",
       "27768    [42, 93, 262, 289, 372, 431, 426, 447, 438, 62...\n",
       "Name: hour, Length: 25536, dtype: object"
      ]
     },
     "execution_count": 48,
     "metadata": {},
     "output_type": "execute_result"
    }
   ],
   "source": [
    "history.groupby('user_id').hour.unique()"
   ]
  },
  {
   "cell_type": "code",
   "execution_count": 26,
   "metadata": {
    "collapsed": true
   },
   "outputs": [
    {
     "data": {
      "text/plain": [
       "publisher\n",
       "1     177.567497\n",
       "2     203.134623\n",
       "3     195.899285\n",
       "4      92.164563\n",
       "5     183.900573\n",
       "6      87.411821\n",
       "7     244.468823\n",
       "8     115.163796\n",
       "9      98.388453\n",
       "10    108.062290\n",
       "11     98.659292\n",
       "12    115.386831\n",
       "13    147.572081\n",
       "14    197.358853\n",
       "15    154.197535\n",
       "16     91.312983\n",
       "17    175.422968\n",
       "18    105.212908\n",
       "19    187.569630\n",
       "20     96.085851\n",
       "21     46.111111\n",
       "Name: cpm, dtype: float64"
      ]
     },
     "execution_count": 26,
     "metadata": {},
     "output_type": "execute_result"
    }
   ],
   "source": [
    "history.groupby('publisher').cpm.mean()"
   ]
  },
  {
   "cell_type": "code",
   "execution_count": 65,
   "metadata": {},
   "outputs": [
    {
     "name": "stdout",
     "output_type": "stream",
     "text": [
      "20\n",
      "hour           12.0\n",
      "cpm           270.0\n",
      "publisher       1.0\n",
      "user_id      2608.0\n",
      "Name: 20, dtype: float64\n"
     ]
    }
   ],
   "source": [
    "for index, row in history.iterrows():\n",
    "    if row.user_id in users_saw_370 and row.cpm != 370.00:\n",
    "        print(index)\n",
    "        print(row)\n",
    "        break"
   ]
  },
  {
   "cell_type": "code",
   "execution_count": 8,
   "metadata": {},
   "outputs": [
    {
     "data": {
      "text/html": [
       "<div>\n",
       "<style scoped>\n",
       "    .dataframe tbody tr th:only-of-type {\n",
       "        vertical-align: middle;\n",
       "    }\n",
       "\n",
       "    .dataframe tbody tr th {\n",
       "        vertical-align: top;\n",
       "    }\n",
       "\n",
       "    .dataframe thead th {\n",
       "        text-align: right;\n",
       "    }\n",
       "</style>\n",
       "<table border=\"1\" class=\"dataframe\">\n",
       "  <thead>\n",
       "    <tr style=\"text-align: right;\">\n",
       "      <th></th>\n",
       "      <th>cpm</th>\n",
       "      <th>hour_start</th>\n",
       "      <th>hour_end</th>\n",
       "      <th>publishers</th>\n",
       "      <th>audience_size</th>\n",
       "      <th>user_ids</th>\n",
       "    </tr>\n",
       "  </thead>\n",
       "  <tbody>\n",
       "    <tr>\n",
       "      <th>0</th>\n",
       "      <td>220.0</td>\n",
       "      <td>1058</td>\n",
       "      <td>1153</td>\n",
       "      <td>7,17</td>\n",
       "      <td>1906</td>\n",
       "      <td>12,44,46,50,58,71,93,122,134,143,176,184,187,1...</td>\n",
       "    </tr>\n",
       "    <tr>\n",
       "      <th>1</th>\n",
       "      <td>312.0</td>\n",
       "      <td>1295</td>\n",
       "      <td>1301</td>\n",
       "      <td>3,18</td>\n",
       "      <td>1380</td>\n",
       "      <td>29,81,98,102,165,167,195,205,218,231,242,263,3...</td>\n",
       "    </tr>\n",
       "    <tr>\n",
       "      <th>2</th>\n",
       "      <td>70.0</td>\n",
       "      <td>1229</td>\n",
       "      <td>1249</td>\n",
       "      <td>1,2,3,9,15,21</td>\n",
       "      <td>888</td>\n",
       "      <td>12,23,25,29,45,85,92,124,156,190,272,334,456,5...</td>\n",
       "    </tr>\n",
       "    <tr>\n",
       "      <th>3</th>\n",
       "      <td>240.0</td>\n",
       "      <td>1295</td>\n",
       "      <td>1377</td>\n",
       "      <td>1,14</td>\n",
       "      <td>440</td>\n",
       "      <td>44,122,187,209,242,255,312,345,382,465,513,524...</td>\n",
       "    </tr>\n",
       "    <tr>\n",
       "      <th>4</th>\n",
       "      <td>262.0</td>\n",
       "      <td>752</td>\n",
       "      <td>990</td>\n",
       "      <td>1,3,7,8</td>\n",
       "      <td>1476</td>\n",
       "      <td>15,24,30,43,50,53,96,105,159,168,181,190,196,2...</td>\n",
       "    </tr>\n",
       "  </tbody>\n",
       "</table>\n",
       "</div>"
      ],
      "text/plain": [
       "     cpm  hour_start  hour_end     publishers  audience_size  \\\n",
       "0  220.0        1058      1153           7,17           1906   \n",
       "1  312.0        1295      1301           3,18           1380   \n",
       "2   70.0        1229      1249  1,2,3,9,15,21            888   \n",
       "3  240.0        1295      1377           1,14            440   \n",
       "4  262.0         752       990        1,3,7,8           1476   \n",
       "\n",
       "                                            user_ids  \n",
       "0  12,44,46,50,58,71,93,122,134,143,176,184,187,1...  \n",
       "1  29,81,98,102,165,167,195,205,218,231,242,263,3...  \n",
       "2  12,23,25,29,45,85,92,124,156,190,272,334,456,5...  \n",
       "3  44,122,187,209,242,255,312,345,382,465,513,524...  \n",
       "4  15,24,30,43,50,53,96,105,159,168,181,190,196,2...  "
      ]
     },
     "execution_count": 8,
     "metadata": {},
     "output_type": "execute_result"
    }
   ],
   "source": [
    "validate.head()"
   ]
  },
  {
   "cell_type": "code",
   "execution_count": 178,
   "metadata": {},
   "outputs": [],
   "source": [
    "cnt_publisher = {}\n",
    "for i in validate.publishers.apply(lambda x: x.split(',')):\n",
    "    for publisher in i:\n",
    "        cnt_publisher[publisher] = cnt_publisher.get(publisher, 0) + 1\n",
    "cnt_publisher = pd.Series(cnt_publisher)\n",
    "cnt_publisher.index = pd.Series(cnt_publisher.index).apply(int)\n",
    "cnt_publisher = cnt_publisher.sort_index()"
   ]
  },
  {
   "cell_type": "code",
   "execution_count": 179,
   "metadata": {
    "collapsed": true
   },
   "outputs": [
    {
     "data": {
      "text/plain": [
       "1     482\n",
       "2     531\n",
       "3     499\n",
       "4      83\n",
       "5      82\n",
       "6      86\n",
       "7     493\n",
       "8      95\n",
       "9      98\n",
       "10     76\n",
       "11    106\n",
       "12     83\n",
       "13     81\n",
       "14     76\n",
       "15     72\n",
       "16     73\n",
       "17     89\n",
       "18     91\n",
       "19    102\n",
       "20    100\n",
       "21     82\n",
       "dtype: int64"
      ]
     },
     "execution_count": 179,
     "metadata": {},
     "output_type": "execute_result"
    }
   ],
   "source": [
    "cnt_publisher"
   ]
  },
  {
   "cell_type": "code",
   "execution_count": 173,
   "metadata": {
    "collapsed": true
   },
   "outputs": [
    {
     "data": {
      "text/html": [
       "<div>\n",
       "<style scoped>\n",
       "    .dataframe tbody tr th:only-of-type {\n",
       "        vertical-align: middle;\n",
       "    }\n",
       "\n",
       "    .dataframe tbody tr th {\n",
       "        vertical-align: top;\n",
       "    }\n",
       "\n",
       "    .dataframe thead th {\n",
       "        text-align: right;\n",
       "    }\n",
       "</style>\n",
       "<table border=\"1\" class=\"dataframe\">\n",
       "  <thead>\n",
       "    <tr style=\"text-align: right;\">\n",
       "      <th></th>\n",
       "      <th>cpm</th>\n",
       "      <th>hour_start</th>\n",
       "      <th>hour_end</th>\n",
       "      <th>publishers</th>\n",
       "      <th>audience_size</th>\n",
       "      <th>user_ids</th>\n",
       "    </tr>\n",
       "  </thead>\n",
       "  <tbody>\n",
       "    <tr>\n",
       "      <th>78</th>\n",
       "      <td>30.0</td>\n",
       "      <td>893</td>\n",
       "      <td>1258</td>\n",
       "      <td>2,7</td>\n",
       "      <td>736</td>\n",
       "      <td>15,43,50,181,190,196,228,255,281,304,313,329,4...</td>\n",
       "    </tr>\n",
       "    <tr>\n",
       "      <th>92</th>\n",
       "      <td>30.0</td>\n",
       "      <td>1149</td>\n",
       "      <td>1266</td>\n",
       "      <td>1,2,11</td>\n",
       "      <td>424</td>\n",
       "      <td>44,58,187,194,257,312,329,339,355,359,376,521,...</td>\n",
       "    </tr>\n",
       "    <tr>\n",
       "      <th>177</th>\n",
       "      <td>30.0</td>\n",
       "      <td>1141</td>\n",
       "      <td>1144</td>\n",
       "      <td>3,5,6,11</td>\n",
       "      <td>2400</td>\n",
       "      <td>3,12,22,27,29,47,60,62,71,72,80,81,82,97,99,10...</td>\n",
       "    </tr>\n",
       "    <tr>\n",
       "      <th>190</th>\n",
       "      <td>30.0</td>\n",
       "      <td>802</td>\n",
       "      <td>856</td>\n",
       "      <td>3,6,7</td>\n",
       "      <td>608</td>\n",
       "      <td>26,77,83,132,189,224,300,370,416,452,492,522,5...</td>\n",
       "    </tr>\n",
       "    <tr>\n",
       "      <th>247</th>\n",
       "      <td>30.0</td>\n",
       "      <td>1367</td>\n",
       "      <td>1375</td>\n",
       "      <td>1,8,14</td>\n",
       "      <td>1210</td>\n",
       "      <td>67,73,80,146,182,202,212,254,307,377,383,385,3...</td>\n",
       "    </tr>\n",
       "    <tr>\n",
       "      <th>298</th>\n",
       "      <td>30.0</td>\n",
       "      <td>866</td>\n",
       "      <td>960</td>\n",
       "      <td>1,13</td>\n",
       "      <td>960</td>\n",
       "      <td>41,106,257,267,273,345,359,377,412,420,450,509...</td>\n",
       "    </tr>\n",
       "    <tr>\n",
       "      <th>312</th>\n",
       "      <td>30.0</td>\n",
       "      <td>1425</td>\n",
       "      <td>1449</td>\n",
       "      <td>2,3,17</td>\n",
       "      <td>1152</td>\n",
       "      <td>3,11,55,59,65,69,71,72,107,132,133,137,157,192...</td>\n",
       "    </tr>\n",
       "    <tr>\n",
       "      <th>318</th>\n",
       "      <td>30.0</td>\n",
       "      <td>802</td>\n",
       "      <td>1140</td>\n",
       "      <td>1,2,3,4,5,11</td>\n",
       "      <td>432</td>\n",
       "      <td>7,13,62,106,191,247,293,352,405,439,466,496,57...</td>\n",
       "    </tr>\n",
       "    <tr>\n",
       "      <th>395</th>\n",
       "      <td>30.0</td>\n",
       "      <td>1035</td>\n",
       "      <td>1046</td>\n",
       "      <td>1,5</td>\n",
       "      <td>1488</td>\n",
       "      <td>2,15,25,34,38,42,48,75,79,96,110,113,133,141,1...</td>\n",
       "    </tr>\n",
       "    <tr>\n",
       "      <th>419</th>\n",
       "      <td>30.0</td>\n",
       "      <td>852</td>\n",
       "      <td>856</td>\n",
       "      <td>1</td>\n",
       "      <td>632</td>\n",
       "      <td>4,6,14,94,120,146,210,244,351,428,441,455,464,...</td>\n",
       "    </tr>\n",
       "    <tr>\n",
       "      <th>447</th>\n",
       "      <td>30.0</td>\n",
       "      <td>1265</td>\n",
       "      <td>1303</td>\n",
       "      <td>1,4,9</td>\n",
       "      <td>1392</td>\n",
       "      <td>24,40,52,53,57,68,87,92,120,170,172,192,197,22...</td>\n",
       "    </tr>\n",
       "    <tr>\n",
       "      <th>468</th>\n",
       "      <td>30.0</td>\n",
       "      <td>929</td>\n",
       "      <td>935</td>\n",
       "      <td>1,2,7,11,12</td>\n",
       "      <td>1380</td>\n",
       "      <td>63,78,116,162,167,180,201,222,233,264,271,272,...</td>\n",
       "    </tr>\n",
       "    <tr>\n",
       "      <th>470</th>\n",
       "      <td>30.0</td>\n",
       "      <td>993</td>\n",
       "      <td>1131</td>\n",
       "      <td>1</td>\n",
       "      <td>1800</td>\n",
       "      <td>2,17,28,35,36,46,66,90,156,213,226,228,232,239...</td>\n",
       "    </tr>\n",
       "    <tr>\n",
       "      <th>501</th>\n",
       "      <td>30.0</td>\n",
       "      <td>767</td>\n",
       "      <td>1009</td>\n",
       "      <td>5,7</td>\n",
       "      <td>388</td>\n",
       "      <td>107,211,328,329,579,622,629,670,684,721,818,95...</td>\n",
       "    </tr>\n",
       "    <tr>\n",
       "      <th>526</th>\n",
       "      <td>30.0</td>\n",
       "      <td>1334</td>\n",
       "      <td>1382</td>\n",
       "      <td>2,7,13,14,16</td>\n",
       "      <td>680</td>\n",
       "      <td>14,32,43,79,112,144,163,269,271,273,338,426,43...</td>\n",
       "    </tr>\n",
       "    <tr>\n",
       "      <th>532</th>\n",
       "      <td>30.0</td>\n",
       "      <td>1361</td>\n",
       "      <td>1369</td>\n",
       "      <td>1,2,5,12,19</td>\n",
       "      <td>392</td>\n",
       "      <td>7,379,406,457,470,504,547,650,711,728,824,934,...</td>\n",
       "    </tr>\n",
       "    <tr>\n",
       "      <th>598</th>\n",
       "      <td>30.0</td>\n",
       "      <td>1014</td>\n",
       "      <td>1020</td>\n",
       "      <td>1,2</td>\n",
       "      <td>784</td>\n",
       "      <td>38,63,78,104,133,231,271,278,347,528,530,535,5...</td>\n",
       "    </tr>\n",
       "    <tr>\n",
       "      <th>627</th>\n",
       "      <td>30.0</td>\n",
       "      <td>789</td>\n",
       "      <td>862</td>\n",
       "      <td>2,3,7,11,13,20</td>\n",
       "      <td>1380</td>\n",
       "      <td>2,36,70,90,96,143,156,213,219,226,228,232,248,...</td>\n",
       "    </tr>\n",
       "    <tr>\n",
       "      <th>643</th>\n",
       "      <td>30.0</td>\n",
       "      <td>852</td>\n",
       "      <td>1275</td>\n",
       "      <td>1,7,14</td>\n",
       "      <td>696</td>\n",
       "      <td>5,21,39,64,72,141,157,208,218,238,241,251,272,...</td>\n",
       "    </tr>\n",
       "    <tr>\n",
       "      <th>651</th>\n",
       "      <td>30.0</td>\n",
       "      <td>1060</td>\n",
       "      <td>1254</td>\n",
       "      <td>1,2,7</td>\n",
       "      <td>1800</td>\n",
       "      <td>8,38,41,42,58,75,87,114,120,125,140,154,174,18...</td>\n",
       "    </tr>\n",
       "    <tr>\n",
       "      <th>652</th>\n",
       "      <td>30.0</td>\n",
       "      <td>1444</td>\n",
       "      <td>1478</td>\n",
       "      <td>1,2,5,7,9,11</td>\n",
       "      <td>744</td>\n",
       "      <td>51,53,138,202,246,287,290,304,324,332,379,406,...</td>\n",
       "    </tr>\n",
       "    <tr>\n",
       "      <th>660</th>\n",
       "      <td>30.0</td>\n",
       "      <td>937</td>\n",
       "      <td>1403</td>\n",
       "      <td>7,12</td>\n",
       "      <td>996</td>\n",
       "      <td>5,14,49,67,143,158,172,173,281,342,381,387,419...</td>\n",
       "    </tr>\n",
       "    <tr>\n",
       "      <th>671</th>\n",
       "      <td>30.0</td>\n",
       "      <td>1303</td>\n",
       "      <td>1467</td>\n",
       "      <td>7,8</td>\n",
       "      <td>1080</td>\n",
       "      <td>3,23,53,135,297,303,320,323,332,374,379,390,40...</td>\n",
       "    </tr>\n",
       "    <tr>\n",
       "      <th>688</th>\n",
       "      <td>30.0</td>\n",
       "      <td>938</td>\n",
       "      <td>1267</td>\n",
       "      <td>2,3,7,13,14,19</td>\n",
       "      <td>2240</td>\n",
       "      <td>13,27,40,52,66,70,97,138,164,171,186,190,194,2...</td>\n",
       "    </tr>\n",
       "    <tr>\n",
       "      <th>691</th>\n",
       "      <td>30.0</td>\n",
       "      <td>937</td>\n",
       "      <td>1018</td>\n",
       "      <td>1,7</td>\n",
       "      <td>1232</td>\n",
       "      <td>9,28,34,51,167,186,202,232,236,246,260,311,320...</td>\n",
       "    </tr>\n",
       "    <tr>\n",
       "      <th>699</th>\n",
       "      <td>30.0</td>\n",
       "      <td>1228</td>\n",
       "      <td>1230</td>\n",
       "      <td>2,3,7,19,20</td>\n",
       "      <td>400</td>\n",
       "      <td>107,158,377,493,712,772,854,938,964,1006,1051,...</td>\n",
       "    </tr>\n",
       "    <tr>\n",
       "      <th>705</th>\n",
       "      <td>30.0</td>\n",
       "      <td>927</td>\n",
       "      <td>1027</td>\n",
       "      <td>1,2,3,12,13</td>\n",
       "      <td>380</td>\n",
       "      <td>23,78,81,114,165,222,285,348,392,412,416,438,4...</td>\n",
       "    </tr>\n",
       "    <tr>\n",
       "      <th>724</th>\n",
       "      <td>30.0</td>\n",
       "      <td>1429</td>\n",
       "      <td>1433</td>\n",
       "      <td>2,3,17</td>\n",
       "      <td>2380</td>\n",
       "      <td>8,17,27,39,45,56,67,107,120,124,128,129,132,13...</td>\n",
       "    </tr>\n",
       "    <tr>\n",
       "      <th>749</th>\n",
       "      <td>30.0</td>\n",
       "      <td>971</td>\n",
       "      <td>977</td>\n",
       "      <td>2,3,8</td>\n",
       "      <td>984</td>\n",
       "      <td>7,48,95,115,157,158,182,190,203,223,253,258,26...</td>\n",
       "    </tr>\n",
       "    <tr>\n",
       "      <th>800</th>\n",
       "      <td>30.0</td>\n",
       "      <td>1029</td>\n",
       "      <td>1336</td>\n",
       "      <td>1,2,5,7,8,20</td>\n",
       "      <td>360</td>\n",
       "      <td>128,290,356,489,606,638,642,686,815,825,847,85...</td>\n",
       "    </tr>\n",
       "    <tr>\n",
       "      <th>808</th>\n",
       "      <td>30.0</td>\n",
       "      <td>1125</td>\n",
       "      <td>1374</td>\n",
       "      <td>2,3,7,15</td>\n",
       "      <td>1488</td>\n",
       "      <td>4,20,48,63,78,81,103,114,132,167,242,264,271,3...</td>\n",
       "    </tr>\n",
       "    <tr>\n",
       "      <th>823</th>\n",
       "      <td>30.0</td>\n",
       "      <td>785</td>\n",
       "      <td>795</td>\n",
       "      <td>1,2,7</td>\n",
       "      <td>776</td>\n",
       "      <td>22,87,91,184,196,203,353,475,496,516,524,532,5...</td>\n",
       "    </tr>\n",
       "    <tr>\n",
       "      <th>859</th>\n",
       "      <td>30.0</td>\n",
       "      <td>1190</td>\n",
       "      <td>1217</td>\n",
       "      <td>3,7</td>\n",
       "      <td>1740</td>\n",
       "      <td>2,10,28,32,35,66,107,173,207,215,220,226,228,2...</td>\n",
       "    </tr>\n",
       "    <tr>\n",
       "      <th>870</th>\n",
       "      <td>30.0</td>\n",
       "      <td>909</td>\n",
       "      <td>934</td>\n",
       "      <td>2,3,7,11</td>\n",
       "      <td>784</td>\n",
       "      <td>66,156,215,219,220,256,302,377,398,421,473,517...</td>\n",
       "    </tr>\n",
       "    <tr>\n",
       "      <th>871</th>\n",
       "      <td>30.0</td>\n",
       "      <td>1224</td>\n",
       "      <td>1244</td>\n",
       "      <td>1,3,7,13,20</td>\n",
       "      <td>1200</td>\n",
       "      <td>9,31,98,122,129,130,151,154,174,176,203,213,22...</td>\n",
       "    </tr>\n",
       "    <tr>\n",
       "      <th>910</th>\n",
       "      <td>30.0</td>\n",
       "      <td>1279</td>\n",
       "      <td>1310</td>\n",
       "      <td>3,4,7,10,19</td>\n",
       "      <td>2180</td>\n",
       "      <td>1,10,27,33,36,37,38,138,143,158,207,239,263,28...</td>\n",
       "    </tr>\n",
       "    <tr>\n",
       "      <th>921</th>\n",
       "      <td>30.0</td>\n",
       "      <td>1073</td>\n",
       "      <td>1144</td>\n",
       "      <td>1,7,10,18</td>\n",
       "      <td>356</td>\n",
       "      <td>3,26,27,83,171,224,269,452,553,628,737,839,921...</td>\n",
       "    </tr>\n",
       "    <tr>\n",
       "      <th>969</th>\n",
       "      <td>30.0</td>\n",
       "      <td>772</td>\n",
       "      <td>778</td>\n",
       "      <td>2,3,8,21</td>\n",
       "      <td>840</td>\n",
       "      <td>61,80,173,225,238,258,273,274,303,307,321,377,...</td>\n",
       "    </tr>\n",
       "    <tr>\n",
       "      <th>985</th>\n",
       "      <td>30.0</td>\n",
       "      <td>1241</td>\n",
       "      <td>1255</td>\n",
       "      <td>2,3,8,10</td>\n",
       "      <td>440</td>\n",
       "      <td>33,143,239,317,359,414,541,744,798,863,966,109...</td>\n",
       "    </tr>\n",
       "    <tr>\n",
       "      <th>998</th>\n",
       "      <td>30.0</td>\n",
       "      <td>1099</td>\n",
       "      <td>1185</td>\n",
       "      <td>1</td>\n",
       "      <td>976</td>\n",
       "      <td>67,80,146,182,202,307,377,383,385,393,438,517,...</td>\n",
       "    </tr>\n",
       "  </tbody>\n",
       "</table>\n",
       "</div>"
      ],
      "text/plain": [
       "      cpm  hour_start  hour_end      publishers  audience_size  \\\n",
       "78   30.0         893      1258             2,7            736   \n",
       "92   30.0        1149      1266          1,2,11            424   \n",
       "177  30.0        1141      1144        3,5,6,11           2400   \n",
       "190  30.0         802       856           3,6,7            608   \n",
       "247  30.0        1367      1375          1,8,14           1210   \n",
       "298  30.0         866       960            1,13            960   \n",
       "312  30.0        1425      1449          2,3,17           1152   \n",
       "318  30.0         802      1140    1,2,3,4,5,11            432   \n",
       "395  30.0        1035      1046             1,5           1488   \n",
       "419  30.0         852       856               1            632   \n",
       "447  30.0        1265      1303           1,4,9           1392   \n",
       "468  30.0         929       935     1,2,7,11,12           1380   \n",
       "470  30.0         993      1131               1           1800   \n",
       "501  30.0         767      1009             5,7            388   \n",
       "526  30.0        1334      1382    2,7,13,14,16            680   \n",
       "532  30.0        1361      1369     1,2,5,12,19            392   \n",
       "598  30.0        1014      1020             1,2            784   \n",
       "627  30.0         789       862  2,3,7,11,13,20           1380   \n",
       "643  30.0         852      1275          1,7,14            696   \n",
       "651  30.0        1060      1254           1,2,7           1800   \n",
       "652  30.0        1444      1478    1,2,5,7,9,11            744   \n",
       "660  30.0         937      1403            7,12            996   \n",
       "671  30.0        1303      1467             7,8           1080   \n",
       "688  30.0         938      1267  2,3,7,13,14,19           2240   \n",
       "691  30.0         937      1018             1,7           1232   \n",
       "699  30.0        1228      1230     2,3,7,19,20            400   \n",
       "705  30.0         927      1027     1,2,3,12,13            380   \n",
       "724  30.0        1429      1433          2,3,17           2380   \n",
       "749  30.0         971       977           2,3,8            984   \n",
       "800  30.0        1029      1336    1,2,5,7,8,20            360   \n",
       "808  30.0        1125      1374        2,3,7,15           1488   \n",
       "823  30.0         785       795           1,2,7            776   \n",
       "859  30.0        1190      1217             3,7           1740   \n",
       "870  30.0         909       934        2,3,7,11            784   \n",
       "871  30.0        1224      1244     1,3,7,13,20           1200   \n",
       "910  30.0        1279      1310     3,4,7,10,19           2180   \n",
       "921  30.0        1073      1144       1,7,10,18            356   \n",
       "969  30.0         772       778        2,3,8,21            840   \n",
       "985  30.0        1241      1255        2,3,8,10            440   \n",
       "998  30.0        1099      1185               1            976   \n",
       "\n",
       "                                              user_ids  \n",
       "78   15,43,50,181,190,196,228,255,281,304,313,329,4...  \n",
       "92   44,58,187,194,257,312,329,339,355,359,376,521,...  \n",
       "177  3,12,22,27,29,47,60,62,71,72,80,81,82,97,99,10...  \n",
       "190  26,77,83,132,189,224,300,370,416,452,492,522,5...  \n",
       "247  67,73,80,146,182,202,212,254,307,377,383,385,3...  \n",
       "298  41,106,257,267,273,345,359,377,412,420,450,509...  \n",
       "312  3,11,55,59,65,69,71,72,107,132,133,137,157,192...  \n",
       "318  7,13,62,106,191,247,293,352,405,439,466,496,57...  \n",
       "395  2,15,25,34,38,42,48,75,79,96,110,113,133,141,1...  \n",
       "419  4,6,14,94,120,146,210,244,351,428,441,455,464,...  \n",
       "447  24,40,52,53,57,68,87,92,120,170,172,192,197,22...  \n",
       "468  63,78,116,162,167,180,201,222,233,264,271,272,...  \n",
       "470  2,17,28,35,36,46,66,90,156,213,226,228,232,239...  \n",
       "501  107,211,328,329,579,622,629,670,684,721,818,95...  \n",
       "526  14,32,43,79,112,144,163,269,271,273,338,426,43...  \n",
       "532  7,379,406,457,470,504,547,650,711,728,824,934,...  \n",
       "598  38,63,78,104,133,231,271,278,347,528,530,535,5...  \n",
       "627  2,36,70,90,96,143,156,213,219,226,228,232,248,...  \n",
       "643  5,21,39,64,72,141,157,208,218,238,241,251,272,...  \n",
       "651  8,38,41,42,58,75,87,114,120,125,140,154,174,18...  \n",
       "652  51,53,138,202,246,287,290,304,324,332,379,406,...  \n",
       "660  5,14,49,67,143,158,172,173,281,342,381,387,419...  \n",
       "671  3,23,53,135,297,303,320,323,332,374,379,390,40...  \n",
       "688  13,27,40,52,66,70,97,138,164,171,186,190,194,2...  \n",
       "691  9,28,34,51,167,186,202,232,236,246,260,311,320...  \n",
       "699  107,158,377,493,712,772,854,938,964,1006,1051,...  \n",
       "705  23,78,81,114,165,222,285,348,392,412,416,438,4...  \n",
       "724  8,17,27,39,45,56,67,107,120,124,128,129,132,13...  \n",
       "749  7,48,95,115,157,158,182,190,203,223,253,258,26...  \n",
       "800  128,290,356,489,606,638,642,686,815,825,847,85...  \n",
       "808  4,20,48,63,78,81,103,114,132,167,242,264,271,3...  \n",
       "823  22,87,91,184,196,203,353,475,496,516,524,532,5...  \n",
       "859  2,10,28,32,35,66,107,173,207,215,220,226,228,2...  \n",
       "870  66,156,215,219,220,256,302,377,398,421,473,517...  \n",
       "871  9,31,98,122,129,130,151,154,174,176,203,213,22...  \n",
       "910  1,10,27,33,36,37,38,138,143,158,207,239,263,28...  \n",
       "921  3,26,27,83,171,224,269,452,553,628,737,839,921...  \n",
       "969  61,80,173,225,238,258,273,274,303,307,321,377,...  \n",
       "985  33,143,239,317,359,414,541,744,798,863,966,109...  \n",
       "998  67,80,146,182,202,307,377,383,385,393,438,517,...  "
      ]
     },
     "execution_count": 173,
     "metadata": {},
     "output_type": "execute_result"
    }
   ],
   "source": [
    "validate[validate.cpm == 30.0]"
   ]
  },
  {
   "cell_type": "code",
   "execution_count": 80,
   "metadata": {},
   "outputs": [
    {
     "data": {
      "text/plain": [
       "82"
      ]
     },
     "execution_count": 80,
     "metadata": {},
     "output_type": "execute_result"
    }
   ],
   "source": [
    "sum(['12' in validate.user_ids[i].split(',') for i in validate.index])"
   ]
  },
  {
   "cell_type": "code",
   "execution_count": 45,
   "metadata": {
    "collapsed": true
   },
   "outputs": [
    {
     "data": {
      "text/plain": [
       "<matplotlib.axes._subplots.AxesSubplot at 0x14929909550>"
      ]
     },
     "execution_count": 45,
     "metadata": {},
     "output_type": "execute_result"
    },
    {
     "data": {
      "image/png": "[encoded data removed]",
      "text/plain": [
       "<Figure size 432x288 with 1 Axes>"
      ]
     },
     "metadata": {
      "needs_background": "light"
     },
     "output_type": "display_data"
    }
   ],
   "source": [
    "#x = validate.cpm\n",
    "#y =  validate.cpm.unique()\n",
    "validate.cpm.hist()"
   ]
  },
  {
   "cell_type": "code",
   "execution_count": 40,
   "metadata": {
    "collapsed": true
   },
   "outputs": [
    {
     "data": {
      "text/plain": [
       "cpm                                                            307\n",
       "hour_start                                                    1313\n",
       "hour_end                                                      1367\n",
       "publishers                                                 1,2,3,8\n",
       "audience_size                                                 2500\n",
       "user_ids         4,20,38,48,63,78,81,83,103,104,116,132,133,162...\n",
       "Name: 939, dtype: object"
      ]
     },
     "execution_count": 40,
     "metadata": {},
     "output_type": "execute_result"
    }
   ],
   "source": [
    "validate.iloc[939, :]"
   ]
  },
  {
   "cell_type": "code",
   "execution_count": 39,
   "metadata": {},
   "outputs": [
    {
     "data": {
      "text/plain": [
       "(1008, 6)"
      ]
     },
     "execution_count": 39,
     "metadata": {},
     "output_type": "execute_result"
    }
   ],
   "source": [
    "validate.shape"
   ]
  },
  {
   "cell_type": "code",
   "execution_count": 24,
   "metadata": {},
   "outputs": [
    {
     "data": {
      "text/plain": [
       "(1488, 747)"
      ]
     },
     "execution_count": 24,
     "metadata": {},
     "output_type": "execute_result"
    }
   ],
   "source": [
    "validate.hour_end.max(), validate.hour_start.min()"
   ]
  },
  {
   "cell_type": "code",
   "execution_count": 9,
   "metadata": {},
   "outputs": [
    {
     "data": {
      "text/html": [
       "<div>\n",
       "<style scoped>\n",
       "    .dataframe tbody tr th:only-of-type {\n",
       "        vertical-align: middle;\n",
       "    }\n",
       "\n",
       "    .dataframe tbody tr th {\n",
       "        vertical-align: top;\n",
       "    }\n",
       "\n",
       "    .dataframe thead th {\n",
       "        text-align: right;\n",
       "    }\n",
       "</style>\n",
       "<table border=\"1\" class=\"dataframe\">\n",
       "  <thead>\n",
       "    <tr style=\"text-align: right;\">\n",
       "      <th></th>\n",
       "      <th>at_least_one</th>\n",
       "      <th>at_least_two</th>\n",
       "      <th>at_least_three</th>\n",
       "    </tr>\n",
       "  </thead>\n",
       "  <tbody>\n",
       "    <tr>\n",
       "      <th>0</th>\n",
       "      <td>0.0430</td>\n",
       "      <td>0.0152</td>\n",
       "      <td>0.0073</td>\n",
       "    </tr>\n",
       "    <tr>\n",
       "      <th>1</th>\n",
       "      <td>0.0130</td>\n",
       "      <td>0.0000</td>\n",
       "      <td>0.0000</td>\n",
       "    </tr>\n",
       "    <tr>\n",
       "      <th>2</th>\n",
       "      <td>0.0878</td>\n",
       "      <td>0.0135</td>\n",
       "      <td>0.0000</td>\n",
       "    </tr>\n",
       "    <tr>\n",
       "      <th>3</th>\n",
       "      <td>0.2295</td>\n",
       "      <td>0.1295</td>\n",
       "      <td>0.0727</td>\n",
       "    </tr>\n",
       "    <tr>\n",
       "      <th>4</th>\n",
       "      <td>0.3963</td>\n",
       "      <td>0.2785</td>\n",
       "      <td>0.2270</td>\n",
       "    </tr>\n",
       "  </tbody>\n",
       "</table>\n",
       "</div>"
      ],
      "text/plain": [
       "   at_least_one  at_least_two  at_least_three\n",
       "0        0.0430        0.0152          0.0073\n",
       "1        0.0130        0.0000          0.0000\n",
       "2        0.0878        0.0135          0.0000\n",
       "3        0.2295        0.1295          0.0727\n",
       "4        0.3963        0.2785          0.2270"
      ]
     },
     "execution_count": 9,
     "metadata": {},
     "output_type": "execute_result"
    }
   ],
   "source": [
    "validate_answers.head()"
   ]
  },
  {
   "cell_type": "code",
   "execution_count": 102,
   "metadata": {},
   "outputs": [
    {
     "data": {
      "text/plain": [
       "at_least_one      0.0177\n",
       "at_least_two      0.0068\n",
       "at_least_three    0.0027\n",
       "Name: 78, dtype: float64"
      ]
     },
     "execution_count": 102,
     "metadata": {},
     "output_type": "execute_result"
    }
   ],
   "source": [
    "validate_answers.iloc[78, :]"
   ]
  },
  {
   "cell_type": "code",
   "execution_count": 33,
   "metadata": {},
   "outputs": [
    {
     "data": {
      "text/plain": [
       "(1008, 3)"
      ]
     },
     "execution_count": 33,
     "metadata": {},
     "output_type": "execute_result"
    }
   ],
   "source": [
    "validate_answers.shape"
   ]
  },
  {
   "cell_type": "code",
   "execution_count": 36,
   "metadata": {
    "collapsed": true
   },
   "outputs": [
    {
     "data": {
      "text/html": [
       "<div>\n",
       "<style scoped>\n",
       "    .dataframe tbody tr th:only-of-type {\n",
       "        vertical-align: middle;\n",
       "    }\n",
       "\n",
       "    .dataframe tbody tr th {\n",
       "        vertical-align: top;\n",
       "    }\n",
       "\n",
       "    .dataframe thead th {\n",
       "        text-align: right;\n",
       "    }\n",
       "</style>\n",
       "<table border=\"1\" class=\"dataframe\">\n",
       "  <thead>\n",
       "    <tr style=\"text-align: right;\">\n",
       "      <th></th>\n",
       "      <th>at_least_one</th>\n",
       "      <th>at_least_two</th>\n",
       "      <th>at_least_three</th>\n",
       "    </tr>\n",
       "  </thead>\n",
       "  <tbody>\n",
       "    <tr>\n",
       "      <th>21</th>\n",
       "      <td>0.5087</td>\n",
       "      <td>0.3746</td>\n",
       "      <td>0.2928</td>\n",
       "    </tr>\n",
       "    <tr>\n",
       "      <th>25</th>\n",
       "      <td>0.5190</td>\n",
       "      <td>0.3956</td>\n",
       "      <td>0.3133</td>\n",
       "    </tr>\n",
       "    <tr>\n",
       "      <th>49</th>\n",
       "      <td>0.5538</td>\n",
       "      <td>0.4615</td>\n",
       "      <td>0.4064</td>\n",
       "    </tr>\n",
       "    <tr>\n",
       "      <th>197</th>\n",
       "      <td>0.5034</td>\n",
       "      <td>0.3795</td>\n",
       "      <td>0.3120</td>\n",
       "    </tr>\n",
       "    <tr>\n",
       "      <th>206</th>\n",
       "      <td>0.5303</td>\n",
       "      <td>0.4405</td>\n",
       "      <td>0.3859</td>\n",
       "    </tr>\n",
       "    <tr>\n",
       "      <th>226</th>\n",
       "      <td>0.8500</td>\n",
       "      <td>0.7622</td>\n",
       "      <td>0.6733</td>\n",
       "    </tr>\n",
       "    <tr>\n",
       "      <th>227</th>\n",
       "      <td>0.6235</td>\n",
       "      <td>0.5529</td>\n",
       "      <td>0.4588</td>\n",
       "    </tr>\n",
       "    <tr>\n",
       "      <th>237</th>\n",
       "      <td>0.5602</td>\n",
       "      <td>0.4578</td>\n",
       "      <td>0.3735</td>\n",
       "    </tr>\n",
       "    <tr>\n",
       "      <th>310</th>\n",
       "      <td>0.5658</td>\n",
       "      <td>0.4408</td>\n",
       "      <td>0.3980</td>\n",
       "    </tr>\n",
       "    <tr>\n",
       "      <th>335</th>\n",
       "      <td>0.5071</td>\n",
       "      <td>0.3624</td>\n",
       "      <td>0.2901</td>\n",
       "    </tr>\n",
       "    <tr>\n",
       "      <th>340</th>\n",
       "      <td>0.5403</td>\n",
       "      <td>0.4381</td>\n",
       "      <td>0.3733</td>\n",
       "    </tr>\n",
       "    <tr>\n",
       "      <th>376</th>\n",
       "      <td>0.7743</td>\n",
       "      <td>0.6715</td>\n",
       "      <td>0.5955</td>\n",
       "    </tr>\n",
       "    <tr>\n",
       "      <th>426</th>\n",
       "      <td>0.5631</td>\n",
       "      <td>0.4564</td>\n",
       "      <td>0.3754</td>\n",
       "    </tr>\n",
       "    <tr>\n",
       "      <th>436</th>\n",
       "      <td>0.5193</td>\n",
       "      <td>0.4165</td>\n",
       "      <td>0.3631</td>\n",
       "    </tr>\n",
       "    <tr>\n",
       "      <th>473</th>\n",
       "      <td>0.6576</td>\n",
       "      <td>0.6196</td>\n",
       "      <td>0.5707</td>\n",
       "    </tr>\n",
       "    <tr>\n",
       "      <th>556</th>\n",
       "      <td>0.6392</td>\n",
       "      <td>0.6329</td>\n",
       "      <td>0.6234</td>\n",
       "    </tr>\n",
       "    <tr>\n",
       "      <th>564</th>\n",
       "      <td>0.5247</td>\n",
       "      <td>0.4099</td>\n",
       "      <td>0.3529</td>\n",
       "    </tr>\n",
       "    <tr>\n",
       "      <th>583</th>\n",
       "      <td>0.6883</td>\n",
       "      <td>0.6167</td>\n",
       "      <td>0.5483</td>\n",
       "    </tr>\n",
       "    <tr>\n",
       "      <th>629</th>\n",
       "      <td>0.8819</td>\n",
       "      <td>0.8159</td>\n",
       "      <td>0.7692</td>\n",
       "    </tr>\n",
       "    <tr>\n",
       "      <th>655</th>\n",
       "      <td>0.5879</td>\n",
       "      <td>0.4592</td>\n",
       "      <td>0.3787</td>\n",
       "    </tr>\n",
       "    <tr>\n",
       "      <th>678</th>\n",
       "      <td>0.5593</td>\n",
       "      <td>0.4253</td>\n",
       "      <td>0.3582</td>\n",
       "    </tr>\n",
       "    <tr>\n",
       "      <th>767</th>\n",
       "      <td>0.5083</td>\n",
       "      <td>0.3946</td>\n",
       "      <td>0.3285</td>\n",
       "    </tr>\n",
       "    <tr>\n",
       "      <th>771</th>\n",
       "      <td>0.6474</td>\n",
       "      <td>0.5878</td>\n",
       "      <td>0.5311</td>\n",
       "    </tr>\n",
       "    <tr>\n",
       "      <th>831</th>\n",
       "      <td>0.9307</td>\n",
       "      <td>0.9097</td>\n",
       "      <td>0.8834</td>\n",
       "    </tr>\n",
       "    <tr>\n",
       "      <th>894</th>\n",
       "      <td>0.5278</td>\n",
       "      <td>0.4316</td>\n",
       "      <td>0.3725</td>\n",
       "    </tr>\n",
       "    <tr>\n",
       "      <th>901</th>\n",
       "      <td>0.6500</td>\n",
       "      <td>0.5891</td>\n",
       "      <td>0.5340</td>\n",
       "    </tr>\n",
       "    <tr>\n",
       "      <th>932</th>\n",
       "      <td>0.5275</td>\n",
       "      <td>0.3956</td>\n",
       "      <td>0.3214</td>\n",
       "    </tr>\n",
       "    <tr>\n",
       "      <th>939</th>\n",
       "      <td>0.9016</td>\n",
       "      <td>0.7492</td>\n",
       "      <td>0.4900</td>\n",
       "    </tr>\n",
       "    <tr>\n",
       "      <th>948</th>\n",
       "      <td>0.6085</td>\n",
       "      <td>0.4690</td>\n",
       "      <td>0.3129</td>\n",
       "    </tr>\n",
       "    <tr>\n",
       "      <th>962</th>\n",
       "      <td>0.5559</td>\n",
       "      <td>0.4559</td>\n",
       "      <td>0.3812</td>\n",
       "    </tr>\n",
       "  </tbody>\n",
       "</table>\n",
       "</div>"
      ],
      "text/plain": [
       "     at_least_one  at_least_two  at_least_three\n",
       "21         0.5087        0.3746          0.2928\n",
       "25         0.5190        0.3956          0.3133\n",
       "49         0.5538        0.4615          0.4064\n",
       "197        0.5034        0.3795          0.3120\n",
       "206        0.5303        0.4405          0.3859\n",
       "226        0.8500        0.7622          0.6733\n",
       "227        0.6235        0.5529          0.4588\n",
       "237        0.5602        0.4578          0.3735\n",
       "310        0.5658        0.4408          0.3980\n",
       "335        0.5071        0.3624          0.2901\n",
       "340        0.5403        0.4381          0.3733\n",
       "376        0.7743        0.6715          0.5955\n",
       "426        0.5631        0.4564          0.3754\n",
       "436        0.5193        0.4165          0.3631\n",
       "473        0.6576        0.6196          0.5707\n",
       "556        0.6392        0.6329          0.6234\n",
       "564        0.5247        0.4099          0.3529\n",
       "583        0.6883        0.6167          0.5483\n",
       "629        0.8819        0.8159          0.7692\n",
       "655        0.5879        0.4592          0.3787\n",
       "678        0.5593        0.4253          0.3582\n",
       "767        0.5083        0.3946          0.3285\n",
       "771        0.6474        0.5878          0.5311\n",
       "831        0.9307        0.9097          0.8834\n",
       "894        0.5278        0.4316          0.3725\n",
       "901        0.6500        0.5891          0.5340\n",
       "932        0.5275        0.3956          0.3214\n",
       "939        0.9016        0.7492          0.4900\n",
       "948        0.6085        0.4690          0.3129\n",
       "962        0.5559        0.4559          0.3812"
      ]
     },
     "execution_count": 36,
     "metadata": {},
     "output_type": "execute_result"
    }
   ],
   "source": [
    "validate_answers[(validate_answers.at_least_one > 0.5) | (validate_answers.at_least_two  > 0.5) | \\\n",
    "                 (validate_answers.at_least_three > 0.5)]"
   ]
  },
  {
   "cell_type": "code",
   "execution_count": 42,
   "metadata": {},
   "outputs": [],
   "source": [
    "history_sorted = history.sort_values('hour')\n",
    "all_users = history.user_id.unique()"
   ]
  },
  {
   "cell_type": "code",
   "execution_count": 8,
   "metadata": {},
   "outputs": [],
   "source": [
    "users_hours = np.zeros((27768 + 1, 1491))\n",
    "for i, row in history.iterrows():\n",
    "    users_hours[int(row.user_id)][int(row.hour)] = 1"
   ]
  },
  {
   "cell_type": "code",
   "execution_count": 9,
   "metadata": {},
   "outputs": [],
   "source": [
    "users_overall_active = pd.Series(map(sum, users_hours))"
   ]
  },
  {
   "cell_type": "code",
   "execution_count": 10,
   "metadata": {},
   "outputs": [],
   "source": [
    "users_overall_active = users_overall_active / 1488"
   ]
  },
  {
   "cell_type": "code",
   "execution_count": 13,
   "metadata": {},
   "outputs": [],
   "source": [
    "user_saw_ads = history.groupby('user_id').size()"
   ]
  },
  {
   "cell_type": "code",
   "execution_count": 14,
   "metadata": {},
   "outputs": [],
   "source": [
    "user_publishers = np.zeros((27768 + 1, 22))\n",
    "for i, row in history.iterrows():\n",
    "    user_publishers[int(row.user_id)][int(row.publisher)] = 1.0 / user_saw_ads[row.user_id]"
   ]
  },
  {
   "cell_type": "code",
   "execution_count": 507,
   "metadata": {},
   "outputs": [
    {
     "data": {
      "text/html": [
       "<div>\n",
       "<style scoped>\n",
       "    .dataframe tbody tr th:only-of-type {\n",
       "        vertical-align: middle;\n",
       "    }\n",
       "\n",
       "    .dataframe tbody tr th {\n",
       "        vertical-align: top;\n",
       "    }\n",
       "\n",
       "    .dataframe thead th {\n",
       "        text-align: right;\n",
       "    }\n",
       "</style>\n",
       "<table border=\"1\" class=\"dataframe\">\n",
       "  <thead>\n",
       "    <tr style=\"text-align: right;\">\n",
       "      <th></th>\n",
       "      <th>hour</th>\n",
       "      <th>cpm</th>\n",
       "      <th>publisher</th>\n",
       "      <th>user_id</th>\n",
       "      <th>daily_hours</th>\n",
       "    </tr>\n",
       "  </thead>\n",
       "  <tbody>\n",
       "    <tr>\n",
       "      <th>0</th>\n",
       "      <td>10</td>\n",
       "      <td>30.00</td>\n",
       "      <td>1</td>\n",
       "      <td>15661</td>\n",
       "      <td>10</td>\n",
       "    </tr>\n",
       "    <tr>\n",
       "      <th>1</th>\n",
       "      <td>8</td>\n",
       "      <td>41.26</td>\n",
       "      <td>1</td>\n",
       "      <td>8444</td>\n",
       "      <td>8</td>\n",
       "    </tr>\n",
       "    <tr>\n",
       "      <th>2</th>\n",
       "      <td>7</td>\n",
       "      <td>360.00</td>\n",
       "      <td>1</td>\n",
       "      <td>15821</td>\n",
       "      <td>7</td>\n",
       "    </tr>\n",
       "    <tr>\n",
       "      <th>3</th>\n",
       "      <td>18</td>\n",
       "      <td>370.00</td>\n",
       "      <td>1</td>\n",
       "      <td>21530</td>\n",
       "      <td>18</td>\n",
       "    </tr>\n",
       "    <tr>\n",
       "      <th>4</th>\n",
       "      <td>8</td>\n",
       "      <td>195.00</td>\n",
       "      <td>2</td>\n",
       "      <td>22148</td>\n",
       "      <td>8</td>\n",
       "    </tr>\n",
       "  </tbody>\n",
       "</table>\n",
       "</div>"
      ],
      "text/plain": [
       "   hour     cpm  publisher  user_id  daily_hours\n",
       "0    10   30.00          1    15661           10\n",
       "1     8   41.26          1     8444            8\n",
       "2     7  360.00          1    15821            7\n",
       "3    18  370.00          1    21530           18\n",
       "4     8  195.00          2    22148            8"
      ]
     },
     "execution_count": 507,
     "metadata": {},
     "output_type": "execute_result"
    }
   ],
   "source": [
    "history.head()"
   ]
  },
  {
   "cell_type": "code",
   "execution_count": null,
   "metadata": {},
   "outputs": [],
   "source": [
    "# publishers and genders:"
   ]
  },
  {
   "cell_type": "code",
   "execution_count": 509,
   "metadata": {},
   "outputs": [],
   "source": [
    "sex_publishers = np.zeros((22, 3))\n",
    "for i, row in history.iterrows():\n",
    "    sex_publishers[int(row.publisher)][users.iloc[int(row.user_id), 1]] += 1"
   ]
  },
  {
   "cell_type": "code",
   "execution_count": 571,
   "metadata": {},
   "outputs": [
    {
     "data": {
      "text/plain": [
       "<BarContainer object of 3 artists>"
      ]
     },
     "execution_count": 571,
     "metadata": {},
     "output_type": "execute_result"
    },
    {
     "data": {
      "image/png": "[encoded data removed]",
      "text/plain": [
       "<Figure size 432x288 with 1 Axes>"
      ]
     },
     "metadata": {
      "needs_background": "light"
     },
     "output_type": "display_data"
    }
   ],
   "source": [
    "plt.bar([0, 1, 2], sex_publishers[9])"
   ]
  },
  {
   "cell_type": "code",
   "execution_count": null,
   "metadata": {},
   "outputs": [],
   "source": [
    "# publishers and cites:"
   ]
  },
  {
   "cell_type": "code",
   "execution_count": 624,
   "metadata": {},
   "outputs": [],
   "source": [
    "city_publishers = np.zeros((22, 2457))\n",
    "for i, row in history.iterrows():\n",
    "    city_publishers[int(row.publisher)][users.iloc[int(row.user_id), -1]] += 1"
   ]
  },
  {
   "cell_type": "code",
   "execution_count": 655,
   "metadata": {},
   "outputs": [
    {
     "data": {
      "text/plain": [
       "<BarContainer object of 2456 artists>"
      ]
     },
     "execution_count": 655,
     "metadata": {},
     "output_type": "execute_result"
    },
    {
     "data": {
      "image/png": "[encoded data removed]",
      "text/plain": [
       "<Figure size 432x288 with 1 Axes>"
      ]
     },
     "metadata": {
      "needs_background": "light"
     },
     "output_type": "display_data"
    }
   ],
   "source": [
    "plt.bar(range(1, 2457), city_publishers[1][1:])"
   ]
  },
  {
   "cell_type": "code",
   "execution_count": 657,
   "metadata": {},
   "outputs": [
    {
     "name": "stdout",
     "output_type": "stream",
     "text": [
      "41025.0\n"
     ]
    },
    {
     "data": {
      "text/plain": [
       "array([2.84415e+05, 9.57000e+02, 0.00000e+00, ..., 0.00000e+00,\n",
       "       1.14000e+02, 6.00000e+00])"
      ]
     },
     "execution_count": 657,
     "metadata": {},
     "output_type": "execute_result"
    }
   ],
   "source": [
    "print(city_publishers[1][1:].argmax())\n",
    "city_publishers.sum(axis=0) # there is no point to check city, it is not shown anyway"
   ]
  },
  {
   "cell_type": "code",
   "execution_count": null,
   "metadata": {},
   "outputs": [],
   "source": [
    "# publishers and age:"
   ]
  },
  {
   "cell_type": "code",
   "execution_count": 659,
   "metadata": {},
   "outputs": [],
   "source": [
    "age_publishers = np.zeros((22, 119))\n",
    "for i, row in history.iterrows():\n",
    "    age_publishers[int(row.publisher)][users.iloc[int(row.user_id), 2]] += 1"
   ]
  },
  {
   "cell_type": "code",
   "execution_count": 671,
   "metadata": {},
   "outputs": [
    {
     "data": {
      "text/plain": [
       "<BarContainer object of 118 artists>"
      ]
     },
     "execution_count": 671,
     "metadata": {},
     "output_type": "execute_result"
    },
    {
     "data": {
      "image/png": "[encoded data removed]",
      "text/plain": [
       "<Figure size 432x288 with 1 Axes>"
      ]
     },
     "metadata": {
      "needs_background": "light"
     },
     "output_type": "display_data"
    }
   ],
   "source": [
    "plt.bar(range(1, 119), age_publishers[3][1:])"
   ]
  },
  {
   "cell_type": "code",
   "execution_count": null,
   "metadata": {},
   "outputs": [],
   "source": []
  },
  {
   "cell_type": "code",
   "execution_count": null,
   "metadata": {},
   "outputs": [],
   "source": []
  },
  {
   "cell_type": "code",
   "execution_count": 229,
   "metadata": {},
   "outputs": [],
   "source": [
    "history['daily_hours'] = history.hour % 24"
   ]
  },
  {
   "cell_type": "code",
   "execution_count": 156,
   "metadata": {},
   "outputs": [
    {
     "data": {
      "text/html": [
       "<div>\n",
       "<style scoped>\n",
       "    .dataframe tbody tr th:only-of-type {\n",
       "        vertical-align: middle;\n",
       "    }\n",
       "\n",
       "    .dataframe tbody tr th {\n",
       "        vertical-align: top;\n",
       "    }\n",
       "\n",
       "    .dataframe thead th {\n",
       "        text-align: right;\n",
       "    }\n",
       "</style>\n",
       "<table border=\"1\" class=\"dataframe\">\n",
       "  <thead>\n",
       "    <tr style=\"text-align: right;\">\n",
       "      <th></th>\n",
       "      <th>cpm</th>\n",
       "      <th>hour_start</th>\n",
       "      <th>hour_end</th>\n",
       "      <th>publishers</th>\n",
       "      <th>audience_size</th>\n",
       "      <th>user_ids</th>\n",
       "      <th>hours</th>\n",
       "      <th>at_least_one</th>\n",
       "      <th>at_least_two</th>\n",
       "      <th>at_least_three</th>\n",
       "      <th>publisher_freq_sum</th>\n",
       "      <th>users_overall_activity</th>\n",
       "    </tr>\n",
       "  </thead>\n",
       "  <tbody>\n",
       "    <tr>\n",
       "      <th>0</th>\n",
       "      <td>220.0</td>\n",
       "      <td>1058</td>\n",
       "      <td>1153</td>\n",
       "      <td>7,17</td>\n",
       "      <td>1906</td>\n",
       "      <td>12,44,46,50,58,71,93,122,134,143,176,184,187,1...</td>\n",
       "      <td>95</td>\n",
       "      <td>0.0430</td>\n",
       "      <td>0.0152</td>\n",
       "      <td>0.0073</td>\n",
       "      <td>0.058569</td>\n",
       "      <td>0.019941</td>\n",
       "    </tr>\n",
       "    <tr>\n",
       "      <th>1</th>\n",
       "      <td>312.0</td>\n",
       "      <td>1295</td>\n",
       "      <td>1301</td>\n",
       "      <td>3,18</td>\n",
       "      <td>1380</td>\n",
       "      <td>29,81,98,102,165,167,195,205,218,231,242,263,3...</td>\n",
       "      <td>6</td>\n",
       "      <td>0.0130</td>\n",
       "      <td>0.0000</td>\n",
       "      <td>0.0000</td>\n",
       "      <td>0.063004</td>\n",
       "      <td>0.060359</td>\n",
       "    </tr>\n",
       "    <tr>\n",
       "      <th>2</th>\n",
       "      <td>70.0</td>\n",
       "      <td>1229</td>\n",
       "      <td>1249</td>\n",
       "      <td>1,2,3,9,15,21</td>\n",
       "      <td>888</td>\n",
       "      <td>12,23,25,29,45,85,92,124,156,190,272,334,456,5...</td>\n",
       "      <td>20</td>\n",
       "      <td>0.0878</td>\n",
       "      <td>0.0135</td>\n",
       "      <td>0.0000</td>\n",
       "      <td>0.913384</td>\n",
       "      <td>0.021371</td>\n",
       "    </tr>\n",
       "    <tr>\n",
       "      <th>3</th>\n",
       "      <td>240.0</td>\n",
       "      <td>1295</td>\n",
       "      <td>1377</td>\n",
       "      <td>1,14</td>\n",
       "      <td>440</td>\n",
       "      <td>44,122,187,209,242,255,312,345,382,465,513,524...</td>\n",
       "      <td>82</td>\n",
       "      <td>0.2295</td>\n",
       "      <td>0.1295</td>\n",
       "      <td>0.0727</td>\n",
       "      <td>0.604248</td>\n",
       "      <td>0.019059</td>\n",
       "    </tr>\n",
       "    <tr>\n",
       "      <th>4</th>\n",
       "      <td>262.0</td>\n",
       "      <td>752</td>\n",
       "      <td>990</td>\n",
       "      <td>1,3,7,8</td>\n",
       "      <td>1476</td>\n",
       "      <td>15,24,30,43,50,53,96,105,159,168,181,190,196,2...</td>\n",
       "      <td>238</td>\n",
       "      <td>0.3963</td>\n",
       "      <td>0.2785</td>\n",
       "      <td>0.2270</td>\n",
       "      <td>0.726935</td>\n",
       "      <td>0.017127</td>\n",
       "    </tr>\n",
       "  </tbody>\n",
       "</table>\n",
       "</div>"
      ],
      "text/plain": [
       "     cpm  hour_start  hour_end     publishers  audience_size  \\\n",
       "0  220.0        1058      1153           7,17           1906   \n",
       "1  312.0        1295      1301           3,18           1380   \n",
       "2   70.0        1229      1249  1,2,3,9,15,21            888   \n",
       "3  240.0        1295      1377           1,14            440   \n",
       "4  262.0         752       990        1,3,7,8           1476   \n",
       "\n",
       "                                            user_ids  hours  at_least_one  \\\n",
       "0  12,44,46,50,58,71,93,122,134,143,176,184,187,1...     95        0.0430   \n",
       "1  29,81,98,102,165,167,195,205,218,231,242,263,3...      6        0.0130   \n",
       "2  12,23,25,29,45,85,92,124,156,190,272,334,456,5...     20        0.0878   \n",
       "3  44,122,187,209,242,255,312,345,382,465,513,524...     82        0.2295   \n",
       "4  15,24,30,43,50,53,96,105,159,168,181,190,196,2...    238        0.3963   \n",
       "\n",
       "   at_least_two  at_least_three  publisher_freq_sum  users_overall_activity  \n",
       "0        0.0152          0.0073            0.058569                0.019941  \n",
       "1        0.0000          0.0000            0.063004                0.060359  \n",
       "2        0.0135          0.0000            0.913384                0.021371  \n",
       "3        0.1295          0.0727            0.604248                0.019059  \n",
       "4        0.2785          0.2270            0.726935                0.017127  "
      ]
     },
     "execution_count": 156,
     "metadata": {},
     "output_type": "execute_result"
    }
   ],
   "source": [
    "df.head()"
   ]
  },
  {
   "cell_type": "code",
   "execution_count": 3,
   "metadata": {},
   "outputs": [],
   "source": [
    "df = validate.copy()\n",
    "df['hours'] = df.hour_end - df.hour_start\n",
    "df['at_least_one'] = validate_answers.at_least_one.copy()\n",
    "df['at_least_two'] = validate_answers.at_least_two.copy()\n",
    "df['at_least_three'] = validate_answers.at_least_three.copy()"
   ]
  },
  {
   "cell_type": "code",
   "execution_count": 145,
   "metadata": {},
   "outputs": [],
   "source": [
    "#df.user_ids.apply(lambda x: np.array(pd.Series(x.split(',')).apply(int)))\n",
    "#df.user_ids = df.user_ids.apply(lambda x: np.array(pd.Series(x.split(',')).apply(int)))\n",
    "#df.publishers = df.publishers.apply(lambda x: np.array(pd.Series(x.split(',')).apply(int)))\n",
    "#df.publishers = df.publishers.apply(lambda x: pd.Series(x.split(',')).apply(int))"
   ]
  },
  {
   "cell_type": "code",
   "execution_count": 4,
   "metadata": {},
   "outputs": [],
   "source": [
    "publisher_number = history.groupby('publisher').size()"
   ]
  },
  {
   "cell_type": "code",
   "execution_count": 5,
   "metadata": {},
   "outputs": [],
   "source": [
    "publisher_freq = publisher_number / publisher_number.sum()"
   ]
  },
  {
   "cell_type": "code",
   "execution_count": 200,
   "metadata": {},
   "outputs": [],
   "source": [
    "publisher_number_scaled = publisher_number / cnt_publisher # not needed"
   ]
  },
  {
   "cell_type": "code",
   "execution_count": 206,
   "metadata": {},
   "outputs": [],
   "source": [
    "publisher_freq_scaled = publisher_number_scaled / publisher_number_scaled.sum() # not needed"
   ]
  },
  {
   "cell_type": "code",
   "execution_count": 6,
   "metadata": {},
   "outputs": [],
   "source": [
    "df['publisher_freq_sum'] = df.publishers.apply(lambda x:  pd.Series(x.split(',')).apply(int) \\\n",
    "                                               .apply(publisher_freq.get).sum())"
   ]
  },
  {
   "cell_type": "code",
   "execution_count": 207,
   "metadata": {},
   "outputs": [],
   "source": [
    "#df['publisher_freq_sum_scaled'] = df.publishers.apply(publisher_freq_scaled.get).sum() # not needed"
   ]
  },
  {
   "cell_type": "code",
   "execution_count": 230,
   "metadata": {},
   "outputs": [
    {
     "data": {
      "text/plain": [
       "34.499741554260254"
      ]
     },
     "execution_count": 230,
     "metadata": {},
     "output_type": "execute_result"
    }
   ],
   "source": [
    "start = time.time()\n",
    "user_activity = {}\n",
    "all_users = history.user_id.unique()\n",
    "history_gb_user = history.groupby('user_id')\n",
    "for i, user in enumerate(all_users):\n",
    "    user_activity_hours = count_ac(history_gb_user.get_group(user).daily_hours) # user_i active hours \n",
    "    user_activity[user] = (user_activity_hours != 0).sum()\n",
    "user_activity = pd.Series(user_activity)\n",
    "end = time.time()\n",
    "end - start"
   ]
  },
  {
   "cell_type": "code",
   "execution_count": 231,
   "metadata": {},
   "outputs": [],
   "source": [
    "def make_users_activity(x):\n",
    "    tmp = pd.Series(x.split(',')).apply(int)\n",
    "    return tmp.apply(user_activity.get).sum() / tmp.size"
   ]
  },
  {
   "cell_type": "code",
   "execution_count": 11,
   "metadata": {},
   "outputs": [],
   "source": [
    "def make_users_overall_activity(x):\n",
    "    tmp = pd.Series(x.split(',')).apply(int)\n",
    "    return np.mean(tmp.apply(users_overall_active.get))\n",
    "    #return sum(map(users_overall_active.get, x)) / x.size may be faster"
   ]
  },
  {
   "cell_type": "code",
   "execution_count": 232,
   "metadata": {},
   "outputs": [],
   "source": [
    "df['users_activity'] = df.user_ids.apply(make_users_activity)"
   ]
  },
  {
   "cell_type": "code",
   "execution_count": 12,
   "metadata": {},
   "outputs": [],
   "source": [
    "df['users_overall_activity'] = df.user_ids.apply(make_users_overall_activity)\n",
    "df['estim_activity'] = df.hours * df.users_overall_activity"
   ]
  },
  {
   "cell_type": "code",
   "execution_count": 15,
   "metadata": {},
   "outputs": [],
   "source": [
    "def make_publ_fit_users(row):\n",
    "    users_in_row = pd.Series(row.user_ids.split(',')).apply(int)\n",
    "    publishers_in_row = pd.Series(row.publishers.split(',')).apply(int)\n",
    "    sum_ = 0\n",
    "    for current_user in users_in_row:\n",
    "        user_sum = 0\n",
    "        for current_publisher in publishers_in_row:\n",
    "            user_sum += user_publishers[current_user][current_publisher]\n",
    "        sum_ += user_sum\n",
    "    return sum_ / users_in_row.size"
   ]
  },
  {
   "cell_type": "code",
   "execution_count": 16,
   "metadata": {},
   "outputs": [
    {
     "data": {
      "text/plain": [
       "20.469629526138306"
      ]
     },
     "execution_count": 16,
     "metadata": {},
     "output_type": "execute_result"
    }
   ],
   "source": [
    "start = time.time()\n",
    "df['publ_fit_users'] = df.apply(make_publ_fit_users, axis=1)\n",
    "time.time() - start"
   ]
  },
  {
   "cell_type": "code",
   "execution_count": 17,
   "metadata": {},
   "outputs": [
    {
     "data": {
      "text/html": [
       "<div>\n",
       "<style scoped>\n",
       "    .dataframe tbody tr th:only-of-type {\n",
       "        vertical-align: middle;\n",
       "    }\n",
       "\n",
       "    .dataframe tbody tr th {\n",
       "        vertical-align: top;\n",
       "    }\n",
       "\n",
       "    .dataframe thead th {\n",
       "        text-align: right;\n",
       "    }\n",
       "</style>\n",
       "<table border=\"1\" class=\"dataframe\">\n",
       "  <thead>\n",
       "    <tr style=\"text-align: right;\">\n",
       "      <th></th>\n",
       "      <th>cpm</th>\n",
       "      <th>hour_start</th>\n",
       "      <th>hour_end</th>\n",
       "      <th>publishers</th>\n",
       "      <th>audience_size</th>\n",
       "      <th>user_ids</th>\n",
       "      <th>hours</th>\n",
       "      <th>at_least_one</th>\n",
       "      <th>at_least_two</th>\n",
       "      <th>at_least_three</th>\n",
       "      <th>publisher_freq_sum</th>\n",
       "      <th>users_overall_activity</th>\n",
       "      <th>estim_activity</th>\n",
       "      <th>publ_fit_users</th>\n",
       "    </tr>\n",
       "  </thead>\n",
       "  <tbody>\n",
       "    <tr>\n",
       "      <th>0</th>\n",
       "      <td>220.0</td>\n",
       "      <td>1058</td>\n",
       "      <td>1153</td>\n",
       "      <td>7,17</td>\n",
       "      <td>1906</td>\n",
       "      <td>12,44,46,50,58,71,93,122,134,143,176,184,187,1...</td>\n",
       "      <td>95</td>\n",
       "      <td>0.0430</td>\n",
       "      <td>0.0152</td>\n",
       "      <td>0.0073</td>\n",
       "      <td>0.058569</td>\n",
       "      <td>0.019941</td>\n",
       "      <td>1.894354</td>\n",
       "      <td>0.027671</td>\n",
       "    </tr>\n",
       "    <tr>\n",
       "      <th>1</th>\n",
       "      <td>312.0</td>\n",
       "      <td>1295</td>\n",
       "      <td>1301</td>\n",
       "      <td>3,18</td>\n",
       "      <td>1380</td>\n",
       "      <td>29,81,98,102,165,167,195,205,218,231,242,263,3...</td>\n",
       "      <td>6</td>\n",
       "      <td>0.0130</td>\n",
       "      <td>0.0000</td>\n",
       "      <td>0.0000</td>\n",
       "      <td>0.063004</td>\n",
       "      <td>0.060359</td>\n",
       "      <td>0.362152</td>\n",
       "      <td>0.001276</td>\n",
       "    </tr>\n",
       "    <tr>\n",
       "      <th>2</th>\n",
       "      <td>70.0</td>\n",
       "      <td>1229</td>\n",
       "      <td>1249</td>\n",
       "      <td>1,2,3,9,15,21</td>\n",
       "      <td>888</td>\n",
       "      <td>12,23,25,29,45,85,92,124,156,190,272,334,456,5...</td>\n",
       "      <td>20</td>\n",
       "      <td>0.0878</td>\n",
       "      <td>0.0135</td>\n",
       "      <td>0.0000</td>\n",
       "      <td>0.913384</td>\n",
       "      <td>0.021371</td>\n",
       "      <td>0.427428</td>\n",
       "      <td>0.140115</td>\n",
       "    </tr>\n",
       "    <tr>\n",
       "      <th>3</th>\n",
       "      <td>240.0</td>\n",
       "      <td>1295</td>\n",
       "      <td>1377</td>\n",
       "      <td>1,14</td>\n",
       "      <td>440</td>\n",
       "      <td>44,122,187,209,242,255,312,345,382,465,513,524...</td>\n",
       "      <td>82</td>\n",
       "      <td>0.2295</td>\n",
       "      <td>0.1295</td>\n",
       "      <td>0.0727</td>\n",
       "      <td>0.604248</td>\n",
       "      <td>0.019059</td>\n",
       "      <td>1.562799</td>\n",
       "      <td>0.074337</td>\n",
       "    </tr>\n",
       "    <tr>\n",
       "      <th>4</th>\n",
       "      <td>262.0</td>\n",
       "      <td>752</td>\n",
       "      <td>990</td>\n",
       "      <td>1,3,7,8</td>\n",
       "      <td>1476</td>\n",
       "      <td>15,24,30,43,50,53,96,105,159,168,181,190,196,2...</td>\n",
       "      <td>238</td>\n",
       "      <td>0.3963</td>\n",
       "      <td>0.2785</td>\n",
       "      <td>0.2270</td>\n",
       "      <td>0.726935</td>\n",
       "      <td>0.017127</td>\n",
       "      <td>4.076137</td>\n",
       "      <td>0.132754</td>\n",
       "    </tr>\n",
       "  </tbody>\n",
       "</table>\n",
       "</div>"
      ],
      "text/plain": [
       "     cpm  hour_start  hour_end     publishers  audience_size  \\\n",
       "0  220.0        1058      1153           7,17           1906   \n",
       "1  312.0        1295      1301           3,18           1380   \n",
       "2   70.0        1229      1249  1,2,3,9,15,21            888   \n",
       "3  240.0        1295      1377           1,14            440   \n",
       "4  262.0         752       990        1,3,7,8           1476   \n",
       "\n",
       "                                            user_ids  hours  at_least_one  \\\n",
       "0  12,44,46,50,58,71,93,122,134,143,176,184,187,1...     95        0.0430   \n",
       "1  29,81,98,102,165,167,195,205,218,231,242,263,3...      6        0.0130   \n",
       "2  12,23,25,29,45,85,92,124,156,190,272,334,456,5...     20        0.0878   \n",
       "3  44,122,187,209,242,255,312,345,382,465,513,524...     82        0.2295   \n",
       "4  15,24,30,43,50,53,96,105,159,168,181,190,196,2...    238        0.3963   \n",
       "\n",
       "   at_least_two  at_least_three  publisher_freq_sum  users_overall_activity  \\\n",
       "0        0.0152          0.0073            0.058569                0.019941   \n",
       "1        0.0000          0.0000            0.063004                0.060359   \n",
       "2        0.0135          0.0000            0.913384                0.021371   \n",
       "3        0.1295          0.0727            0.604248                0.019059   \n",
       "4        0.2785          0.2270            0.726935                0.017127   \n",
       "\n",
       "   estim_activity  publ_fit_users  \n",
       "0        1.894354        0.027671  \n",
       "1        0.362152        0.001276  \n",
       "2        0.427428        0.140115  \n",
       "3        1.562799        0.074337  \n",
       "4        4.076137        0.132754  "
      ]
     },
     "execution_count": 17,
     "metadata": {},
     "output_type": "execute_result"
    }
   ],
   "source": [
    "df.head()"
   ]
  },
  {
   "cell_type": "code",
   "execution_count": 391,
   "metadata": {},
   "outputs": [
    {
     "data": {
      "text/html": [
       "<div>\n",
       "<style scoped>\n",
       "    .dataframe tbody tr th:only-of-type {\n",
       "        vertical-align: middle;\n",
       "    }\n",
       "\n",
       "    .dataframe tbody tr th {\n",
       "        vertical-align: top;\n",
       "    }\n",
       "\n",
       "    .dataframe thead th {\n",
       "        text-align: right;\n",
       "    }\n",
       "</style>\n",
       "<table border=\"1\" class=\"dataframe\">\n",
       "  <thead>\n",
       "    <tr style=\"text-align: right;\">\n",
       "      <th></th>\n",
       "      <th>cpm</th>\n",
       "      <th>hours</th>\n",
       "      <th>publisher_freq_sum</th>\n",
       "      <th>users_activity</th>\n",
       "      <th>users_overall_activity</th>\n",
       "      <th>estim_activity</th>\n",
       "      <th>publ_fit_users</th>\n",
       "      <th>at_least_one</th>\n",
       "      <th>at_least_three</th>\n",
       "    </tr>\n",
       "  </thead>\n",
       "  <tbody>\n",
       "    <tr>\n",
       "      <th>cpm</th>\n",
       "      <td>1.000000</td>\n",
       "      <td>-0.011378</td>\n",
       "      <td>-0.000525</td>\n",
       "      <td>-0.000569</td>\n",
       "      <td>0.003303</td>\n",
       "      <td>0.002494</td>\n",
       "      <td>0.031553</td>\n",
       "      <td>0.199448</td>\n",
       "      <td>0.132197</td>\n",
       "    </tr>\n",
       "    <tr>\n",
       "      <th>hours</th>\n",
       "      <td>-0.011378</td>\n",
       "      <td>1.000000</td>\n",
       "      <td>-0.024049</td>\n",
       "      <td>0.053819</td>\n",
       "      <td>0.061543</td>\n",
       "      <td>0.721289</td>\n",
       "      <td>-0.048505</td>\n",
       "      <td>0.480316</td>\n",
       "      <td>0.547955</td>\n",
       "    </tr>\n",
       "    <tr>\n",
       "      <th>publisher_freq_sum</th>\n",
       "      <td>-0.000525</td>\n",
       "      <td>-0.024049</td>\n",
       "      <td>1.000000</td>\n",
       "      <td>-0.021940</td>\n",
       "      <td>-0.017099</td>\n",
       "      <td>-0.024316</td>\n",
       "      <td>0.659824</td>\n",
       "      <td>0.482545</td>\n",
       "      <td>0.311897</td>\n",
       "    </tr>\n",
       "    <tr>\n",
       "      <th>users_activity</th>\n",
       "      <td>-0.000569</td>\n",
       "      <td>0.053819</td>\n",
       "      <td>-0.021940</td>\n",
       "      <td>1.000000</td>\n",
       "      <td>0.936019</td>\n",
       "      <td>0.462319</td>\n",
       "      <td>-0.601492</td>\n",
       "      <td>0.358092</td>\n",
       "      <td>0.327468</td>\n",
       "    </tr>\n",
       "    <tr>\n",
       "      <th>users_overall_activity</th>\n",
       "      <td>0.003303</td>\n",
       "      <td>0.061543</td>\n",
       "      <td>-0.017099</td>\n",
       "      <td>0.936019</td>\n",
       "      <td>1.000000</td>\n",
       "      <td>0.502134</td>\n",
       "      <td>-0.502322</td>\n",
       "      <td>0.363047</td>\n",
       "      <td>0.354783</td>\n",
       "    </tr>\n",
       "    <tr>\n",
       "      <th>estim_activity</th>\n",
       "      <td>0.002494</td>\n",
       "      <td>0.721289</td>\n",
       "      <td>-0.024316</td>\n",
       "      <td>0.462319</td>\n",
       "      <td>0.502134</td>\n",
       "      <td>1.000000</td>\n",
       "      <td>-0.243715</td>\n",
       "      <td>0.557527</td>\n",
       "      <td>0.683115</td>\n",
       "    </tr>\n",
       "    <tr>\n",
       "      <th>publ_fit_users</th>\n",
       "      <td>0.031553</td>\n",
       "      <td>-0.048505</td>\n",
       "      <td>0.659824</td>\n",
       "      <td>-0.601492</td>\n",
       "      <td>-0.502322</td>\n",
       "      <td>-0.243715</td>\n",
       "      <td>1.000000</td>\n",
       "      <td>0.067518</td>\n",
       "      <td>-0.010916</td>\n",
       "    </tr>\n",
       "    <tr>\n",
       "      <th>at_least_one</th>\n",
       "      <td>0.199448</td>\n",
       "      <td>0.480316</td>\n",
       "      <td>0.482545</td>\n",
       "      <td>0.358092</td>\n",
       "      <td>0.363047</td>\n",
       "      <td>0.557527</td>\n",
       "      <td>0.067518</td>\n",
       "      <td>1.000000</td>\n",
       "      <td>0.918242</td>\n",
       "    </tr>\n",
       "    <tr>\n",
       "      <th>at_least_three</th>\n",
       "      <td>0.132197</td>\n",
       "      <td>0.547955</td>\n",
       "      <td>0.311897</td>\n",
       "      <td>0.327468</td>\n",
       "      <td>0.354783</td>\n",
       "      <td>0.683115</td>\n",
       "      <td>-0.010916</td>\n",
       "      <td>0.918242</td>\n",
       "      <td>1.000000</td>\n",
       "    </tr>\n",
       "  </tbody>\n",
       "</table>\n",
       "</div>"
      ],
      "text/plain": [
       "                             cpm     hours  publisher_freq_sum  \\\n",
       "cpm                     1.000000 -0.011378           -0.000525   \n",
       "hours                  -0.011378  1.000000           -0.024049   \n",
       "publisher_freq_sum     -0.000525 -0.024049            1.000000   \n",
       "users_activity         -0.000569  0.053819           -0.021940   \n",
       "users_overall_activity  0.003303  0.061543           -0.017099   \n",
       "estim_activity          0.002494  0.721289           -0.024316   \n",
       "publ_fit_users          0.031553 -0.048505            0.659824   \n",
       "at_least_one            0.199448  0.480316            0.482545   \n",
       "at_least_three          0.132197  0.547955            0.311897   \n",
       "\n",
       "                        users_activity  users_overall_activity  \\\n",
       "cpm                          -0.000569                0.003303   \n",
       "hours                         0.053819                0.061543   \n",
       "publisher_freq_sum           -0.021940               -0.017099   \n",
       "users_activity                1.000000                0.936019   \n",
       "users_overall_activity        0.936019                1.000000   \n",
       "estim_activity                0.462319                0.502134   \n",
       "publ_fit_users               -0.601492               -0.502322   \n",
       "at_least_one                  0.358092                0.363047   \n",
       "at_least_three                0.327468                0.354783   \n",
       "\n",
       "                        estim_activity  publ_fit_users  at_least_one  \\\n",
       "cpm                           0.002494        0.031553      0.199448   \n",
       "hours                         0.721289       -0.048505      0.480316   \n",
       "publisher_freq_sum           -0.024316        0.659824      0.482545   \n",
       "users_activity                0.462319       -0.601492      0.358092   \n",
       "users_overall_activity        0.502134       -0.502322      0.363047   \n",
       "estim_activity                1.000000       -0.243715      0.557527   \n",
       "publ_fit_users               -0.243715        1.000000      0.067518   \n",
       "at_least_one                  0.557527        0.067518      1.000000   \n",
       "at_least_three                0.683115       -0.010916      0.918242   \n",
       "\n",
       "                        at_least_three  \n",
       "cpm                           0.132197  \n",
       "hours                         0.547955  \n",
       "publisher_freq_sum            0.311897  \n",
       "users_activity                0.327468  \n",
       "users_overall_activity        0.354783  \n",
       "estim_activity                0.683115  \n",
       "publ_fit_users               -0.010916  \n",
       "at_least_one                  0.918242  \n",
       "at_least_three                1.000000  "
      ]
     },
     "execution_count": 391,
     "metadata": {},
     "output_type": "execute_result"
    }
   ],
   "source": [
    "df[['cpm', 'hours', 'publisher_freq_sum', 'users_activity','users_overall_activity', 'estim_activity', 'publ_fit_users',\\\n",
    "    'at_least_one', 'at_least_three']].corr()"
   ]
  },
  {
   "cell_type": "code",
   "execution_count": null,
   "metadata": {},
   "outputs": [],
   "source": []
  },
  {
   "cell_type": "code",
   "execution_count": null,
   "metadata": {},
   "outputs": [],
   "source": []
  },
  {
   "cell_type": "code",
   "execution_count": 18,
   "metadata": {},
   "outputs": [],
   "source": [
    "final_df = df[['cpm', 'publ_fit_users', 'estim_activity', 'at_least_one', 'at_least_two', 'at_least_three']].copy()"
   ]
  },
  {
   "cell_type": "code",
   "execution_count": 19,
   "metadata": {},
   "outputs": [
    {
     "data": {
      "text/html": [
       "<div>\n",
       "<style scoped>\n",
       "    .dataframe tbody tr th:only-of-type {\n",
       "        vertical-align: middle;\n",
       "    }\n",
       "\n",
       "    .dataframe tbody tr th {\n",
       "        vertical-align: top;\n",
       "    }\n",
       "\n",
       "    .dataframe thead th {\n",
       "        text-align: right;\n",
       "    }\n",
       "</style>\n",
       "<table border=\"1\" class=\"dataframe\">\n",
       "  <thead>\n",
       "    <tr style=\"text-align: right;\">\n",
       "      <th></th>\n",
       "      <th>cpm</th>\n",
       "      <th>publ_fit_users</th>\n",
       "      <th>estim_activity</th>\n",
       "      <th>at_least_one</th>\n",
       "      <th>at_least_two</th>\n",
       "      <th>at_least_three</th>\n",
       "    </tr>\n",
       "  </thead>\n",
       "  <tbody>\n",
       "    <tr>\n",
       "      <th>0</th>\n",
       "      <td>220.0</td>\n",
       "      <td>0.027671</td>\n",
       "      <td>1.894354</td>\n",
       "      <td>0.0430</td>\n",
       "      <td>0.0152</td>\n",
       "      <td>0.0073</td>\n",
       "    </tr>\n",
       "    <tr>\n",
       "      <th>1</th>\n",
       "      <td>312.0</td>\n",
       "      <td>0.001276</td>\n",
       "      <td>0.362152</td>\n",
       "      <td>0.0130</td>\n",
       "      <td>0.0000</td>\n",
       "      <td>0.0000</td>\n",
       "    </tr>\n",
       "    <tr>\n",
       "      <th>2</th>\n",
       "      <td>70.0</td>\n",
       "      <td>0.140115</td>\n",
       "      <td>0.427428</td>\n",
       "      <td>0.0878</td>\n",
       "      <td>0.0135</td>\n",
       "      <td>0.0000</td>\n",
       "    </tr>\n",
       "    <tr>\n",
       "      <th>3</th>\n",
       "      <td>240.0</td>\n",
       "      <td>0.074337</td>\n",
       "      <td>1.562799</td>\n",
       "      <td>0.2295</td>\n",
       "      <td>0.1295</td>\n",
       "      <td>0.0727</td>\n",
       "    </tr>\n",
       "    <tr>\n",
       "      <th>4</th>\n",
       "      <td>262.0</td>\n",
       "      <td>0.132754</td>\n",
       "      <td>4.076137</td>\n",
       "      <td>0.3963</td>\n",
       "      <td>0.2785</td>\n",
       "      <td>0.2270</td>\n",
       "    </tr>\n",
       "  </tbody>\n",
       "</table>\n",
       "</div>"
      ],
      "text/plain": [
       "     cpm  publ_fit_users  estim_activity  at_least_one  at_least_two  \\\n",
       "0  220.0        0.027671        1.894354        0.0430        0.0152   \n",
       "1  312.0        0.001276        0.362152        0.0130        0.0000   \n",
       "2   70.0        0.140115        0.427428        0.0878        0.0135   \n",
       "3  240.0        0.074337        1.562799        0.2295        0.1295   \n",
       "4  262.0        0.132754        4.076137        0.3963        0.2785   \n",
       "\n",
       "   at_least_three  \n",
       "0          0.0073  \n",
       "1          0.0000  \n",
       "2          0.0000  \n",
       "3          0.0727  \n",
       "4          0.2270  "
      ]
     },
     "execution_count": 19,
     "metadata": {},
     "output_type": "execute_result"
    }
   ],
   "source": [
    "final_df.head()"
   ]
  },
  {
   "cell_type": "code",
   "execution_count": 20,
   "metadata": {},
   "outputs": [],
   "source": [
    "num_featers = 3"
   ]
  },
  {
   "cell_type": "code",
   "execution_count": 21,
   "metadata": {},
   "outputs": [],
   "source": [
    "X, y = final_df.iloc[:, :num_featers].to_numpy(), final_df.iloc[:, num_featers:].to_numpy()\n",
    "X = scale(X)"
   ]
  },
  {
   "cell_type": "code",
   "execution_count": 50,
   "metadata": {},
   "outputs": [],
   "source": [
    "class Net(nn.Module):\n",
    "    def __init__(self, hidden_sizes):\n",
    "        super(Net, self).__init__()\n",
    "        self.input_size = num_featers\n",
    "        self.output_size = 3\n",
    "        self.layers = nn.Sequential(\n",
    "            \n",
    "            nn.Linear(self.input_size, hidden_sizes[0]),\n",
    "            #nn.BatchNorm1d(hidden_sizes[0]),\n",
    "            #nn.Tanh(),\n",
    "            nn.ReLU(),\n",
    "\n",
    "            nn.Linear(hidden_sizes[0], hidden_sizes[1]),\n",
    "            #nn.BatchNorm1d(hidden_sizes[1]),\n",
    "            #nn.Tanh(),\n",
    "            nn.ReLU(),\n",
    "\n",
    "            nn.Linear(hidden_sizes[1], hidden_sizes[2]),\n",
    "            #nn.BatchNorm1d(hidden_sizes[2]),\n",
    "            #nn.Tanh(),\n",
    "            nn.ReLU(),\n",
    "\n",
    "            #nn.Linear(hidden_sizes[2], hidden_sizes[3]),\n",
    "            #nn.BatchNorm1d(hidden_sizes[3]),\n",
    "            #nn.Tanh(),\n",
    "\n",
    "            nn.Linear(hidden_sizes[2], self.output_size),\n",
    "            nn.Sigmoid()\n",
    "          )\n",
    "  \n",
    "    def forward(self, x):\n",
    "        return self.layers(x)"
   ]
  },
  {
   "cell_type": "code",
   "execution_count": 23,
   "metadata": {},
   "outputs": [],
   "source": [
    "class Dataset(data.Dataset):\n",
    "    def __init__(self, X, y):\n",
    "        self.X = torch.tensor(X).float()\n",
    "        self.y = torch.tensor(y).float()\n",
    "  \n",
    "    def __len__(self):\n",
    "        return self.X.shape[0]\n",
    "  \n",
    "    def __getitem__(self, index):\n",
    "        return self.X[index], self.y[index]\n",
    "    \n",
    "def get_smoothed_log_mape_column_value(responses_column, answers_column, epsilon):\n",
    "    return torch.abs(torch.log((responses_column + epsilon) / (answers_column + epsilon))).mean()\n",
    "\n",
    "\n",
    "def get_smoothed_mean_log_accuracy_ratio(answers, responses, epsilon=0.005):\n",
    "    log_accuracy_ratio_mean = torch.stack(\n",
    "        [\n",
    "            get_smoothed_log_mape_column_value(responses[:, 0], answers[:, 0], epsilon),\n",
    "            get_smoothed_log_mape_column_value(responses[:, 1], answers[:, 1], epsilon),\n",
    "            get_smoothed_log_mape_column_value(responses[:, 2], answers[:, 2], epsilon),\n",
    "        ]\n",
    "    ).mean()\n",
    "    percentage_error = 100 * (torch.exp(log_accuracy_ratio_mean) - 1)\n",
    "\n",
    "    return percentage_error"
   ]
  },
  {
   "cell_type": "code",
   "execution_count": 24,
   "metadata": {},
   "outputs": [],
   "source": [
    "X_train, X_test, y_train, y_test = train_test_split(X, y, test_size=0.2, random_state=42)\n",
    "params = {'batch_size': 32,\n",
    "          'shuffle': True\n",
    "          #'worker_init_fn':random.seed(123)\n",
    "         }\n",
    "\n",
    "train = Dataset(X_train, y_train)\n",
    "train = data.DataLoader(train, **params)\n",
    "X_train = torch.tensor(X_train).float()\n",
    "y_train = torch.tensor(y_train).float()\n",
    "X_test = torch.tensor(X_test).float()\n",
    "y_test = torch.tensor(y_test).float()"
   ]
  },
  {
   "cell_type": "code",
   "execution_count": 63,
   "metadata": {},
   "outputs": [],
   "source": [
    "model = Net([5, 5, 5])\n",
    "opt = optim.Adam(model.parameters(), lr=1e-2, weight_decay=0.05)"
   ]
  },
  {
   "cell_type": "code",
   "execution_count": 64,
   "metadata": {},
   "outputs": [
    {
     "name": "stdout",
     "output_type": "stream",
     "text": [
      "[949, 172, 109, 99, 91, 85, 79, 76, 73, 71, 68, 64, 62, 61, 58, 56, 54, 52, 51, 52]\n",
      "[964, 159, 112, 101, 93, 85, 78, 73, 69, 65, 62, 58, 55, 54, 52, 52, 50, 47, 48, 47]\n"
     ]
    }
   ],
   "source": [
    "epochs = 20\n",
    "test_res = []\n",
    "train_loss = []\n",
    "for i in range(epochs):\n",
    "    model.train()\n",
    "    for X_batch, y_batch in train:\n",
    "        opt.zero_grad()\n",
    "        scores = model(X_batch)\n",
    "        loss = get_smoothed_mean_log_accuracy_ratio(y_batch, scores)\n",
    "        loss.backward()\n",
    "        opt.step()\n",
    "    model.eval()\n",
    "    train_loss.append(int(get_smoothed_mean_log_accuracy_ratio(y_train, model(X_train)).item()))\n",
    "    test_res.append(int(get_smoothed_mean_log_accuracy_ratio(y_test, model(X_test)).item()))\n",
    "print(train_loss)\n",
    "print(test_res)"
   ]
  },
  {
   "cell_type": "code",
   "execution_count": 45,
   "metadata": {},
   "outputs": [],
   "source": [
    "# cpm, publisher_freq_sum, users_activity, hours, \n",
    "# sigmoid lr 5e-3, wd - 0.05; epochs - 20 => 61-110 (40 iter - 43)\n",
    "\n",
    "# cpm, publisher_freq_sum, estim_activity - hours * mean по user'ам {user_i_spend_hours / 1488(=all time)}\n",
    "# sigmoid lr 2e-2, wd - 0.05; epochs - 20 => 45-90\n",
    "\n",
    "# 5 featers, lr - 1e-2 => ~50\n",
    "# 4 featers(wothout hours) lr 9e-3 => a bit worse\n",
    "# 4 featers(without users_activity) lr 9e-3 => same\n",
    "# cpm, publ_fit_users(both variante), estim_activity lr - 1e-2 => 50-80\n",
    "# 47, 63, 57, 68 4 - hours, 3best\n",
    "# bad - cpm, hours / users_overall_activity, publ_fit_users"
   ]
  },
  {
   "cell_type": "code",
   "execution_count": null,
   "metadata": {},
   "outputs": [],
   "source": []
  },
  {
   "cell_type": "code",
   "execution_count": null,
   "metadata": {},
   "outputs": [],
   "source": []
  }
 ],
 "metadata": {
  "kernelspec": {
   "display_name": "Python 3",
   "language": "python",
   "name": "python3"
  },
  "language_info": {
   "codemirror_mode": {
    "name": "ipython",
    "version": 3
   },
   "file_extension": ".py",
   "mimetype": "text/x-python",
   "name": "python",
   "nbconvert_exporter": "python",
   "pygments_lexer": "ipython3",
   "version": "3.7.4"
  }
 },
 "nbformat": 4,
 "nbformat_minor": 2
}
