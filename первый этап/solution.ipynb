{
 "cells": [
  {
   "cell_type": "code",
   "execution_count": 0,
   "metadata": {
    "colab": {},
    "colab_type": "code",
    "id": "r4kPwP0bYygY"
   },
   "outputs": [],
   "source": [
    "import pandas as pd\n",
    "from gensim.models import word2vec\n",
    "import collections\n",
    "import time"
   ]
  },
  {
   "cell_type": "code",
   "execution_count": 61,
   "metadata": {
    "colab": {
     "base_uri": "https://localhost:8080/",
     "height": 187
    },
    "colab_type": "code",
    "executionInfo": {
     "elapsed": 18390,
     "status": "ok",
     "timestamp": 1576167937450,
     "user": {
      "displayName": "NEL VEN",
      "photoUrl": "",
      "userId": "04414681126704222305"
     },
     "user_tz": -180
    },
    "id": "4zGDTlcfZFxP",
    "outputId": "434c13f7-96db-4a31-9222-16585047ed4c"
   },
   "outputs": [
    {
     "name": "stdout",
     "output_type": "stream",
     "text": [
      "Collecting regex\n",
      "\u001b[?25l  Downloading https://files.pythonhosted.org/packages/8c/db/4b29a0adec5881542cd81cb5d1929b5c0787003c5740b3c921e627d9c2e5/regex-2019.12.9.tar.gz (669kB)\n",
      "\r",
      "\u001b[K     |▌                               | 10kB 19.5MB/s eta 0:00:01\r",
      "\u001b[K     |█                               | 20kB 3.1MB/s eta 0:00:01\r",
      "\u001b[K     |█▌                              | 30kB 4.5MB/s eta 0:00:01\r",
      "\u001b[K     |██                              | 40kB 2.9MB/s eta 0:00:01\r",
      "\u001b[K     |██▌                             | 51kB 3.6MB/s eta 0:00:01\r",
      "\u001b[K     |███                             | 61kB 4.3MB/s eta 0:00:01\r",
      "\u001b[K     |███▍                            | 71kB 5.0MB/s eta 0:00:01\r",
      "\u001b[K     |████                            | 81kB 5.6MB/s eta 0:00:01\r",
      "\u001b[K     |████▍                           | 92kB 6.2MB/s eta 0:00:01\r",
      "\u001b[K     |█████                           | 102kB 4.8MB/s eta 0:00:01\r",
      "\u001b[K     |█████▍                          | 112kB 4.8MB/s eta 0:00:01\r",
      "\u001b[K     |█████▉                          | 122kB 4.8MB/s eta 0:00:01\r",
      "\u001b[K     |██████▍                         | 133kB 4.8MB/s eta 0:00:01\r",
      "\u001b[K     |██████▉                         | 143kB 4.8MB/s eta 0:00:01\r",
      "\u001b[K     |███████▍                        | 153kB 4.8MB/s eta 0:00:01\r",
      "\u001b[K     |███████▉                        | 163kB 4.8MB/s eta 0:00:01\r",
      "\u001b[K     |████████▎                       | 174kB 4.8MB/s eta 0:00:01\r",
      "\u001b[K     |████████▉                       | 184kB 4.8MB/s eta 0:00:01\r",
      "\u001b[K     |█████████▎                      | 194kB 4.8MB/s eta 0:00:01\r",
      "\u001b[K     |█████████▉                      | 204kB 4.8MB/s eta 0:00:01\r",
      "\u001b[K     |██████████▎                     | 215kB 4.8MB/s eta 0:00:01\r",
      "\u001b[K     |██████████▊                     | 225kB 4.8MB/s eta 0:00:01\r",
      "\u001b[K     |███████████▎                    | 235kB 4.8MB/s eta 0:00:01\r",
      "\u001b[K     |███████████▊                    | 245kB 4.8MB/s eta 0:00:01\r",
      "\u001b[K     |████████████▎                   | 256kB 4.8MB/s eta 0:00:01\r",
      "\u001b[K     |████████████▊                   | 266kB 4.8MB/s eta 0:00:01\r",
      "\u001b[K     |█████████████▏                  | 276kB 4.8MB/s eta 0:00:01\r",
      "\u001b[K     |█████████████▊                  | 286kB 4.8MB/s eta 0:00:01\r",
      "\u001b[K     |██████████████▏                 | 296kB 4.8MB/s eta 0:00:01\r",
      "\u001b[K     |██████████████▊                 | 307kB 4.8MB/s eta 0:00:01\r",
      "\u001b[K     |███████████████▏                | 317kB 4.8MB/s eta 0:00:01\r",
      "\u001b[K     |███████████████▋                | 327kB 4.8MB/s eta 0:00:01\r",
      "\u001b[K     |████████████████▏               | 337kB 4.8MB/s eta 0:00:01\r",
      "\u001b[K     |████████████████▋               | 348kB 4.8MB/s eta 0:00:01\r",
      "\u001b[K     |█████████████████▏              | 358kB 4.8MB/s eta 0:00:01\r",
      "\u001b[K     |█████████████████▋              | 368kB 4.8MB/s eta 0:00:01\r",
      "\u001b[K     |██████████████████▏             | 378kB 4.8MB/s eta 0:00:01\r",
      "\u001b[K     |██████████████████▋             | 389kB 4.8MB/s eta 0:00:01\r",
      "\u001b[K     |███████████████████             | 399kB 4.8MB/s eta 0:00:01\r",
      "\u001b[K     |███████████████████▋            | 409kB 4.8MB/s eta 0:00:01\r",
      "\u001b[K     |████████████████████            | 419kB 4.8MB/s eta 0:00:01\r",
      "\u001b[K     |████████████████████▋           | 430kB 4.8MB/s eta 0:00:01\r",
      "\u001b[K     |█████████████████████           | 440kB 4.8MB/s eta 0:00:01\r",
      "\u001b[K     |█████████████████████▌          | 450kB 4.8MB/s eta 0:00:01\r",
      "\u001b[K     |██████████████████████          | 460kB 4.8MB/s eta 0:00:01\r",
      "\u001b[K     |██████████████████████▌         | 471kB 4.8MB/s eta 0:00:01\r",
      "\u001b[K     |███████████████████████         | 481kB 4.8MB/s eta 0:00:01\r",
      "\u001b[K     |███████████████████████▌        | 491kB 4.8MB/s eta 0:00:01\r",
      "\u001b[K     |████████████████████████        | 501kB 4.8MB/s eta 0:00:01\r",
      "\u001b[K     |████████████████████████▌       | 512kB 4.8MB/s eta 0:00:01\r",
      "\u001b[K     |█████████████████████████       | 522kB 4.8MB/s eta 0:00:01\r",
      "\u001b[K     |█████████████████████████▌      | 532kB 4.8MB/s eta 0:00:01\r",
      "\u001b[K     |██████████████████████████      | 542kB 4.8MB/s eta 0:00:01\r",
      "\u001b[K     |██████████████████████████▍     | 552kB 4.8MB/s eta 0:00:01\r",
      "\u001b[K     |███████████████████████████     | 563kB 4.8MB/s eta 0:00:01\r",
      "\u001b[K     |███████████████████████████▍    | 573kB 4.8MB/s eta 0:00:01\r",
      "\u001b[K     |████████████████████████████    | 583kB 4.8MB/s eta 0:00:01\r",
      "\u001b[K     |████████████████████████████▍   | 593kB 4.8MB/s eta 0:00:01\r",
      "\u001b[K     |████████████████████████████▉   | 604kB 4.8MB/s eta 0:00:01\r",
      "\u001b[K     |█████████████████████████████▍  | 614kB 4.8MB/s eta 0:00:01\r",
      "\u001b[K     |█████████████████████████████▉  | 624kB 4.8MB/s eta 0:00:01\r",
      "\u001b[K     |██████████████████████████████▍ | 634kB 4.8MB/s eta 0:00:01\r",
      "\u001b[K     |██████████████████████████████▉ | 645kB 4.8MB/s eta 0:00:01\r",
      "\u001b[K     |███████████████████████████████▎| 655kB 4.8MB/s eta 0:00:01\r",
      "\u001b[K     |███████████████████████████████▉| 665kB 4.8MB/s eta 0:00:01\r",
      "\u001b[K     |████████████████████████████████| 675kB 4.8MB/s \n",
      "\u001b[?25hBuilding wheels for collected packages: regex\n",
      "  Building wheel for regex (setup.py) ... \u001b[?25l\u001b[?25hdone\n",
      "  Created wheel for regex: filename=regex-2019.12.9-cp36-cp36m-linux_x86_64.whl size=609179 sha256=360187702c87d6ab21154fc3374fcdc915b1be6eac2648d890b6adb9a2c487e9\n",
      "  Stored in directory: /root/.cache/pip/wheels/0d/fb/b3/a89169557229468c49ca64f6839418f22461f6ee0a74f342b1\n",
      "Successfully built regex\n",
      "Installing collected packages: regex\n",
      "Successfully installed regex-2019.12.9\n"
     ]
    }
   ],
   "source": [
    "!pip install regex\n",
    "import regex\n",
    "import numpy as np\n",
    "import warnings\n",
    "warnings.filterwarnings('ignore')"
   ]
  },
  {
   "cell_type": "code",
   "execution_count": 0,
   "metadata": {
    "colab": {},
    "colab_type": "code",
    "id": "UkbwZfI-ZGN5"
   },
   "outputs": [],
   "source": [
    "data = pd.read_csv('data.csv', sep=';')\n",
    "answer = pd.read_csv('train.csv', sep=';')"
   ]
  },
  {
   "cell_type": "code",
   "execution_count": 0,
   "metadata": {
    "colab": {},
    "colab_type": "code",
    "id": "Xl1Y6balFldT"
   },
   "outputs": [],
   "source": [
    "train_lemma = pd.read_csv('train_lemma.csv', header=None)\n",
    "train_lemma['ID'] = range(1, 30001)"
   ]
  },
  {
   "cell_type": "code",
   "execution_count": 0,
   "metadata": {
    "colab": {
     "base_uri": "https://localhost:8080/",
     "height": 204
    },
    "colab_type": "code",
    "executionInfo": {
     "elapsed": 12860,
     "status": "ok",
     "timestamp": 1576077991682,
     "user": {
      "displayName": "NEL VEN",
      "photoUrl": "",
      "userId": "04414681126704222305"
     },
     "user_tz": -180
    },
    "id": "gApE-1szv4cu",
    "outputId": "4d56bafe-ea54-4dd5-9899-1c99df8ccebf"
   },
   "outputs": [
    {
     "data": {
      "text/html": [
       "<div>\n",
       "<style scoped>\n",
       "    .dataframe tbody tr th:only-of-type {\n",
       "        vertical-align: middle;\n",
       "    }\n",
       "\n",
       "    .dataframe tbody tr th {\n",
       "        vertical-align: top;\n",
       "    }\n",
       "\n",
       "    .dataframe thead th {\n",
       "        text-align: right;\n",
       "    }\n",
       "</style>\n",
       "<table border=\"1\" class=\"dataframe\">\n",
       "  <thead>\n",
       "    <tr style=\"text-align: right;\">\n",
       "      <th></th>\n",
       "      <th>0</th>\n",
       "      <th>1</th>\n",
       "      <th>ID</th>\n",
       "    </tr>\n",
       "  </thead>\n",
       "  <tbody>\n",
       "    <tr>\n",
       "      <th>0</th>\n",
       "      <td>0</td>\n",
       "      <td>['как', 'звать', 'лодочник', 'река', 'стикс', ...</td>\n",
       "      <td>1</td>\n",
       "    </tr>\n",
       "    <tr>\n",
       "      <th>1</th>\n",
       "      <td>1</td>\n",
       "      <td>['как', 'химия', 'обозначать', 'свинец']</td>\n",
       "      <td>2</td>\n",
       "    </tr>\n",
       "    <tr>\n",
       "      <th>2</th>\n",
       "      <td>2</td>\n",
       "      <td>['какой', 'химический', 'элемент', 'преобладат...</td>\n",
       "      <td>3</td>\n",
       "    </tr>\n",
       "    <tr>\n",
       "      <th>3</th>\n",
       "      <td>3</td>\n",
       "      <td>['кто', 'перечислить', 'быть', 'паж', 'время',...</td>\n",
       "      <td>4</td>\n",
       "    </tr>\n",
       "    <tr>\n",
       "      <th>4</th>\n",
       "      <td>4</td>\n",
       "      <td>['когда', 'начаться', 'мировой', 'война']</td>\n",
       "      <td>5</td>\n",
       "    </tr>\n",
       "  </tbody>\n",
       "</table>\n",
       "</div>"
      ],
      "text/plain": [
       "   0                                                  1  ID\n",
       "0  0  ['как', 'звать', 'лодочник', 'река', 'стикс', ...   1\n",
       "1  1           ['как', 'химия', 'обозначать', 'свинец']   2\n",
       "2  2  ['какой', 'химический', 'элемент', 'преобладат...   3\n",
       "3  3  ['кто', 'перечислить', 'быть', 'паж', 'время',...   4\n",
       "4  4          ['когда', 'начаться', 'мировой', 'война']   5"
      ]
     },
     "execution_count": 5,
     "metadata": {
      "tags": []
     },
     "output_type": "execute_result"
    }
   ],
   "source": [
    "train_lemma.head()"
   ]
  },
  {
   "cell_type": "code",
   "execution_count": 0,
   "metadata": {
    "colab": {
     "base_uri": "https://localhost:8080/",
     "height": 34
    },
    "colab_type": "code",
    "executionInfo": {
     "elapsed": 9767,
     "status": "ok",
     "timestamp": 1576077991683,
     "user": {
      "displayName": "NEL VEN",
      "photoUrl": "",
      "userId": "04414681126704222305"
     },
     "user_tz": -180
    },
    "id": "pNRcIE7bvzH6",
    "outputId": "91428b46-db59-49bd-c5a8-9f8e4d689d1a"
   },
   "outputs": [
    {
     "data": {
      "text/plain": [
       "(30000, 3)"
      ]
     },
     "execution_count": 6,
     "metadata": {
      "tags": []
     },
     "output_type": "execute_result"
    }
   ],
   "source": [
    "train_lemma.shape"
   ]
  },
  {
   "cell_type": "code",
   "execution_count": 0,
   "metadata": {
    "colab": {
     "base_uri": "https://localhost:8080/",
     "height": 204
    },
    "colab_type": "code",
    "executionInfo": {
     "elapsed": 12176,
     "status": "ok",
     "timestamp": 1576140508623,
     "user": {
      "displayName": "NEL VEN",
      "photoUrl": "",
      "userId": "04414681126704222305"
     },
     "user_tz": -180
    },
    "id": "zeDmYSVZFqL3",
    "outputId": "5cbeee24-444d-48a2-ebfc-c94f703aef04"
   },
   "outputs": [
    {
     "data": {
      "text/html": [
       "<div>\n",
       "<style scoped>\n",
       "    .dataframe tbody tr th:only-of-type {\n",
       "        vertical-align: middle;\n",
       "    }\n",
       "\n",
       "    .dataframe tbody tr th {\n",
       "        vertical-align: top;\n",
       "    }\n",
       "\n",
       "    .dataframe thead th {\n",
       "        text-align: right;\n",
       "    }\n",
       "</style>\n",
       "<table border=\"1\" class=\"dataframe\">\n",
       "  <thead>\n",
       "    <tr style=\"text-align: right;\">\n",
       "      <th></th>\n",
       "      <th>ID</th>\n",
       "      <th>Answer</th>\n",
       "    </tr>\n",
       "  </thead>\n",
       "  <tbody>\n",
       "    <tr>\n",
       "      <th>0</th>\n",
       "      <td>1</td>\n",
       "      <td>0</td>\n",
       "    </tr>\n",
       "    <tr>\n",
       "      <th>1</th>\n",
       "      <td>2</td>\n",
       "      <td>1</td>\n",
       "    </tr>\n",
       "    <tr>\n",
       "      <th>2</th>\n",
       "      <td>3</td>\n",
       "      <td>0</td>\n",
       "    </tr>\n",
       "    <tr>\n",
       "      <th>3</th>\n",
       "      <td>4</td>\n",
       "      <td>0</td>\n",
       "    </tr>\n",
       "    <tr>\n",
       "      <th>4</th>\n",
       "      <td>5</td>\n",
       "      <td>0</td>\n",
       "    </tr>\n",
       "  </tbody>\n",
       "</table>\n",
       "</div>"
      ],
      "text/plain": [
       "   ID  Answer\n",
       "0   1       0\n",
       "1   2       1\n",
       "2   3       0\n",
       "3   4       0\n",
       "4   5       0"
      ]
     },
     "execution_count": 4,
     "metadata": {
      "tags": []
     },
     "output_type": "execute_result"
    }
   ],
   "source": [
    "answer.head()"
   ]
  },
  {
   "cell_type": "code",
   "execution_count": 0,
   "metadata": {
    "colab": {
     "base_uri": "https://localhost:8080/",
     "height": 34
    },
    "colab_type": "code",
    "executionInfo": {
     "elapsed": 8455,
     "status": "ok",
     "timestamp": 1576140508624,
     "user": {
      "displayName": "NEL VEN",
      "photoUrl": "",
      "userId": "04414681126704222305"
     },
     "user_tz": -180
    },
    "id": "p1LVQ8QOfsrh",
    "outputId": "73d686ad-f4c3-4195-86a7-185763ca791d"
   },
   "outputs": [
    {
     "data": {
      "text/plain": [
       "(41087, 2)"
      ]
     },
     "execution_count": 5,
     "metadata": {
      "tags": []
     },
     "output_type": "execute_result"
    }
   ],
   "source": [
    "data.shape"
   ]
  },
  {
   "cell_type": "code",
   "execution_count": 0,
   "metadata": {
    "colab": {},
    "colab_type": "code",
    "id": "q8colB-7ZJq4"
   },
   "outputs": [],
   "source": [
    "df = pd.merge(data, answer)\n",
    "#df = pd.merge(df, train_lemma)"
   ]
  },
  {
   "cell_type": "code",
   "execution_count": 0,
   "metadata": {
    "colab": {
     "base_uri": "https://localhost:8080/",
     "height": 34
    },
    "colab_type": "code",
    "executionInfo": {
     "elapsed": 3032,
     "status": "ok",
     "timestamp": 1576140508626,
     "user": {
      "displayName": "NEL VEN",
      "photoUrl": "",
      "userId": "04414681126704222305"
     },
     "user_tz": -180
    },
    "id": "NtPf3VRHfvfH",
    "outputId": "0c411523-429f-4034-8113-c972e6312930"
   },
   "outputs": [
    {
     "data": {
      "text/plain": [
       "(30000, 3)"
      ]
     },
     "execution_count": 7,
     "metadata": {
      "tags": []
     },
     "output_type": "execute_result"
    }
   ],
   "source": [
    "df.shape"
   ]
  },
  {
   "cell_type": "code",
   "execution_count": 0,
   "metadata": {
    "colab": {
     "base_uri": "https://localhost:8080/",
     "height": 34
    },
    "colab_type": "code",
    "executionInfo": {
     "elapsed": 549,
     "status": "ok",
     "timestamp": 1576048211383,
     "user": {
      "displayName": "NEL VEN",
      "photoUrl": "",
      "userId": "04414681126704222305"
     },
     "user_tz": -180
    },
    "id": "pO_T8_-iyjn9",
    "outputId": "7f0eed62-ca33-4dec-97bc-515895d2c8f4"
   },
   "outputs": [
    {
     "data": {
      "text/plain": [
       "'word'"
      ]
     },
     "execution_count": 41,
     "metadata": {
      "tags": []
     },
     "output_type": "execute_result"
    }
   ],
   "source": [
    "'\\'word\\''[1:-1]"
   ]
  },
  {
   "cell_type": "code",
   "execution_count": 0,
   "metadata": {
    "colab": {},
    "colab_type": "code",
    "id": "cKYc_o6dwTlS"
   },
   "outputs": [],
   "source": [
    "df.rename({1: 'lemma'}, axis=1, inplace=True)"
   ]
  },
  {
   "cell_type": "code",
   "execution_count": 0,
   "metadata": {
    "colab": {
     "base_uri": "https://localhost:8080/",
     "height": 34
    },
    "colab_type": "code",
    "executionInfo": {
     "elapsed": 611,
     "status": "ok",
     "timestamp": 1576078011105,
     "user": {
      "displayName": "NEL VEN",
      "photoUrl": "",
      "userId": "04414681126704222305"
     },
     "user_tz": -180
    },
    "id": "Pm5loDvazOLu",
    "outputId": "f851c732-f217-408e-e1ea-3d3985269339"
   },
   "outputs": [
    {
     "data": {
      "text/plain": [
       "\"['как', 'звать', 'лодочник', 'река', 'стикс', 'древнегреческий', 'мифология']\""
      ]
     },
     "execution_count": 12,
     "metadata": {
      "tags": []
     },
     "output_type": "execute_result"
    }
   ],
   "source": [
    "df.lemma[0]"
   ]
  },
  {
   "cell_type": "code",
   "execution_count": 0,
   "metadata": {
    "colab": {},
    "colab_type": "code",
    "id": "cTytRJegwlF_"
   },
   "outputs": [],
   "source": [
    "df.lemma = df.lemma.apply(lambda x: ' '.join([word[2:-1] for word in x[0:-1].split(',')]))"
   ]
  },
  {
   "cell_type": "code",
   "execution_count": 66,
   "metadata": {
    "colab": {
     "base_uri": "https://localhost:8080/",
     "height": 204
    },
    "colab_type": "code",
    "executionInfo": {
     "elapsed": 1157,
     "status": "ok",
     "timestamp": 1576168022550,
     "user": {
      "displayName": "NEL VEN",
      "photoUrl": "",
      "userId": "04414681126704222305"
     },
     "user_tz": -180
    },
    "id": "1TleIDFfZKrg",
    "outputId": "d47d3bf9-6fd5-4303-d77f-b9219e0ca6fa"
   },
   "outputs": [
    {
     "data": {
      "text/html": [
       "<div>\n",
       "<style scoped>\n",
       "    .dataframe tbody tr th:only-of-type {\n",
       "        vertical-align: middle;\n",
       "    }\n",
       "\n",
       "    .dataframe tbody tr th {\n",
       "        vertical-align: top;\n",
       "    }\n",
       "\n",
       "    .dataframe thead th {\n",
       "        text-align: right;\n",
       "    }\n",
       "</style>\n",
       "<table border=\"1\" class=\"dataframe\">\n",
       "  <thead>\n",
       "    <tr style=\"text-align: right;\">\n",
       "      <th></th>\n",
       "      <th>ID</th>\n",
       "      <th>Question</th>\n",
       "      <th>Answer</th>\n",
       "    </tr>\n",
       "  </thead>\n",
       "  <tbody>\n",
       "    <tr>\n",
       "      <th>0</th>\n",
       "      <td>1</td>\n",
       "      <td>Как зовут лодочника на реке Стикс в древнегреч...</td>\n",
       "      <td>0</td>\n",
       "    </tr>\n",
       "    <tr>\n",
       "      <th>1</th>\n",
       "      <td>2</td>\n",
       "      <td>Как в химии обозначается свинец?</td>\n",
       "      <td>1</td>\n",
       "    </tr>\n",
       "    <tr>\n",
       "      <th>2</th>\n",
       "      <td>3</td>\n",
       "      <td>Какой химический элемент преобладает в составе...</td>\n",
       "      <td>0</td>\n",
       "    </tr>\n",
       "    <tr>\n",
       "      <th>3</th>\n",
       "      <td>4</td>\n",
       "      <td>Кто из перечисленных был пажом во времена Екат...</td>\n",
       "      <td>0</td>\n",
       "    </tr>\n",
       "    <tr>\n",
       "      <th>4</th>\n",
       "      <td>5</td>\n",
       "      <td>Когда началась 2 мировая война?</td>\n",
       "      <td>0</td>\n",
       "    </tr>\n",
       "  </tbody>\n",
       "</table>\n",
       "</div>"
      ],
      "text/plain": [
       "   ID                                           Question  Answer\n",
       "0   1  Как зовут лодочника на реке Стикс в древнегреч...       0\n",
       "1   2                   Как в химии обозначается свинец?       1\n",
       "2   3  Какой химический элемент преобладает в составе...       0\n",
       "3   4  Кто из перечисленных был пажом во времена Екат...       0\n",
       "4   5                    Когда началась 2 мировая война?       0"
      ]
     },
     "execution_count": 66,
     "metadata": {
      "tags": []
     },
     "output_type": "execute_result"
    }
   ],
   "source": [
    "df.head()"
   ]
  },
  {
   "cell_type": "code",
   "execution_count": 79,
   "metadata": {
    "colab": {
     "base_uri": "https://localhost:8080/",
     "height": 34
    },
    "colab_type": "code",
    "executionInfo": {
     "elapsed": 600,
     "status": "ok",
     "timestamp": 1576168362068,
     "user": {
      "displayName": "NEL VEN",
      "photoUrl": "",
      "userId": "04414681126704222305"
     },
     "user_tz": -180
    },
    "id": "0eTKyale8MRd",
    "outputId": "08762891-44bd-4370-d5c7-a53fdea2f379"
   },
   "outputs": [
    {
     "data": {
      "text/plain": [
       "(6, 6841)"
      ]
     },
     "execution_count": 79,
     "metadata": {
      "tags": []
     },
     "output_type": "execute_result"
    }
   ],
   "source": [
    "df[(df.Question.apply(lambda x: x[-1]) != '?')].Answer.sum(), df[(df.Question.apply(lambda x: x[-1]) != '?')].shape[0]"
   ]
  },
  {
   "cell_type": "code",
   "execution_count": 88,
   "metadata": {
    "colab": {
     "base_uri": "https://localhost:8080/",
     "height": 235
    },
    "colab_type": "code",
    "executionInfo": {
     "elapsed": 518,
     "status": "ok",
     "timestamp": 1576169353578,
     "user": {
      "displayName": "NEL VEN",
      "photoUrl": "",
      "userId": "04414681126704222305"
     },
     "user_tz": -180
    },
    "id": "G4VFTk6fA5ys",
    "outputId": "17347149-058a-4aaa-b380-16fe5c5a31a1"
   },
   "outputs": [
    {
     "data": {
      "text/html": [
       "<div>\n",
       "<style scoped>\n",
       "    .dataframe tbody tr th:only-of-type {\n",
       "        vertical-align: middle;\n",
       "    }\n",
       "\n",
       "    .dataframe tbody tr th {\n",
       "        vertical-align: top;\n",
       "    }\n",
       "\n",
       "    .dataframe thead th {\n",
       "        text-align: right;\n",
       "    }\n",
       "</style>\n",
       "<table border=\"1\" class=\"dataframe\">\n",
       "  <thead>\n",
       "    <tr style=\"text-align: right;\">\n",
       "      <th></th>\n",
       "      <th>ID</th>\n",
       "      <th>Question</th>\n",
       "      <th>Answer</th>\n",
       "    </tr>\n",
       "  </thead>\n",
       "  <tbody>\n",
       "    <tr>\n",
       "      <th>3590</th>\n",
       "      <td>3591</td>\n",
       "      <td>Какого лютоволка НЕ БЫЛО у семьи Старков в сер...</td>\n",
       "      <td>1</td>\n",
       "    </tr>\n",
       "    <tr>\n",
       "      <th>4881</th>\n",
       "      <td>4882</td>\n",
       "      <td>Какое имя у главного героя видеоигры «Ведьмак»?</td>\n",
       "      <td>1</td>\n",
       "    </tr>\n",
       "    <tr>\n",
       "      <th>5723</th>\n",
       "      <td>5724</td>\n",
       "      <td>Кто впервые в истории авиации выполнил фигуру ...</td>\n",
       "      <td>1</td>\n",
       "    </tr>\n",
       "    <tr>\n",
       "      <th>7952</th>\n",
       "      <td>7953</td>\n",
       "      <td>Родимое пятно в форме какой страны было у Агат...</td>\n",
       "      <td>1</td>\n",
       "    </tr>\n",
       "    <tr>\n",
       "      <th>18405</th>\n",
       "      <td>18406</td>\n",
       "      <td>Что изучает цитология?</td>\n",
       "      <td>1</td>\n",
       "    </tr>\n",
       "    <tr>\n",
       "      <th>23298</th>\n",
       "      <td>23299</td>\n",
       "      <td>Кто является автором романа «Отцы и дети?»</td>\n",
       "      <td>1</td>\n",
       "    </tr>\n",
       "  </tbody>\n",
       "</table>\n",
       "</div>"
      ],
      "text/plain": [
       "          ID                                           Question  Answer\n",
       "3590    3591  Какого лютоволка НЕ БЫЛО у семьи Старков в сер...       1\n",
       "4881    4882   Какое имя у главного героя видеоигры «Ведьмак»?        1\n",
       "5723    5724  Кто впервые в истории авиации выполнил фигуру ...       1\n",
       "7952    7953  Родимое пятно в форме какой страны было у Агат...       1\n",
       "18405  18406                            Что изучает цитология?        1\n",
       "23298  23299         Кто является автором романа «Отцы и дети?»       1"
      ]
     },
     "execution_count": 88,
     "metadata": {
      "tags": []
     },
     "output_type": "execute_result"
    }
   ],
   "source": [
    "df[(df.Question.apply(lambda x: x[-1]) != '?') & (df.Answer == 1)]"
   ]
  },
  {
   "cell_type": "code",
   "execution_count": 100,
   "metadata": {
    "colab": {
     "base_uri": "https://localhost:8080/",
     "height": 34
    },
    "colab_type": "code",
    "executionInfo": {
     "elapsed": 764,
     "status": "ok",
     "timestamp": 1576169551709,
     "user": {
      "displayName": "NEL VEN",
      "photoUrl": "",
      "userId": "04414681126704222305"
     },
     "user_tz": -180
    },
    "id": "sDzXlLy_AXMg",
    "outputId": "63905a6e-2d5f-4599-ffb0-062a8e0fdea8"
   },
   "outputs": [
    {
     "data": {
      "text/plain": [
       "'Родимое пятно в форме какой страны было у Агаты — персонажа фильма \"Отель Гранд Будапешт\"'"
      ]
     },
     "execution_count": 100,
     "metadata": {
      "tags": []
     },
     "output_type": "execute_result"
    }
   ],
   "source": [
    "df[(df.Question.apply(lambda x: x[-1]) != '?') & (df.Answer == 1)].iloc[3, 1]"
   ]
  },
  {
   "cell_type": "code",
   "execution_count": 92,
   "metadata": {
    "colab": {
     "base_uri": "https://localhost:8080/",
     "height": 34
    },
    "colab_type": "code",
    "executionInfo": {
     "elapsed": 526,
     "status": "ok",
     "timestamp": 1576169497679,
     "user": {
      "displayName": "NEL VEN",
      "photoUrl": "",
      "userId": "04414681126704222305"
     },
     "user_tz": -180
    },
    "id": "s61aYABZBG0Q",
    "outputId": "eca37c4e-b8b8-431a-bcc9-b56a5aa608da"
   },
   "outputs": [
    {
     "data": {
      "text/plain": [
       "(2, 201)"
      ]
     },
     "execution_count": 92,
     "metadata": {
      "tags": []
     },
     "output_type": "execute_result"
    }
   ],
   "source": [
    "df[(df.Question.apply(lambda x: x[-1]) == '»')].Answer.sum(), df[(df.Question.apply(lambda x: x[-1]) == '»')].shape[0]"
   ]
  },
  {
   "cell_type": "code",
   "execution_count": 0,
   "metadata": {
    "colab": {
     "base_uri": "https://localhost:8080/",
     "height": 34
    },
    "colab_type": "code",
    "executionInfo": {
     "elapsed": 587,
     "status": "ok",
     "timestamp": 1575816936739,
     "user": {
      "displayName": "NEL VEN",
      "photoUrl": "",
      "userId": "04414681126704222305"
     },
     "user_tz": -180
    },
    "id": "9TG583rBAWap",
    "outputId": "2928db14-5b8c-4949-e793-c94f6c1e590c"
   },
   "outputs": [
    {
     "data": {
      "text/plain": [
       "10.386666666666667"
      ]
     },
     "execution_count": 222,
     "metadata": {
      "tags": []
     },
     "output_type": "execute_result"
    }
   ],
   "source": [
    "df.Answer.sum() / df.shape[0] * 100"
   ]
  },
  {
   "cell_type": "code",
   "execution_count": 0,
   "metadata": {
    "colab": {},
    "colab_type": "code",
    "id": "HQA09co8ZSXv"
   },
   "outputs": [],
   "source": [
    "lens = df.Question.apply(len)"
   ]
  },
  {
   "cell_type": "code",
   "execution_count": 0,
   "metadata": {
    "colab": {},
    "colab_type": "code",
    "id": "66vy_kkSZLgJ"
   },
   "outputs": [],
   "source": [
    "df['lens'] = lens"
   ]
  },
  {
   "cell_type": "code",
   "execution_count": 0,
   "metadata": {
    "colab": {
     "base_uri": "https://localhost:8080/",
     "height": 34
    },
    "colab_type": "code",
    "executionInfo": {
     "elapsed": 482,
     "status": "ok",
     "timestamp": 1575808456012,
     "user": {
      "displayName": "NEL VEN",
      "photoUrl": "",
      "userId": "04414681126704222305"
     },
     "user_tz": -180
    },
    "id": "VQ8rhwwEZkmI",
    "outputId": "814d583b-59e6-4c5c-94db-526e933ebaa1"
   },
   "outputs": [
    {
     "data": {
      "text/plain": [
       "'Как зовут лодочника на реке Стикс в древнегреческой мифологии?'"
      ]
     },
     "execution_count": 11,
     "metadata": {
      "tags": []
     },
     "output_type": "execute_result"
    }
   ],
   "source": [
    "df.iloc[0, 1]"
   ]
  },
  {
   "cell_type": "code",
   "execution_count": 0,
   "metadata": {
    "colab": {
     "base_uri": "https://localhost:8080/",
     "height": 34
    },
    "colab_type": "code",
    "executionInfo": {
     "elapsed": 507,
     "status": "ok",
     "timestamp": 1576005488562,
     "user": {
      "displayName": "NEL VEN",
      "photoUrl": "",
      "userId": "04414681126704222305"
     },
     "user_tz": -180
    },
    "id": "CIvwB-QKZPvn",
    "outputId": "3d26ffbe-753a-48a6-f365-d531491b1cd9"
   },
   "outputs": [
    {
     "data": {
      "text/plain": [
       "'как зовут лодочника на реке стикс в древнегреческой мифологии '"
      ]
     },
     "execution_count": 8,
     "metadata": {
      "tags": []
     },
     "output_type": "execute_result"
    }
   ],
   "source": [
    "regex.sub(r'[^\\p{Cyrillic}\\d]', ' ', df.iloc[0, 1].lower())"
   ]
  },
  {
   "cell_type": "code",
   "execution_count": 0,
   "metadata": {
    "colab": {},
    "colab_type": "code",
    "id": "BwEY43hmaBXK"
   },
   "outputs": [],
   "source": [
    "df_mod = df.copy()"
   ]
  },
  {
   "cell_type": "code",
   "execution_count": 0,
   "metadata": {
    "colab": {},
    "colab_type": "code",
    "id": "AeWcmkr7Za3f"
   },
   "outputs": [],
   "source": [
    "df.Question = df.apply(lambda x: regex.sub(r'[^\\p{Cyrillic}]', ' ', x.Question.lower()), axis=1)"
   ]
  },
  {
   "cell_type": "code",
   "execution_count": 0,
   "metadata": {
    "colab": {},
    "colab_type": "code",
    "id": "TRs6J0fXkgwy"
   },
   "outputs": [],
   "source": [
    "### Different "
   ]
  },
  {
   "cell_type": "code",
   "execution_count": 0,
   "metadata": {
    "colab": {},
    "colab_type": "code",
    "id": "ADlnJlX6k7zO"
   },
   "outputs": [],
   "source": [
    "import re, string\n",
    "re_tok = re.compile(f'([{string.punctuation}“”¨«»®´·º½¾¿¡§£₤‘’])')\n",
    "def tokenize(s): return re_tok.sub(r' \\1 ', s).split()"
   ]
  },
  {
   "cell_type": "code",
   "execution_count": 0,
   "metadata": {
    "colab": {},
    "colab_type": "code",
    "id": "MXYSrqe3bIg_"
   },
   "outputs": [],
   "source": [
    "df_tok = df_mod.copy()"
   ]
  },
  {
   "cell_type": "code",
   "execution_count": 0,
   "metadata": {
    "colab": {},
    "colab_type": "code",
    "id": "quk1T37pbLcO"
   },
   "outputs": [],
   "source": [
    "df.Question = df.Question.apply(lambda text: ' '.join([word for word in text.split() if len(word) > 2]))"
   ]
  },
  {
   "cell_type": "code",
   "execution_count": 0,
   "metadata": {
    "colab": {
     "base_uri": "https://localhost:8080/",
     "height": 204
    },
    "colab_type": "code",
    "executionInfo": {
     "elapsed": 777,
     "status": "ok",
     "timestamp": 1576055226791,
     "user": {
      "displayName": "NEL VEN",
      "photoUrl": "",
      "userId": "04414681126704222305"
     },
     "user_tz": -180
    },
    "id": "l04AI86gbyof",
    "outputId": "e1c89330-d1e4-4120-9770-6c0ac24385f9"
   },
   "outputs": [
    {
     "data": {
      "text/html": [
       "<div>\n",
       "<style scoped>\n",
       "    .dataframe tbody tr th:only-of-type {\n",
       "        vertical-align: middle;\n",
       "    }\n",
       "\n",
       "    .dataframe tbody tr th {\n",
       "        vertical-align: top;\n",
       "    }\n",
       "\n",
       "    .dataframe thead th {\n",
       "        text-align: right;\n",
       "    }\n",
       "</style>\n",
       "<table border=\"1\" class=\"dataframe\">\n",
       "  <thead>\n",
       "    <tr style=\"text-align: right;\">\n",
       "      <th></th>\n",
       "      <th>ID</th>\n",
       "      <th>Question</th>\n",
       "      <th>Answer</th>\n",
       "      <th>lemma</th>\n",
       "      <th>lens</th>\n",
       "    </tr>\n",
       "  </thead>\n",
       "  <tbody>\n",
       "    <tr>\n",
       "      <th>0</th>\n",
       "      <td>1</td>\n",
       "      <td>как зовут лодочника реке стикс древнегреческой...</td>\n",
       "      <td>0</td>\n",
       "      <td>как звать лодочник река стикс древнегреческий ...</td>\n",
       "      <td>5</td>\n",
       "    </tr>\n",
       "    <tr>\n",
       "      <th>1</th>\n",
       "      <td>2</td>\n",
       "      <td>как химии обозначается свинец</td>\n",
       "      <td>1</td>\n",
       "      <td>как химия обозначать свинец</td>\n",
       "      <td>3</td>\n",
       "    </tr>\n",
       "    <tr>\n",
       "      <th>2</th>\n",
       "      <td>3</td>\n",
       "      <td>какой химический элемент преобладает составе к...</td>\n",
       "      <td>0</td>\n",
       "      <td>какой химический элемент преобладать состав ка...</td>\n",
       "      <td>4</td>\n",
       "    </tr>\n",
       "    <tr>\n",
       "      <th>3</th>\n",
       "      <td>4</td>\n",
       "      <td>кто перечисленных был пажом времена екатерины</td>\n",
       "      <td>0</td>\n",
       "      <td>кто перечислить быть паж время екатерина</td>\n",
       "      <td>5</td>\n",
       "    </tr>\n",
       "    <tr>\n",
       "      <th>4</th>\n",
       "      <td>5</td>\n",
       "      <td>когда началась мировая война</td>\n",
       "      <td>0</td>\n",
       "      <td>когда начаться мировой война</td>\n",
       "      <td>4</td>\n",
       "    </tr>\n",
       "  </tbody>\n",
       "</table>\n",
       "</div>"
      ],
      "text/plain": [
       "   ID  ... lens\n",
       "0   1  ...    5\n",
       "1   2  ...    3\n",
       "2   3  ...    4\n",
       "3   4  ...    5\n",
       "4   5  ...    4\n",
       "\n",
       "[5 rows x 5 columns]"
      ]
     },
     "execution_count": 400,
     "metadata": {
      "tags": []
     },
     "output_type": "execute_result"
    }
   ],
   "source": [
    "df.head()"
   ]
  },
  {
   "cell_type": "code",
   "execution_count": 0,
   "metadata": {
    "colab": {},
    "colab_type": "code",
    "id": "e03cP1C5Z96h"
   },
   "outputs": [],
   "source": [
    "import nltk"
   ]
  },
  {
   "cell_type": "code",
   "execution_count": 0,
   "metadata": {
    "colab": {
     "base_uri": "https://localhost:8080/",
     "height": 34
    },
    "colab_type": "code",
    "executionInfo": {
     "elapsed": 924,
     "status": "ok",
     "timestamp": 1576055248474,
     "user": {
      "displayName": "NEL VEN",
      "photoUrl": "",
      "userId": "04414681126704222305"
     },
     "user_tz": -180
    },
    "id": "ra7yJNtFab9l",
    "outputId": "e8e40e2f-fe21-41f7-8524-0f5098cad344"
   },
   "outputs": [
    {
     "name": "stdout",
     "output_type": "stream",
     "text": [
      "машин обучен\n"
     ]
    }
   ],
   "source": [
    "stemmer = nltk.stem.snowball.RussianStemmer()\n",
    "print(stemmer.stem(u'машинное'), stemmer.stem(u'обучение'))"
   ]
  },
  {
   "cell_type": "code",
   "execution_count": 0,
   "metadata": {
    "colab": {},
    "colab_type": "code",
    "id": "2tqi3XbeaZ01"
   },
   "outputs": [],
   "source": [
    "def stem_text(text, stemmer):\n",
    "    tokens = text.split()\n",
    "    return ' '.join(map(lambda w: stemmer.stem(w), tokens))\n",
    "\n",
    "stemmed_texts = []\n",
    "for t in df.iloc[:, 1]:\n",
    "    stemmed_texts.append(stem_text(t, stemmer)) "
   ]
  },
  {
   "cell_type": "code",
   "execution_count": 0,
   "metadata": {
    "colab": {},
    "colab_type": "code",
    "id": "LYScCyDWelit"
   },
   "outputs": [],
   "source": [
    "#@title Lemming\n"
   ]
  },
  {
   "cell_type": "code",
   "execution_count": 0,
   "metadata": {
    "colab": {},
    "colab_type": "code",
    "id": "_7CM88Goev_P"
   },
   "outputs": [],
   "source": [
    "!pip install stanfordnlp\n",
    "!pip install spacy_stanfordnlp\n",
    "import stanfordnlp\n",
    "from spacy_stanfordnlp import StanfordNLPLanguage\n",
    "\n",
    "stanfordnlp.download(\"ru\")   #/root/stanfordnlp_resources/ru_syntagrus_models.zip\n",
    "!pip install pymorphy2==0.8\n",
    "snlp = stanfordnlp.Pipeline(lang=\"ru\")\n",
    "nlp = StanfordNLPLanguage(snlp)"
   ]
  },
  {
   "cell_type": "code",
   "execution_count": 0,
   "metadata": {
    "colab": {
     "base_uri": "https://localhost:8080/",
     "height": 102
    },
    "colab_type": "code",
    "executionInfo": {
     "elapsed": 797,
     "status": "ok",
     "timestamp": 1576010058908,
     "user": {
      "displayName": "NEL VEN",
      "photoUrl": "",
      "userId": "04414681126704222305"
     },
     "user_tz": -180
    },
    "id": "SZgRBFLig7yg",
    "outputId": "208f2287-00f8-4b76-9565-dfa7efd7619c"
   },
   "outputs": [
    {
     "name": "stdout",
     "output_type": "stream",
     "text": [
      "В в ADP case\n",
      "СССР ссср PROPN root\n",
      "все все PRON nsubj\n",
      "были быть AUX cop\n",
      "неравны неравный ADJ nsubj\n"
     ]
    }
   ],
   "source": [
    "doc = nlp(\"В СССР все были неравны\")\n",
    "for token in doc:\n",
    "    print(token.text, token.lemma_, token.pos_, token.dep_)"
   ]
  },
  {
   "cell_type": "code",
   "execution_count": 0,
   "metadata": {
    "colab": {
     "base_uri": "https://localhost:8080/",
     "height": 51
    },
    "colab_type": "code",
    "executionInfo": {
     "elapsed": 515,
     "status": "ok",
     "timestamp": 1576010914738,
     "user": {
      "displayName": "NEL VEN",
      "photoUrl": "",
      "userId": "04414681126704222305"
     },
     "user_tz": -180
    },
    "id": "_VSXHHElkdx9",
    "outputId": "3b1840cc-3614-477c-d85f-f8cc431842b9"
   },
   "outputs": [
    {
     "data": {
      "text/plain": [
       "0    [как, звать, лодочник, река, стикс, древнегреч...\n",
       "Name: Question, dtype: object"
      ]
     },
     "execution_count": 302,
     "metadata": {
      "tags": []
     },
     "output_type": "execute_result"
    }
   ],
   "source": [
    "df_final.iloc[0:1, 1].apply(lambda x: [token.lemma_ for token in nlp(x)])"
   ]
  },
  {
   "cell_type": "code",
   "execution_count": 0,
   "metadata": {
    "colab": {
     "base_uri": "https://localhost:8080/",
     "height": 34
    },
    "colab_type": "code",
    "executionInfo": {
     "elapsed": 3619399,
     "status": "ok",
     "timestamp": 1576014546775,
     "user": {
      "displayName": "NEL VEN",
      "photoUrl": "",
      "userId": "04414681126704222305"
     },
     "user_tz": -180
    },
    "id": "QJ3R7dYkhUIw",
    "outputId": "db766774-9b9c-4007-d987-f05f98d317f7"
   },
   "outputs": [
    {
     "data": {
      "text/plain": [
       "3619.134011030197"
      ]
     },
     "execution_count": 303,
     "metadata": {
      "tags": []
     },
     "output_type": "execute_result"
    }
   ],
   "source": [
    "start = time.time()\n",
    "df_final[\"lemma\"] = df_final.iloc[:, 1].apply(lambda x: [token.lemma_ for token in nlp(x)])\n",
    "# train_lemma.apply(lambda x: ' '.join(x))\n",
    "end = time.time()\n",
    "end - start"
   ]
  },
  {
   "cell_type": "code",
   "execution_count": 0,
   "metadata": {
    "colab": {},
    "colab_type": "code",
    "id": "9IjjLZ1TzeyH"
   },
   "outputs": [],
   "source": [
    "train_lemma = df_final[\"lemma\"]"
   ]
  },
  {
   "cell_type": "code",
   "execution_count": 0,
   "metadata": {
    "colab": {},
    "colab_type": "code",
    "id": "V1xvCH7ZzdEV"
   },
   "outputs": [],
   "source": [
    "train_lemma.to_csv('train_lemma.csv', header=None)"
   ]
  },
  {
   "cell_type": "code",
   "execution_count": 0,
   "metadata": {
    "colab": {
     "base_uri": "https://localhost:8080/",
     "height": 204
    },
    "colab_type": "code",
    "executionInfo": {
     "elapsed": 622,
     "status": "ok",
     "timestamp": 1576016967975,
     "user": {
      "displayName": "NEL VEN",
      "photoUrl": "",
      "userId": "04414681126704222305"
     },
     "user_tz": -180
    },
    "id": "5Hge9Iw6zBYs",
    "outputId": "73dcb685-8e2c-4d12-e6f1-f8767c13bbf7"
   },
   "outputs": [
    {
     "data": {
      "text/html": [
       "<div>\n",
       "<style scoped>\n",
       "    .dataframe tbody tr th:only-of-type {\n",
       "        vertical-align: middle;\n",
       "    }\n",
       "\n",
       "    .dataframe tbody tr th {\n",
       "        vertical-align: top;\n",
       "    }\n",
       "\n",
       "    .dataframe thead th {\n",
       "        text-align: right;\n",
       "    }\n",
       "</style>\n",
       "<table border=\"1\" class=\"dataframe\">\n",
       "  <thead>\n",
       "    <tr style=\"text-align: right;\">\n",
       "      <th></th>\n",
       "      <th>ID</th>\n",
       "      <th>Question</th>\n",
       "      <th>Answer</th>\n",
       "      <th>stemmed</th>\n",
       "      <th>lemma</th>\n",
       "    </tr>\n",
       "  </thead>\n",
       "  <tbody>\n",
       "    <tr>\n",
       "      <th>0</th>\n",
       "      <td>1</td>\n",
       "      <td>как зовут лодочника реке стикс древнегреческой...</td>\n",
       "      <td>0</td>\n",
       "      <td>как зовут лодочник рек стикс древнегреческ миф...</td>\n",
       "      <td>как звать лодочник река стикс древнегреческий ...</td>\n",
       "    </tr>\n",
       "    <tr>\n",
       "      <th>1</th>\n",
       "      <td>2</td>\n",
       "      <td>как химии обозначается свинец</td>\n",
       "      <td>1</td>\n",
       "      <td>как хим обознача свинец</td>\n",
       "      <td>как химия обозначать свинец</td>\n",
       "    </tr>\n",
       "    <tr>\n",
       "      <th>2</th>\n",
       "      <td>3</td>\n",
       "      <td>какой химический элемент преобладает составе к...</td>\n",
       "      <td>0</td>\n",
       "      <td>как химическ элемент преоблада состав камен угл</td>\n",
       "      <td>какой химический элемент преобладать состав ка...</td>\n",
       "    </tr>\n",
       "    <tr>\n",
       "      <th>3</th>\n",
       "      <td>4</td>\n",
       "      <td>кто перечисленных был пажом времена екатерины</td>\n",
       "      <td>0</td>\n",
       "      <td>кто перечислен был паж врем екатерин</td>\n",
       "      <td>кто перечислить быть паж время екатерина</td>\n",
       "    </tr>\n",
       "    <tr>\n",
       "      <th>4</th>\n",
       "      <td>5</td>\n",
       "      <td>когда началась мировая война</td>\n",
       "      <td>0</td>\n",
       "      <td>когд нача миров войн</td>\n",
       "      <td>когда начаться мировой война</td>\n",
       "    </tr>\n",
       "  </tbody>\n",
       "</table>\n",
       "</div>"
      ],
      "text/plain": [
       "   ID  ...                                              lemma\n",
       "0   1  ...  как звать лодочник река стикс древнегреческий ...\n",
       "1   2  ...                        как химия обозначать свинец\n",
       "2   3  ...  какой химический элемент преобладать состав ка...\n",
       "3   4  ...           кто перечислить быть паж время екатерина\n",
       "4   5  ...                       когда начаться мировой война\n",
       "\n",
       "[5 rows x 5 columns]"
      ]
     },
     "execution_count": 324,
     "metadata": {
      "tags": []
     },
     "output_type": "execute_result"
    }
   ],
   "source": [
    "df_final.head()"
   ]
  },
  {
   "cell_type": "code",
   "execution_count": 0,
   "metadata": {
    "colab": {
     "base_uri": "https://localhost:8080/",
     "height": 221
    },
    "colab_type": "code",
    "executionInfo": {
     "elapsed": 603,
     "status": "ok",
     "timestamp": 1576019527958,
     "user": {
      "displayName": "NEL VEN",
      "photoUrl": "",
      "userId": "04414681126704222305"
     },
     "user_tz": -180
    },
    "id": "vdP7Hs01ajOB",
    "outputId": "02a0dfab-3f16-4ab1-ecf3-570f79b4b431"
   },
   "outputs": [
    {
     "data": {
      "text/plain": [
       "0        как зовут лодочника на реке стикс в древнегреч...\n",
       "1                          как в химии обозначается свинец\n",
       "2        какой химический элемент преобладает в составе...\n",
       "3        кто из перечисленных был пажом во времена екат...\n",
       "4                             когда началась мировая война\n",
       "                               ...                        \n",
       "29995    как называется игра местом действия которой яв...\n",
       "29996                  как в опере называют ведущую певицу\n",
       "29997                  на какой планете сутки длиннее года\n",
       "29998    сколько лет пролежал на печи известный богатыр...\n",
       "29999    в каком году основали московский государственн...\n",
       "Name: Question, Length: 30000, dtype: object"
      ]
     },
     "execution_count": 473,
     "metadata": {
      "tags": []
     },
     "output_type": "execute_result"
    }
   ],
   "source": [
    "df_tok.iloc[:, 1]"
   ]
  },
  {
   "cell_type": "code",
   "execution_count": 0,
   "metadata": {
    "colab": {},
    "colab_type": "code",
    "id": "4eU_cssGalmE"
   },
   "outputs": [],
   "source": [
    "stem = pd.Series(stemmed_texts)"
   ]
  },
  {
   "cell_type": "code",
   "execution_count": 0,
   "metadata": {
    "colab": {
     "base_uri": "https://localhost:8080/",
     "height": 221
    },
    "colab_type": "code",
    "executionInfo": {
     "elapsed": 606,
     "status": "ok",
     "timestamp": 1576055267079,
     "user": {
      "displayName": "NEL VEN",
      "photoUrl": "",
      "userId": "04414681126704222305"
     },
     "user_tz": -180
    },
    "id": "IArD4YdZa3mV",
    "outputId": "221e1029-80a8-4cf0-9b92-3151543051a5"
   },
   "outputs": [
    {
     "data": {
      "text/plain": [
       "0        как зовут лодочник рек стикс древнегреческ миф...\n",
       "1                                  как хим обознача свинец\n",
       "2          как химическ элемент преоблада состав камен угл\n",
       "3                     кто перечислен был паж врем екатерин\n",
       "4                                     когд нача миров войн\n",
       "                               ...                        \n",
       "29995    как называ игр мест действ котор явля сайт вик...\n",
       "29996                          как опер называ ведущ певиц\n",
       "29997                             как планет сутк длин год\n",
       "29998    скольк лет пролежа печ известн богатыр ил муромец\n",
       "29999    как год основа московск государствен университ...\n",
       "Length: 30000, dtype: object"
      ]
     },
     "execution_count": 406,
     "metadata": {
      "tags": []
     },
     "output_type": "execute_result"
    }
   ],
   "source": [
    "stem"
   ]
  },
  {
   "cell_type": "code",
   "execution_count": 0,
   "metadata": {
    "colab": {},
    "colab_type": "code",
    "id": "RcOEAxTadjFt"
   },
   "outputs": [],
   "source": [
    "df_final = df_tok.copy()"
   ]
  },
  {
   "cell_type": "code",
   "execution_count": 0,
   "metadata": {
    "colab": {},
    "colab_type": "code",
    "id": "30-wTrRXdn-b"
   },
   "outputs": [],
   "source": [
    "df['stemmed'] = stem#.apply(lambda x: x.split())"
   ]
  },
  {
   "cell_type": "code",
   "execution_count": 0,
   "metadata": {
    "colab": {
     "base_uri": "https://localhost:8080/",
     "height": 204
    },
    "colab_type": "code",
    "executionInfo": {
     "elapsed": 813,
     "status": "ok",
     "timestamp": 1576055280942,
     "user": {
      "displayName": "NEL VEN",
      "photoUrl": "",
      "userId": "04414681126704222305"
     },
     "user_tz": -180
    },
    "id": "J09WjMntdq5Z",
    "outputId": "3053e9aa-680b-45e1-e085-4ce63f103552"
   },
   "outputs": [
    {
     "data": {
      "text/html": [
       "<div>\n",
       "<style scoped>\n",
       "    .dataframe tbody tr th:only-of-type {\n",
       "        vertical-align: middle;\n",
       "    }\n",
       "\n",
       "    .dataframe tbody tr th {\n",
       "        vertical-align: top;\n",
       "    }\n",
       "\n",
       "    .dataframe thead th {\n",
       "        text-align: right;\n",
       "    }\n",
       "</style>\n",
       "<table border=\"1\" class=\"dataframe\">\n",
       "  <thead>\n",
       "    <tr style=\"text-align: right;\">\n",
       "      <th></th>\n",
       "      <th>ID</th>\n",
       "      <th>Question</th>\n",
       "      <th>Answer</th>\n",
       "      <th>lemma</th>\n",
       "      <th>lens</th>\n",
       "      <th>stemmed</th>\n",
       "    </tr>\n",
       "  </thead>\n",
       "  <tbody>\n",
       "    <tr>\n",
       "      <th>0</th>\n",
       "      <td>1</td>\n",
       "      <td>как зовут лодочника реке стикс древнегреческой...</td>\n",
       "      <td>0</td>\n",
       "      <td>как звать лодочник река стикс древнегреческий ...</td>\n",
       "      <td>5</td>\n",
       "      <td>как зовут лодочник рек стикс древнегреческ миф...</td>\n",
       "    </tr>\n",
       "    <tr>\n",
       "      <th>1</th>\n",
       "      <td>2</td>\n",
       "      <td>как химии обозначается свинец</td>\n",
       "      <td>1</td>\n",
       "      <td>как химия обозначать свинец</td>\n",
       "      <td>3</td>\n",
       "      <td>как хим обознача свинец</td>\n",
       "    </tr>\n",
       "    <tr>\n",
       "      <th>2</th>\n",
       "      <td>3</td>\n",
       "      <td>какой химический элемент преобладает составе к...</td>\n",
       "      <td>0</td>\n",
       "      <td>какой химический элемент преобладать состав ка...</td>\n",
       "      <td>4</td>\n",
       "      <td>как химическ элемент преоблада состав камен угл</td>\n",
       "    </tr>\n",
       "    <tr>\n",
       "      <th>3</th>\n",
       "      <td>4</td>\n",
       "      <td>кто перечисленных был пажом времена екатерины</td>\n",
       "      <td>0</td>\n",
       "      <td>кто перечислить быть паж время екатерина</td>\n",
       "      <td>5</td>\n",
       "      <td>кто перечислен был паж врем екатерин</td>\n",
       "    </tr>\n",
       "    <tr>\n",
       "      <th>4</th>\n",
       "      <td>5</td>\n",
       "      <td>когда началась мировая война</td>\n",
       "      <td>0</td>\n",
       "      <td>когда начаться мировой война</td>\n",
       "      <td>4</td>\n",
       "      <td>когд нача миров войн</td>\n",
       "    </tr>\n",
       "  </tbody>\n",
       "</table>\n",
       "</div>"
      ],
      "text/plain": [
       "   ID  ...                                            stemmed\n",
       "0   1  ...  как зовут лодочник рек стикс древнегреческ миф...\n",
       "1   2  ...                            как хим обознача свинец\n",
       "2   3  ...    как химическ элемент преоблада состав камен угл\n",
       "3   4  ...               кто перечислен был паж врем екатерин\n",
       "4   5  ...                               когд нача миров войн\n",
       "\n",
       "[5 rows x 6 columns]"
      ]
     },
     "execution_count": 408,
     "metadata": {
      "tags": []
     },
     "output_type": "execute_result"
    }
   ],
   "source": [
    "df.head() # regex, too small, stem"
   ]
  },
  {
   "cell_type": "code",
   "execution_count": 0,
   "metadata": {
    "colab": {},
    "colab_type": "code",
    "id": "5quwiX9CenD2"
   },
   "outputs": [],
   "source": [
    "#### Check lens"
   ]
  },
  {
   "cell_type": "code",
   "execution_count": 0,
   "metadata": {
    "colab": {},
    "colab_type": "code",
    "id": "-nZmgH_MdyNR"
   },
   "outputs": [],
   "source": [
    "df_final['stemmed_len'] = df_final.stemmed.apply(len)"
   ]
  },
  {
   "cell_type": "code",
   "execution_count": 0,
   "metadata": {
    "colab": {
     "base_uri": "https://localhost:8080/",
     "height": 34
    },
    "colab_type": "code",
    "executionInfo": {
     "elapsed": 676,
     "status": "ok",
     "timestamp": 1576005746592,
     "user": {
      "displayName": "NEL VEN",
      "photoUrl": "",
      "userId": "04414681126704222305"
     },
     "user_tz": -180
    },
    "id": "EdQ2mdw7QPtP",
    "outputId": "a1d95c2d-a7d3-43c3-de90-67b8866f97e7"
   },
   "outputs": [
    {
     "data": {
      "text/plain": [
       "0.5952380952380952"
      ]
     },
     "execution_count": 43,
     "metadata": {
      "tags": []
     },
     "output_type": "execute_result"
    }
   ],
   "source": [
    "df_final[df_final.stemmed_len > 15].Answer.sum() / df_final[df_final.stemmed_len > 15].shape[0] * 100"
   ]
  },
  {
   "cell_type": "code",
   "execution_count": 0,
   "metadata": {
    "colab": {},
    "colab_type": "code",
    "id": "I8Zfo5yieGM0"
   },
   "outputs": [],
   "source": [
    "df_final[lens > 10].groupby(['lens']).Answer.sum().sum() # there are no word shorter than two"
   ]
  },
  {
   "cell_type": "code",
   "execution_count": 0,
   "metadata": {
    "colab": {
     "base_uri": "https://localhost:8080/",
     "height": 34
    },
    "colab_type": "code",
    "executionInfo": {
     "elapsed": 912,
     "status": "ok",
     "timestamp": 1575623431222,
     "user": {
      "displayName": "NEL VEN",
      "photoUrl": "",
      "userId": "04414681126704222305"
     },
     "user_tz": -180
    },
    "id": "0d824a4xeRd3",
    "outputId": "72470ee9-39b0-4452-c1d5-29e4584e06a9"
   },
   "outputs": [
    {
     "data": {
      "text/plain": [
       "0.5523106546854942"
      ]
     },
     "execution_count": 64,
     "metadata": {
      "tags": []
     },
     "output_type": "execute_result"
    }
   ],
   "source": [
    "df_final[(df_final.stemmed_len >= 21) & (df_final.stemmed_len <= 40)].Answer.sum() / df_final[df_final.Answer == 1].shape[0]"
   ]
  },
  {
   "cell_type": "code",
   "execution_count": 0,
   "metadata": {
    "colab": {
     "base_uri": "https://localhost:8080/",
     "height": 34
    },
    "colab_type": "code",
    "executionInfo": {
     "elapsed": 756,
     "status": "ok",
     "timestamp": 1575623465600,
     "user": {
      "displayName": "NEL VEN",
      "photoUrl": "",
      "userId": "04414681126704222305"
     },
     "user_tz": -180
    },
    "id": "NKD8b8rxebyV",
    "outputId": "f91d0994-9e8b-473c-efd1-9ddf5c8da437"
   },
   "outputs": [
    {
     "data": {
      "text/plain": [
       "0.5342666666666667"
      ]
     },
     "execution_count": 67,
     "metadata": {
      "tags": []
     },
     "output_type": "execute_result"
    }
   ],
   "source": [
    "df_final[(df_final.stemmed_len >= 21) & (df_final.stemmed_len <= 40)].shape[0] / df_final.shape[0]"
   ]
  },
  {
   "cell_type": "code",
   "execution_count": 0,
   "metadata": {
    "colab": {},
    "colab_type": "code",
    "id": "nIwg1A8KerCc"
   },
   "outputs": [],
   "source": [
    "#### VEctorizer"
   ]
  },
  {
   "cell_type": "code",
   "execution_count": 0,
   "metadata": {
    "colab": {},
    "colab_type": "code",
    "id": "3I2dpCoGdfeh"
   },
   "outputs": [],
   "source": [
    "from sklearn.feature_extraction.text import CountVectorizer, TfidfVectorizer"
   ]
  },
  {
   "cell_type": "code",
   "execution_count": 0,
   "metadata": {
    "colab": {},
    "colab_type": "code",
    "id": "iDLmaSEtyF7I"
   },
   "outputs": [],
   "source": [
    "def tokenizer_(text):\n",
    "  # print(text.split())\n",
    "  return [word for word in text.split() if word in words_from_test] "
   ]
  },
  {
   "cell_type": "code",
   "execution_count": 0,
   "metadata": {
    "colab": {},
    "colab_type": "code",
    "id": "4XdyGUica4OE"
   },
   "outputs": [],
   "source": [
    "vectorizer = TfidfVectorizer(tokenizer=tokenize, ngram_range=(1, 2), min_df=15, max_df=0.2, sublinear_tf=True, use_idf=1, smooth_idf=1, lowercase=False\n",
    "                             ,max_features=500)"
   ]
  },
  {
   "cell_type": "code",
   "execution_count": 0,
   "metadata": {
    "colab": {
     "base_uri": "https://localhost:8080/",
     "height": 51
    },
    "colab_type": "code",
    "executionInfo": {
     "elapsed": 733,
     "status": "ok",
     "timestamp": 1576079830880,
     "user": {
      "displayName": "NEL VEN",
      "photoUrl": "",
      "userId": "04414681126704222305"
     },
     "user_tz": -180
    },
    "id": "YLXTJyuqSHou",
    "outputId": "f574c40f-9cc2-4492-be8e-986fdc1a6082"
   },
   "outputs": [
    {
     "name": "stdout",
     "output_type": "stream",
     "text": [
      "(30000,)\n"
     ]
    },
    {
     "data": {
      "text/plain": [
       "(41087,)"
      ]
     },
     "execution_count": 193,
     "metadata": {
      "tags": []
     },
     "output_type": "execute_result"
    }
   ],
   "source": [
    "all_textes = df.Question\n",
    "print(all_textes.shape)\n",
    "all_textes = all_textes.append(test.Question)\n",
    "all_textes.shape"
   ]
  },
  {
   "cell_type": "code",
   "execution_count": 0,
   "metadata": {
    "colab": {},
    "colab_type": "code",
    "id": "cdzA50iL4Ixy"
   },
   "outputs": [],
   "source": [
    "only_test_words = []\n",
    "for text in all_textes:\n",
    "  # print(text, [word in words_from_test for word in text.split()])\n",
    "  only_test_words.append(' '.join([word for word in text.split() if word in words_from_test]))\n",
    "  #print(' '.join([word for word in text.split() if word in words_from_test]))\n",
    "#only_test_words"
   ]
  },
  {
   "cell_type": "code",
   "execution_count": 0,
   "metadata": {
    "colab": {},
    "colab_type": "code",
    "id": "AGVm93KHTXCd"
   },
   "outputs": [],
   "source": [
    "dim = len(vectorizer.vocabulary_)"
   ]
  },
  {
   "cell_type": "code",
   "execution_count": 0,
   "metadata": {
    "colab": {
     "base_uri": "https://localhost:8080/",
     "height": 153
    },
    "colab_type": "code",
    "executionInfo": {
     "elapsed": 1466,
     "status": "ok",
     "timestamp": 1576149663183,
     "user": {
      "displayName": "NEL VEN",
      "photoUrl": "",
      "userId": "04414681126704222305"
     },
     "user_tz": -180
    },
    "id": "dveXV5P1dasg",
    "outputId": "16a96465-0195-4aaf-b802-6eb17e4ab176"
   },
   "outputs": [
    {
     "data": {
      "text/plain": [
       "TfidfVectorizer(analyzer='word', binary=False, decode_error='strict',\n",
       "                dtype=<class 'numpy.float64'>, encoding='utf-8',\n",
       "                input='content', lowercase=False, max_df=0.2, max_features=500,\n",
       "                min_df=15, ngram_range=(1, 2), norm='l2', preprocessor=None,\n",
       "                smooth_idf=1, stop_words=None, strip_accents=None,\n",
       "                sublinear_tf=True, token_pattern='(?u)\\\\b\\\\w\\\\w+\\\\b',\n",
       "                tokenizer=<function tokenize at 0x7ff0002c5598>, use_idf=1,\n",
       "                vocabulary=None)"
      ]
     },
     "execution_count": 698,
     "metadata": {
      "tags": []
     },
     "output_type": "execute_result"
    }
   ],
   "source": [
    "vectorizer.fit(test.Question)\n",
    "#vectorizer.fit(df_final.iloc[:, 4])\n",
    "#vectorizer.fit(test.lemma)"
   ]
  },
  {
   "cell_type": "code",
   "execution_count": 0,
   "metadata": {
    "colab": {},
    "colab_type": "code",
    "id": "r8J0JF2Oh6gQ"
   },
   "outputs": [],
   "source": [
    "X = vectorizer.transform(df.Question)\n",
    "y = df.iloc[:, 2]"
   ]
  },
  {
   "cell_type": "code",
   "execution_count": 0,
   "metadata": {
    "colab": {},
    "colab_type": "code",
    "id": "X0GBQvTvgfIq"
   },
   "outputs": [],
   "source": [
    "lens = []\n",
    "for text in df.lemma:\n",
    "  lens.append(len([word for word in text.split() if word in vectorizer.vocabulary_]))\n",
    "df['lens'] = lens"
   ]
  },
  {
   "cell_type": "code",
   "execution_count": 0,
   "metadata": {
    "colab": {},
    "colab_type": "code",
    "id": "gGnXy-K9OMPt"
   },
   "outputs": [],
   "source": [
    "stemmed_lens = []\n",
    "for text in df.stemmed:\n",
    "  stemmed_lens.append(len([word for word in text.split() if word in vectorizer.vocabulary_]))\n",
    "df['stemmed_lens'] = stemmed_lens"
   ]
  },
  {
   "cell_type": "code",
   "execution_count": 0,
   "metadata": {
    "colab": {
     "base_uri": "https://localhost:8080/",
     "height": 34
    },
    "colab_type": "code",
    "executionInfo": {
     "elapsed": 499,
     "status": "ok",
     "timestamp": 1576052016360,
     "user": {
      "displayName": "NEL VEN",
      "photoUrl": "",
      "userId": "04414681126704222305"
     },
     "user_tz": -180
    },
    "id": "GBHMdVaUA6GQ",
    "outputId": "adc598d2-1224-4de4-d780-6022e5f794e4"
   },
   "outputs": [
    {
     "data": {
      "text/plain": [
       "0.11071321993434796"
      ]
     },
     "execution_count": 275,
     "metadata": {
      "tags": []
     },
     "output_type": "execute_result"
    }
   ],
   "source": [
    "df[df.lens == 4].Answer.sum() / df[df.lens == 4].shape[0]"
   ]
  },
  {
   "cell_type": "code",
   "execution_count": 0,
   "metadata": {
    "colab": {},
    "colab_type": "code",
    "id": "nGaOtq6UBMw5"
   },
   "outputs": [],
   "source": [
    "df.groupby(['lens']).size()"
   ]
  },
  {
   "cell_type": "code",
   "execution_count": 0,
   "metadata": {
    "colab": {},
    "colab_type": "code",
    "id": "Qk-_Et6VB-o9"
   },
   "outputs": [],
   "source": [
    "df_short = df[df['lens'] < 16]"
   ]
  },
  {
   "cell_type": "code",
   "execution_count": 0,
   "metadata": {
    "colab": {
     "base_uri": "https://localhost:8080/",
     "height": 300
    },
    "colab_type": "code",
    "executionInfo": {
     "elapsed": 884,
     "status": "ok",
     "timestamp": 1576052291819,
     "user": {
      "displayName": "NEL VEN",
      "photoUrl": "",
      "userId": "04414681126704222305"
     },
     "user_tz": -180
    },
    "id": "1DN9RKeNAFqy",
    "outputId": "308849ff-3995-4352-abe2-e1cbfbee0406"
   },
   "outputs": [
    {
     "data": {
      "text/plain": [
       "<matplotlib.axes._subplots.AxesSubplot at 0x7f4ef772e198>"
      ]
     },
     "execution_count": 287,
     "metadata": {
      "tags": []
     },
     "output_type": "execute_result"
    },
    {
     "data": {
      "image/png": "[encoded data removed]",
      "text/plain": [
       "<Figure size 432x288 with 1 Axes>"
      ]
     },
     "metadata": {
      "tags": []
     },
     "output_type": "display_data"
    }
   ],
   "source": [
    "(df_short.groupby(['lens']).Answer.sum() / df_short.groupby(['lens']).Answer.size() * 100).plot()"
   ]
  },
  {
   "cell_type": "code",
   "execution_count": 0,
   "metadata": {
    "colab": {},
    "colab_type": "code",
    "id": "GVxyuzT1Cly9"
   },
   "outputs": [],
   "source": [
    "probab = (df.groupby(['stemmed_lens']).Answer.sum() / df.groupby(['stemmed_lens']).Answer.size() * 100)"
   ]
  },
  {
   "cell_type": "code",
   "execution_count": 0,
   "metadata": {
    "colab": {},
    "colab_type": "code",
    "id": "uu9K-AblCOt6"
   },
   "outputs": [],
   "source": [
    "coef = probab / probab.sum()\n",
    "coef += 1\n",
    "coef"
   ]
  },
  {
   "cell_type": "code",
   "execution_count": 0,
   "metadata": {
    "colab": {
     "base_uri": "https://localhost:8080/",
     "height": 51
    },
    "colab_type": "code",
    "executionInfo": {
     "elapsed": 2109,
     "status": "ok",
     "timestamp": 1576148840263,
     "user": {
      "displayName": "NEL VEN",
      "photoUrl": "",
      "userId": "04414681126704222305"
     },
     "user_tz": -180
    },
    "id": "MqpRRx_6_U6o",
    "outputId": "5a4a9ffe-4965-4299-bfbd-ca0fe089ab63"
   },
   "outputs": [
    {
     "data": {
      "text/plain": [
       "<30000x500 sparse matrix of type '<class 'numpy.float64'>'\n",
       "\twith 141507 stored elements in Compressed Sparse Row format>"
      ]
     },
     "execution_count": 594,
     "metadata": {
      "tags": []
     },
     "output_type": "execute_result"
    }
   ],
   "source": [
    "X"
   ]
  },
  {
   "cell_type": "code",
   "execution_count": 0,
   "metadata": {
    "colab": {},
    "colab_type": "code",
    "id": "ZVShCu7ZUoyk"
   },
   "outputs": [],
   "source": [
    "from sklearn.model_selection import train_test_split\n",
    "from sklearn.model_selection import train_test_split\n",
    "from sklearn.linear_model import LogisticRegression\n",
    "from sklearn.metrics import roc_auc_score\n",
    "from sklearn.model_selection import GridSearchCV"
   ]
  },
  {
   "cell_type": "code",
   "execution_count": 0,
   "metadata": {
    "colab": {},
    "colab_type": "code",
    "id": "CXeU5mDDT1vF"
   },
   "outputs": [],
   "source": [
    "X_train, X_test, y_train, y_test = train_test_split(X, y, test_size=0.2, random_state=None, stratify=y)"
   ]
  },
  {
   "cell_type": "code",
   "execution_count": 0,
   "metadata": {
    "colab": {},
    "colab_type": "code",
    "id": "bFzIpTzMGbs8"
   },
   "outputs": [],
   "source": [
    "#X_train, X_test, y_train, y_test = X[:24000], X[24000:], y[:24000], y[24000:]"
   ]
  },
  {
   "cell_type": "code",
   "execution_count": 0,
   "metadata": {
    "colab": {},
    "colab_type": "code",
    "id": "INJMM7TfezqM"
   },
   "outputs": [],
   "source": [
    "clf = LogisticRegression(dual=True, solver='liblinear', n_jobs=-1, class_weight={0: 1, 1:9}, C=0.2).fit(X, y)"
   ]
  },
  {
   "cell_type": "code",
   "execution_count": 0,
   "metadata": {
    "colab": {},
    "colab_type": "code",
    "id": "eYO3IpG476Dj"
   },
   "outputs": [],
   "source": [
    "#grid = GridSearchCV(LogisticRegression(), {})"
   ]
  },
  {
   "cell_type": "code",
   "execution_count": 0,
   "metadata": {
    "colab": {
     "base_uri": "https://localhost:8080/",
     "height": 119
    },
    "colab_type": "code",
    "executionInfo": {
     "elapsed": 1742,
     "status": "ok",
     "timestamp": 1576149682483,
     "user": {
      "displayName": "NEL VEN",
      "photoUrl": "",
      "userId": "04414681126704222305"
     },
     "user_tz": -180
    },
    "id": "ftMDHVii-92N",
    "outputId": "523d62d5-9389-4bb6-f074-1edb836b03f0"
   },
   "outputs": [
    {
     "data": {
      "text/plain": [
       "0    0.346235\n",
       "1    0.558927\n",
       "2    0.089920\n",
       "3    0.313842\n",
       "4    0.160127\n",
       "dtype: float64"
      ]
     },
     "execution_count": 703,
     "metadata": {
      "tags": []
     },
     "output_type": "execute_result"
    }
   ],
   "source": [
    "y_pred = clf.predict_proba(X_test)[:, 1]\n",
    "pd.Series(y_pred).head()"
   ]
  },
  {
   "cell_type": "code",
   "execution_count": 0,
   "metadata": {
    "colab": {},
    "colab_type": "code",
    "id": "RM6NfydVGw4d"
   },
   "outputs": [],
   "source": [
    "#for i in range(24000, 30000):\n",
    "#  if (df.iloc[i, :].lens in coef.index):\n",
    "#    y_pred[i - 24000] *= coef[df.iloc[i, :].lens]\n",
    "#pd.Series(y_pred).head()"
   ]
  },
  {
   "cell_type": "code",
   "execution_count": 0,
   "metadata": {
    "colab": {
     "base_uri": "https://localhost:8080/",
     "height": 34
    },
    "colab_type": "code",
    "executionInfo": {
     "elapsed": 1117,
     "status": "ok",
     "timestamp": 1576149683789,
     "user": {
      "displayName": "NEL VEN",
      "photoUrl": "",
      "userId": "04414681126704222305"
     },
     "user_tz": -180
    },
    "id": "QX3WnJQNVx7F",
    "outputId": "4dae16e3-be12-434b-a364-541b151cb4b6"
   },
   "outputs": [
    {
     "data": {
      "text/plain": [
       "0.7352308491879239"
      ]
     },
     "execution_count": 705,
     "metadata": {
      "tags": []
     },
     "output_type": "execute_result"
    }
   ],
   "source": [
    "roc_auc_score(y_test, y_pred)"
   ]
  },
  {
   "cell_type": "code",
   "execution_count": 0,
   "metadata": {
    "colab": {},
    "colab_type": "code",
    "id": "CiEnTIoEyyRe"
   },
   "outputs": [],
   "source": [
    "# min_df = 15, C = 0.2, max_featers = 500, dual = True, solver = liblinear"
   ]
  },
  {
   "cell_type": "code",
   "execution_count": 0,
   "metadata": {
    "colab": {},
    "colab_type": "code",
    "id": "dZh3jXsvfcFT"
   },
   "outputs": [],
   "source": [
    "#### Test data"
   ]
  },
  {
   "cell_type": "code",
   "execution_count": 0,
   "metadata": {
    "colab": {},
    "colab_type": "code",
    "id": "M7p-enjDfiYi"
   },
   "outputs": [],
   "source": [
    "test_id = pd.read_csv('test.csv')"
   ]
  },
  {
   "cell_type": "code",
   "execution_count": 75,
   "metadata": {
    "colab": {
     "base_uri": "https://localhost:8080/",
     "height": 34
    },
    "colab_type": "code",
    "executionInfo": {
     "elapsed": 727,
     "status": "ok",
     "timestamp": 1576168330072,
     "user": {
      "displayName": "NEL VEN",
      "photoUrl": "",
      "userId": "04414681126704222305"
     },
     "user_tz": -180
    },
    "id": "6VmH9KWif599",
    "outputId": "55c6fe8b-0461-4117-caa3-d7f08fd6e00c"
   },
   "outputs": [
    {
     "data": {
      "text/plain": [
       "(11087, 1)"
      ]
     },
     "execution_count": 75,
     "metadata": {
      "tags": []
     },
     "output_type": "execute_result"
    }
   ],
   "source": [
    "test_id.shape"
   ]
  },
  {
   "cell_type": "code",
   "execution_count": 76,
   "metadata": {
    "colab": {
     "base_uri": "https://localhost:8080/",
     "height": 204
    },
    "colab_type": "code",
    "executionInfo": {
     "elapsed": 510,
     "status": "ok",
     "timestamp": 1576168330073,
     "user": {
      "displayName": "NEL VEN",
      "photoUrl": "",
      "userId": "04414681126704222305"
     },
     "user_tz": -180
    },
    "id": "HkO4r9q1fnD6",
    "outputId": "92f61e65-48be-4356-8ef4-95a7edb601c7"
   },
   "outputs": [
    {
     "data": {
      "text/html": [
       "<div>\n",
       "<style scoped>\n",
       "    .dataframe tbody tr th:only-of-type {\n",
       "        vertical-align: middle;\n",
       "    }\n",
       "\n",
       "    .dataframe tbody tr th {\n",
       "        vertical-align: top;\n",
       "    }\n",
       "\n",
       "    .dataframe thead th {\n",
       "        text-align: right;\n",
       "    }\n",
       "</style>\n",
       "<table border=\"1\" class=\"dataframe\">\n",
       "  <thead>\n",
       "    <tr style=\"text-align: right;\">\n",
       "      <th></th>\n",
       "      <th>ID</th>\n",
       "    </tr>\n",
       "  </thead>\n",
       "  <tbody>\n",
       "    <tr>\n",
       "      <th>0</th>\n",
       "      <td>30001</td>\n",
       "    </tr>\n",
       "    <tr>\n",
       "      <th>1</th>\n",
       "      <td>30002</td>\n",
       "    </tr>\n",
       "    <tr>\n",
       "      <th>2</th>\n",
       "      <td>30003</td>\n",
       "    </tr>\n",
       "    <tr>\n",
       "      <th>3</th>\n",
       "      <td>30004</td>\n",
       "    </tr>\n",
       "    <tr>\n",
       "      <th>4</th>\n",
       "      <td>30005</td>\n",
       "    </tr>\n",
       "  </tbody>\n",
       "</table>\n",
       "</div>"
      ],
      "text/plain": [
       "      ID\n",
       "0  30001\n",
       "1  30002\n",
       "2  30003\n",
       "3  30004\n",
       "4  30005"
      ]
     },
     "execution_count": 76,
     "metadata": {
      "tags": []
     },
     "output_type": "execute_result"
    }
   ],
   "source": [
    "test_id.head()"
   ]
  },
  {
   "cell_type": "code",
   "execution_count": 0,
   "metadata": {
    "colab": {},
    "colab_type": "code",
    "id": "-eYZxvKFzn0H"
   },
   "outputs": [],
   "source": [
    "test_lemma = pd.read_csv('test_lemma.csv', header=None)\n",
    "test_lemma[\"ID\"] = range(30001, 30001 + 11087)"
   ]
  },
  {
   "cell_type": "code",
   "execution_count": 0,
   "metadata": {
    "colab": {
     "base_uri": "https://localhost:8080/",
     "height": 68
    },
    "colab_type": "code",
    "executionInfo": {
     "elapsed": 531,
     "status": "ok",
     "timestamp": 1576048818622,
     "user": {
      "displayName": "NEL VEN",
      "photoUrl": "",
      "userId": "04414681126704222305"
     },
     "user_tz": -180
    },
    "id": "o_934AUT04x5",
    "outputId": "f5752216-5bcb-43f5-9b65-77a16b402b18"
   },
   "outputs": [
    {
     "data": {
      "text/plain": [
       "0    279\n",
       "1    NaN\n",
       "Name: 279, dtype: object"
      ]
     },
     "execution_count": 86,
     "metadata": {
      "tags": []
     },
     "output_type": "execute_result"
    }
   ],
   "source": [
    "test_lemma.iloc[279, :]"
   ]
  },
  {
   "cell_type": "code",
   "execution_count": 0,
   "metadata": {
    "colab": {},
    "colab_type": "code",
    "id": "-dqZUGqhz_Aj"
   },
   "outputs": [],
   "source": [
    "test_lemma[test_lemma[1].isna()]"
   ]
  },
  {
   "cell_type": "code",
   "execution_count": 0,
   "metadata": {
    "colab": {
     "base_uri": "https://localhost:8080/",
     "height": 68
    },
    "colab_type": "code",
    "executionInfo": {
     "elapsed": 527,
     "status": "ok",
     "timestamp": 1576048975966,
     "user": {
      "displayName": "NEL VEN",
      "photoUrl": "",
      "userId": "04414681126704222305"
     },
     "user_tz": -180
    },
    "id": "x65l_mV91b_B",
    "outputId": "78c5bc7c-815c-4bb7-a0af-e64cf7ca9f3e"
   },
   "outputs": [
    {
     "data": {
      "text/plain": [
       "ID          40332\n",
       "Question        1\n",
       "Name: 40331, dtype: object"
      ]
     },
     "execution_count": 95,
     "metadata": {
      "tags": []
     },
     "output_type": "execute_result"
    }
   ],
   "source": [
    "#data.iloc[30000 + 10331, :]"
   ]
  },
  {
   "cell_type": "code",
   "execution_count": 0,
   "metadata": {
    "colab": {},
    "colab_type": "code",
    "id": "BzhofqYMfopK"
   },
   "outputs": [],
   "source": [
    "test = pd.merge(data, test_id)\n",
    "#test = pd.merge(test, test_lemma)\n",
    "#test.drop([0], axis=1, inplace=True)\n",
    "#test.rename({1:'lemma'}, axis=1, inplace=True)\n",
    "#test.lemma = test.lemma.fillna(\"\")"
   ]
  },
  {
   "cell_type": "code",
   "execution_count": 78,
   "metadata": {
    "colab": {
     "base_uri": "https://localhost:8080/",
     "height": 204
    },
    "colab_type": "code",
    "executionInfo": {
     "elapsed": 501,
     "status": "ok",
     "timestamp": 1576168335741,
     "user": {
      "displayName": "NEL VEN",
      "photoUrl": "",
      "userId": "04414681126704222305"
     },
     "user_tz": -180
    },
    "id": "M0WAcj6tmKWB",
    "outputId": "4ac3c7bb-abcc-45ba-8c7d-c54cf0b91c09"
   },
   "outputs": [
    {
     "data": {
      "text/html": [
       "<div>\n",
       "<style scoped>\n",
       "    .dataframe tbody tr th:only-of-type {\n",
       "        vertical-align: middle;\n",
       "    }\n",
       "\n",
       "    .dataframe tbody tr th {\n",
       "        vertical-align: top;\n",
       "    }\n",
       "\n",
       "    .dataframe thead th {\n",
       "        text-align: right;\n",
       "    }\n",
       "</style>\n",
       "<table border=\"1\" class=\"dataframe\">\n",
       "  <thead>\n",
       "    <tr style=\"text-align: right;\">\n",
       "      <th></th>\n",
       "      <th>ID</th>\n",
       "      <th>Question</th>\n",
       "    </tr>\n",
       "  </thead>\n",
       "  <tbody>\n",
       "    <tr>\n",
       "      <th>0</th>\n",
       "      <td>30001</td>\n",
       "      <td>Что в литературе обозначает слово \"эпитет\"?</td>\n",
       "    </tr>\n",
       "    <tr>\n",
       "      <th>1</th>\n",
       "      <td>30002</td>\n",
       "      <td>Когда отмечается ДЕНЬ ШОКОЛАДА</td>\n",
       "    </tr>\n",
       "    <tr>\n",
       "      <th>2</th>\n",
       "      <td>30003</td>\n",
       "      <td>Кто из этих бодибилдеров играл Халка</td>\n",
       "    </tr>\n",
       "    <tr>\n",
       "      <th>3</th>\n",
       "      <td>30004</td>\n",
       "      <td>Последняя на данный момент страна, официально ...</td>\n",
       "    </tr>\n",
       "    <tr>\n",
       "      <th>4</th>\n",
       "      <td>30005</td>\n",
       "      <td>Как зовут лютоволка Арьи Старк из сериала  «Иг...</td>\n",
       "    </tr>\n",
       "  </tbody>\n",
       "</table>\n",
       "</div>"
      ],
      "text/plain": [
       "      ID                                           Question\n",
       "0  30001        Что в литературе обозначает слово \"эпитет\"?\n",
       "1  30002                     Когда отмечается ДЕНЬ ШОКОЛАДА\n",
       "2  30003               Кто из этих бодибилдеров играл Халка\n",
       "3  30004  Последняя на данный момент страна, официально ...\n",
       "4  30005  Как зовут лютоволка Арьи Старк из сериала  «Иг..."
      ]
     },
     "execution_count": 78,
     "metadata": {
      "tags": []
     },
     "output_type": "execute_result"
    }
   ],
   "source": [
    "test.head()"
   ]
  },
  {
   "cell_type": "code",
   "execution_count": 81,
   "metadata": {
    "colab": {
     "base_uri": "https://localhost:8080/",
     "height": 34
    },
    "colab_type": "code",
    "executionInfo": {
     "elapsed": 671,
     "status": "ok",
     "timestamp": 1576168415908,
     "user": {
      "displayName": "NEL VEN",
      "photoUrl": "",
      "userId": "04414681126704222305"
     },
     "user_tz": -180
    },
    "id": "30_SADQX9DOE",
    "outputId": "01707d5b-3dbe-475e-8ebd-188680528186"
   },
   "outputs": [
    {
     "data": {
      "text/plain": [
       "2537"
      ]
     },
     "execution_count": 81,
     "metadata": {
      "tags": []
     },
     "output_type": "execute_result"
    }
   ],
   "source": [
    "test[(test.Question.apply(lambda x: x[-1]) != '?')].shape[0] #6841 / 30000 = 0.2280,  2537 / 11087 = 0.2288"
   ]
  },
  {
   "cell_type": "code",
   "execution_count": 0,
   "metadata": {
    "colab": {
     "base_uri": "https://localhost:8080/",
     "height": 34
    },
    "colab_type": "code",
    "executionInfo": {
     "elapsed": 1140,
     "status": "ok",
     "timestamp": 1576140630352,
     "user": {
      "displayName": "NEL VEN",
      "photoUrl": "",
      "userId": "04414681126704222305"
     },
     "user_tz": -180
    },
    "id": "8_2y_k0bf76p",
    "outputId": "9cf243e3-85d0-478e-fd5f-05b9ac977183"
   },
   "outputs": [
    {
     "data": {
      "text/plain": [
       "(11087, 2)"
      ]
     },
     "execution_count": 19,
     "metadata": {
      "tags": []
     },
     "output_type": "execute_result"
    }
   ],
   "source": [
    "test.shape"
   ]
  },
  {
   "cell_type": "code",
   "execution_count": 0,
   "metadata": {
    "colab": {},
    "colab_type": "code",
    "id": "-F8ZvCP615wT"
   },
   "outputs": [],
   "source": [
    "import collections"
   ]
  },
  {
   "cell_type": "code",
   "execution_count": 0,
   "metadata": {
    "colab": {},
    "colab_type": "code",
    "id": "1atmlj_K1npo"
   },
   "outputs": [],
   "source": [
    "word_count = collections.defaultdict(int)"
   ]
  },
  {
   "cell_type": "code",
   "execution_count": 0,
   "metadata": {
    "colab": {},
    "colab_type": "code",
    "id": "vuOGTRvkzauU"
   },
   "outputs": [],
   "source": [
    "doc_cnt = test.lemma.size\n",
    "for text in test.lemma:\n",
    "  unique_tokens = set(text.split())\n",
    "  for token in unique_tokens:\n",
    "    word_count[token] += 1"
   ]
  },
  {
   "cell_type": "code",
   "execution_count": 0,
   "metadata": {
    "colab": {},
    "colab_type": "code",
    "id": "tlrK6zrivRyY"
   },
   "outputs": [],
   "source": [
    "words_from_test = set()"
   ]
  },
  {
   "cell_type": "code",
   "execution_count": 0,
   "metadata": {
    "colab": {},
    "colab_type": "code",
    "id": "Dgdxn7C42UQO"
   },
   "outputs": [],
   "source": [
    "min_word_cnt, max_frequency = 3, 0.8"
   ]
  },
  {
   "cell_type": "code",
   "execution_count": 0,
   "metadata": {
    "colab": {},
    "colab_type": "code",
    "id": "E4DkrfnVvVm4"
   },
   "outputs": [],
   "source": [
    "for text in test.lemma:\n",
    "  for word in text.split():\n",
    "    #if (word_count[word] > 3 and word_count[word] / doc_cnt < max_frequency):\n",
    "    words_from_test.add(word)"
   ]
  },
  {
   "cell_type": "code",
   "execution_count": 0,
   "metadata": {
    "colab": {
     "base_uri": "https://localhost:8080/",
     "height": 34
    },
    "colab_type": "code",
    "executionInfo": {
     "elapsed": 669,
     "status": "ok",
     "timestamp": 1576079799669,
     "user": {
      "displayName": "NEL VEN",
      "photoUrl": "",
      "userId": "04414681126704222305"
     },
     "user_tz": -180
    },
    "id": "RLQxbKu3vlE8",
    "outputId": "1e1f74ba-7993-4577-8899-5f2ef0dfe384"
   },
   "outputs": [
    {
     "data": {
      "text/plain": [
       "10892"
      ]
     },
     "execution_count": 192,
     "metadata": {
      "tags": []
     },
     "output_type": "execute_result"
    }
   ],
   "source": [
    "len(words_from_test)"
   ]
  },
  {
   "cell_type": "code",
   "execution_count": 0,
   "metadata": {
    "colab": {
     "base_uri": "https://localhost:8080/",
     "height": 204
    },
    "colab_type": "code",
    "executionInfo": {
     "elapsed": 623,
     "status": "ok",
     "timestamp": 1576007618897,
     "user": {
      "displayName": "NEL VEN",
      "photoUrl": "",
      "userId": "04414681126704222305"
     },
     "user_tz": -180
    },
    "id": "uTl2HDSef8np",
    "outputId": "4dfe3e0e-0468-42de-ed00-592b7c96c561"
   },
   "outputs": [
    {
     "data": {
      "text/html": [
       "<div>\n",
       "<style scoped>\n",
       "    .dataframe tbody tr th:only-of-type {\n",
       "        vertical-align: middle;\n",
       "    }\n",
       "\n",
       "    .dataframe tbody tr th {\n",
       "        vertical-align: top;\n",
       "    }\n",
       "\n",
       "    .dataframe thead th {\n",
       "        text-align: right;\n",
       "    }\n",
       "</style>\n",
       "<table border=\"1\" class=\"dataframe\">\n",
       "  <thead>\n",
       "    <tr style=\"text-align: right;\">\n",
       "      <th></th>\n",
       "      <th>ID</th>\n",
       "      <th>Question</th>\n",
       "    </tr>\n",
       "  </thead>\n",
       "  <tbody>\n",
       "    <tr>\n",
       "      <th>0</th>\n",
       "      <td>30001</td>\n",
       "      <td>Что в литературе обозначает слово \"эпитет\"?</td>\n",
       "    </tr>\n",
       "    <tr>\n",
       "      <th>1</th>\n",
       "      <td>30002</td>\n",
       "      <td>Когда отмечается ДЕНЬ ШОКОЛАДА</td>\n",
       "    </tr>\n",
       "    <tr>\n",
       "      <th>2</th>\n",
       "      <td>30003</td>\n",
       "      <td>Кто из этих бодибилдеров играл Халка</td>\n",
       "    </tr>\n",
       "    <tr>\n",
       "      <th>3</th>\n",
       "      <td>30004</td>\n",
       "      <td>Последняя на данный момент страна, официально ...</td>\n",
       "    </tr>\n",
       "    <tr>\n",
       "      <th>4</th>\n",
       "      <td>30005</td>\n",
       "      <td>Как зовут лютоволка Арьи Старк из сериала  «Иг...</td>\n",
       "    </tr>\n",
       "  </tbody>\n",
       "</table>\n",
       "</div>"
      ],
      "text/plain": [
       "      ID                                           Question\n",
       "0  30001        Что в литературе обозначает слово \"эпитет\"?\n",
       "1  30002                     Когда отмечается ДЕНЬ ШОКОЛАДА\n",
       "2  30003               Кто из этих бодибилдеров играл Халка\n",
       "3  30004  Последняя на данный момент страна, официально ...\n",
       "4  30005  Как зовут лютоволка Арьи Старк из сериала  «Иг..."
      ]
     },
     "execution_count": 135,
     "metadata": {
      "tags": []
     },
     "output_type": "execute_result"
    }
   ],
   "source": [
    "test.head()"
   ]
  },
  {
   "cell_type": "code",
   "execution_count": 0,
   "metadata": {
    "colab": {},
    "colab_type": "code",
    "id": "FAfB3ADigB_p"
   },
   "outputs": [],
   "source": [
    "test.Question = test.apply(lambda x: regex.sub(r'[^\\p{Cyrillic}\\d]', ' ', x.Question.lower()), axis=1)"
   ]
  },
  {
   "cell_type": "code",
   "execution_count": 0,
   "metadata": {
    "colab": {
     "base_uri": "https://localhost:8080/",
     "height": 204
    },
    "colab_type": "code",
    "executionInfo": {
     "elapsed": 1066,
     "status": "ok",
     "timestamp": 1576140668735,
     "user": {
      "displayName": "NEL VEN",
      "photoUrl": "",
      "userId": "04414681126704222305"
     },
     "user_tz": -180
    },
    "id": "3mRRXcT0gOBg",
    "outputId": "bf8bc360-1577-4b4f-e5ba-54a35b69d44a"
   },
   "outputs": [
    {
     "data": {
      "text/html": [
       "<div>\n",
       "<style scoped>\n",
       "    .dataframe tbody tr th:only-of-type {\n",
       "        vertical-align: middle;\n",
       "    }\n",
       "\n",
       "    .dataframe tbody tr th {\n",
       "        vertical-align: top;\n",
       "    }\n",
       "\n",
       "    .dataframe thead th {\n",
       "        text-align: right;\n",
       "    }\n",
       "</style>\n",
       "<table border=\"1\" class=\"dataframe\">\n",
       "  <thead>\n",
       "    <tr style=\"text-align: right;\">\n",
       "      <th></th>\n",
       "      <th>ID</th>\n",
       "      <th>Question</th>\n",
       "    </tr>\n",
       "  </thead>\n",
       "  <tbody>\n",
       "    <tr>\n",
       "      <th>0</th>\n",
       "      <td>30001</td>\n",
       "      <td>Что в литературе обозначает слово \"эпитет\"?</td>\n",
       "    </tr>\n",
       "    <tr>\n",
       "      <th>1</th>\n",
       "      <td>30002</td>\n",
       "      <td>Когда отмечается ДЕНЬ ШОКОЛАДА</td>\n",
       "    </tr>\n",
       "    <tr>\n",
       "      <th>2</th>\n",
       "      <td>30003</td>\n",
       "      <td>Кто из этих бодибилдеров играл Халка</td>\n",
       "    </tr>\n",
       "    <tr>\n",
       "      <th>3</th>\n",
       "      <td>30004</td>\n",
       "      <td>Последняя на данный момент страна, официально ...</td>\n",
       "    </tr>\n",
       "    <tr>\n",
       "      <th>4</th>\n",
       "      <td>30005</td>\n",
       "      <td>Как зовут лютоволка Арьи Старк из сериала  «Иг...</td>\n",
       "    </tr>\n",
       "  </tbody>\n",
       "</table>\n",
       "</div>"
      ],
      "text/plain": [
       "      ID                                           Question\n",
       "0  30001        Что в литературе обозначает слово \"эпитет\"?\n",
       "1  30002                     Когда отмечается ДЕНЬ ШОКОЛАДА\n",
       "2  30003               Кто из этих бодибилдеров играл Халка\n",
       "3  30004  Последняя на данный момент страна, официально ...\n",
       "4  30005  Как зовут лютоволка Арьи Старк из сериала  «Иг..."
      ]
     },
     "execution_count": 30,
     "metadata": {
      "tags": []
     },
     "output_type": "execute_result"
    }
   ],
   "source": [
    "test.head()"
   ]
  },
  {
   "cell_type": "code",
   "execution_count": 0,
   "metadata": {
    "colab": {},
    "colab_type": "code",
    "id": "9LWYLDrGgPDo"
   },
   "outputs": [],
   "source": [
    "test.Question = test.Question.apply(lambda text: ' '.join([word for word in text.split() if len(word) > 2]))"
   ]
  },
  {
   "cell_type": "code",
   "execution_count": 0,
   "metadata": {
    "colab": {},
    "colab_type": "code",
    "id": "mLDZYA_Dgd24"
   },
   "outputs": [],
   "source": [
    "def stem_text(text, stemmer):\n",
    "    tokens = text.split()\n",
    "    return ' '.join(map(lambda w: stemmer.stem(w), tokens))\n",
    "\n",
    "stemmed_test = []\n",
    "for t in test.iloc[:, 1]:\n",
    "    stemmed_test.append(stem_text(t, stemmer)) "
   ]
  },
  {
   "cell_type": "code",
   "execution_count": 0,
   "metadata": {
    "colab": {},
    "colab_type": "code",
    "id": "CWsjBJDfhoS9"
   },
   "outputs": [],
   "source": [
    "test['stemmed'] = stemmed_test"
   ]
  },
  {
   "cell_type": "code",
   "execution_count": 0,
   "metadata": {
    "colab": {
     "base_uri": "https://localhost:8080/",
     "height": 34
    },
    "colab_type": "code",
    "executionInfo": {
     "elapsed": 1324790,
     "status": "ok",
     "timestamp": 1576016359388,
     "user": {
      "displayName": "NEL VEN",
      "photoUrl": "",
      "userId": "04414681126704222305"
     },
     "user_tz": -180
    },
    "id": "iZlckC5I0LYp",
    "outputId": "b72e7be1-1080-481a-a64e-de356f71fe71"
   },
   "outputs": [
    {
     "data": {
      "text/plain": [
       "1324.3456492424011"
      ]
     },
     "execution_count": 308,
     "metadata": {
      "tags": []
     },
     "output_type": "execute_result"
    }
   ],
   "source": [
    "start = time.time()\n",
    "test[\"lemma\"] = test.iloc[:, 1].apply(lambda x: [token.lemma_ for token in nlp(x)])\n",
    "# test[\"lemma\"] = test_lemma\n",
    "end = time.time()\n",
    "end - start"
   ]
  },
  {
   "cell_type": "code",
   "execution_count": 0,
   "metadata": {
    "colab": {},
    "colab_type": "code",
    "id": "bjppCi3x0Qou"
   },
   "outputs": [],
   "source": [
    "test_lemma = test[\"lemma\"]\n",
    "test_lemma.to_csv('test_lemma.csv', header=None)"
   ]
  },
  {
   "cell_type": "code",
   "execution_count": 0,
   "metadata": {
    "colab": {},
    "colab_type": "code",
    "id": "k-ztv24i6v03"
   },
   "outputs": [],
   "source": [
    "test_lemma = test_lemma.apply(lambda x: ' '.join(x))"
   ]
  },
  {
   "cell_type": "code",
   "execution_count": 0,
   "metadata": {
    "colab": {
     "base_uri": "https://localhost:8080/",
     "height": 204
    },
    "colab_type": "code",
    "executionInfo": {
     "elapsed": 1671,
     "status": "ok",
     "timestamp": 1576080911120,
     "user": {
      "displayName": "NEL VEN",
      "photoUrl": "",
      "userId": "04414681126704222305"
     },
     "user_tz": -180
    },
    "id": "TgWb3cfe6atS",
    "outputId": "b6dd42b6-9bae-43fc-c395-f8d81fd37bbc"
   },
   "outputs": [
    {
     "data": {
      "text/html": [
       "<div>\n",
       "<style scoped>\n",
       "    .dataframe tbody tr th:only-of-type {\n",
       "        vertical-align: middle;\n",
       "    }\n",
       "\n",
       "    .dataframe tbody tr th {\n",
       "        vertical-align: top;\n",
       "    }\n",
       "\n",
       "    .dataframe thead th {\n",
       "        text-align: right;\n",
       "    }\n",
       "</style>\n",
       "<table border=\"1\" class=\"dataframe\">\n",
       "  <thead>\n",
       "    <tr style=\"text-align: right;\">\n",
       "      <th></th>\n",
       "      <th>ID</th>\n",
       "      <th>Question</th>\n",
       "      <th>lemma</th>\n",
       "    </tr>\n",
       "  </thead>\n",
       "  <tbody>\n",
       "    <tr>\n",
       "      <th>0</th>\n",
       "      <td>30001</td>\n",
       "      <td>Что в литературе обозначает слово \"эпитет\"?</td>\n",
       "      <td>что литература обозначать слово эпитет</td>\n",
       "    </tr>\n",
       "    <tr>\n",
       "      <th>1</th>\n",
       "      <td>30002</td>\n",
       "      <td>Когда отмечается ДЕНЬ ШОКОЛАДА</td>\n",
       "      <td>когда отмечать день шоколад</td>\n",
       "    </tr>\n",
       "    <tr>\n",
       "      <th>2</th>\n",
       "      <td>30003</td>\n",
       "      <td>Кто из этих бодибилдеров играл Халка</td>\n",
       "      <td>кто этот бодибилдер играть халка</td>\n",
       "    </tr>\n",
       "    <tr>\n",
       "      <th>3</th>\n",
       "      <td>30004</td>\n",
       "      <td>Последняя на данный момент страна, официально ...</td>\n",
       "      <td>последний данный момент страна официально прои...</td>\n",
       "    </tr>\n",
       "    <tr>\n",
       "      <th>4</th>\n",
       "      <td>30005</td>\n",
       "      <td>Как зовут лютоволка Арьи Старк из сериала  «Иг...</td>\n",
       "      <td>как звать лютоволка арья старк сериал игра пре...</td>\n",
       "    </tr>\n",
       "  </tbody>\n",
       "</table>\n",
       "</div>"
      ],
      "text/plain": [
       "      ID  ...                                              lemma\n",
       "0  30001  ...             что литература обозначать слово эпитет\n",
       "1  30002  ...                        когда отмечать день шоколад\n",
       "2  30003  ...                   кто этот бодибилдер играть халка\n",
       "3  30004  ...  последний данный момент страна официально прои...\n",
       "4  30005  ...  как звать лютоволка арья старк сериал игра пре...\n",
       "\n",
       "[5 rows x 3 columns]"
      ]
     },
     "execution_count": 281,
     "metadata": {
      "tags": []
     },
     "output_type": "execute_result"
    }
   ],
   "source": [
    "test.head()"
   ]
  },
  {
   "cell_type": "code",
   "execution_count": 0,
   "metadata": {
    "colab": {},
    "colab_type": "code",
    "id": "s7TeBxDBJYvK"
   },
   "outputs": [],
   "source": [
    "test['lens'] = test.lemma.apply(lambda x: len(x.split()))"
   ]
  },
  {
   "cell_type": "code",
   "execution_count": 0,
   "metadata": {
    "colab": {},
    "colab_type": "code",
    "id": "UfMKcG9ChsQm"
   },
   "outputs": [],
   "source": [
    "X_test = vectorizer.transform(test.Question)"
   ]
  },
  {
   "cell_type": "code",
   "execution_count": 0,
   "metadata": {
    "colab": {
     "base_uri": "https://localhost:8080/",
     "height": 51
    },
    "colab_type": "code",
    "executionInfo": {
     "elapsed": 1514,
     "status": "ok",
     "timestamp": 1576149706051,
     "user": {
      "displayName": "NEL VEN",
      "photoUrl": "",
      "userId": "04414681126704222305"
     },
     "user_tz": -180
    },
    "id": "ka2lQb5lh0__",
    "outputId": "885b5972-907c-4495-8951-565c99789f32"
   },
   "outputs": [
    {
     "data": {
      "text/plain": [
       "<11087x500 sparse matrix of type '<class 'numpy.float64'>'\n",
       "\twith 52570 stored elements in Compressed Sparse Row format>"
      ]
     },
     "execution_count": 708,
     "metadata": {
      "tags": []
     },
     "output_type": "execute_result"
    }
   ],
   "source": [
    "X_test"
   ]
  },
  {
   "cell_type": "code",
   "execution_count": 0,
   "metadata": {
    "colab": {},
    "colab_type": "code",
    "id": "dUWlb7lf-0DK"
   },
   "outputs": [],
   "source": [
    "dim = len(vectorizer.vocabulary_)"
   ]
  },
  {
   "cell_type": "code",
   "execution_count": 0,
   "metadata": {
    "colab": {},
    "colab_type": "code",
    "id": "mBSSCFxTh2eN"
   },
   "outputs": [],
   "source": [
    "y_test = clf.predict_proba(X_test)[:, 1]"
   ]
  },
  {
   "cell_type": "code",
   "execution_count": 0,
   "metadata": {
    "colab": {},
    "colab_type": "code",
    "id": "rmWjnYy_iJIm"
   },
   "outputs": [],
   "source": [
    "y_test = pd.Series(y_test)"
   ]
  },
  {
   "cell_type": "code",
   "execution_count": 0,
   "metadata": {
    "colab": {
     "base_uri": "https://localhost:8080/",
     "height": 34
    },
    "colab_type": "code",
    "executionInfo": {
     "elapsed": 1276,
     "status": "ok",
     "timestamp": 1576149711064,
     "user": {
      "displayName": "NEL VEN",
      "photoUrl": "",
      "userId": "04414681126704222305"
     },
     "user_tz": -180
    },
    "id": "rvLvDdZYim4M",
    "outputId": "8311ddc7-12e3-4609-e9ae-875ab8dcc6ec"
   },
   "outputs": [
    {
     "data": {
      "text/plain": [
       "11087"
      ]
     },
     "execution_count": 712,
     "metadata": {
      "tags": []
     },
     "output_type": "execute_result"
    }
   ],
   "source": [
    "y_test.shape[0]"
   ]
  },
  {
   "cell_type": "code",
   "execution_count": 0,
   "metadata": {
    "colab": {
     "base_uri": "https://localhost:8080/",
     "height": 221
    },
    "colab_type": "code",
    "executionInfo": {
     "elapsed": 1531,
     "status": "ok",
     "timestamp": 1576149714138,
     "user": {
      "displayName": "NEL VEN",
      "photoUrl": "",
      "userId": "04414681126704222305"
     },
     "user_tz": -180
    },
    "id": "Dg8OsRuNlU15",
    "outputId": "cbc01bcf-5425-480b-c218-0699292124b6"
   },
   "outputs": [
    {
     "data": {
      "text/plain": [
       "0        0.024766\n",
       "1        0.415366\n",
       "2        0.671045\n",
       "3        0.136201\n",
       "4        0.897334\n",
       "           ...   \n",
       "11082    0.613275\n",
       "11083    0.409743\n",
       "11084    0.446423\n",
       "11085    0.310142\n",
       "11086    0.529930\n",
       "Length: 11087, dtype: float64"
      ]
     },
     "execution_count": 713,
     "metadata": {
      "tags": []
     },
     "output_type": "execute_result"
    }
   ],
   "source": [
    "y_test"
   ]
  },
  {
   "cell_type": "code",
   "execution_count": 0,
   "metadata": {
    "colab": {},
    "colab_type": "code",
    "id": "brGQu7MqJiBH"
   },
   "outputs": [],
   "source": [
    "for i in range(y_test.shape[0]):\n",
    "  if (test.iloc[i, :].lens in coef.index):\n",
    "    #print(test.iloc[i, :].lens, y_test[i])\n",
    "    #y_test[i] = 0\n",
    "  #else:\n",
    "    y_test[i] *= coef[test.iloc[i, :].lens]\n",
    "y_test"
   ]
  },
  {
   "cell_type": "code",
   "execution_count": 0,
   "metadata": {
    "colab": {},
    "colab_type": "code",
    "id": "bRfRX0zxiodM"
   },
   "outputs": [],
   "source": [
    "res = pd.DataFrame({'res': y_test})"
   ]
  },
  {
   "cell_type": "code",
   "execution_count": 0,
   "metadata": {
    "colab": {},
    "colab_type": "code",
    "id": "9Pl4s7Lfk_oH"
   },
   "outputs": [],
   "source": [
    "res.index += 30001"
   ]
  },
  {
   "cell_type": "code",
   "execution_count": 0,
   "metadata": {
    "colab": {
     "base_uri": "https://localhost:8080/",
     "height": 204
    },
    "colab_type": "code",
    "executionInfo": {
     "elapsed": 1398,
     "status": "ok",
     "timestamp": 1576149822249,
     "user": {
      "displayName": "NEL VEN",
      "photoUrl": "",
      "userId": "04414681126704222305"
     },
     "user_tz": -180
    },
    "id": "3KPw7jaNl1_V",
    "outputId": "2640ae2c-c5b1-415c-c791-43a39dba8d41"
   },
   "outputs": [
    {
     "data": {
      "text/html": [
       "<div>\n",
       "<style scoped>\n",
       "    .dataframe tbody tr th:only-of-type {\n",
       "        vertical-align: middle;\n",
       "    }\n",
       "\n",
       "    .dataframe tbody tr th {\n",
       "        vertical-align: top;\n",
       "    }\n",
       "\n",
       "    .dataframe thead th {\n",
       "        text-align: right;\n",
       "    }\n",
       "</style>\n",
       "<table border=\"1\" class=\"dataframe\">\n",
       "  <thead>\n",
       "    <tr style=\"text-align: right;\">\n",
       "      <th></th>\n",
       "      <th>res</th>\n",
       "    </tr>\n",
       "  </thead>\n",
       "  <tbody>\n",
       "    <tr>\n",
       "      <th>30001</th>\n",
       "      <td>0.024766</td>\n",
       "    </tr>\n",
       "    <tr>\n",
       "      <th>30002</th>\n",
       "      <td>0.415366</td>\n",
       "    </tr>\n",
       "    <tr>\n",
       "      <th>30003</th>\n",
       "      <td>0.671045</td>\n",
       "    </tr>\n",
       "    <tr>\n",
       "      <th>30004</th>\n",
       "      <td>0.136201</td>\n",
       "    </tr>\n",
       "    <tr>\n",
       "      <th>30005</th>\n",
       "      <td>0.897334</td>\n",
       "    </tr>\n",
       "  </tbody>\n",
       "</table>\n",
       "</div>"
      ],
      "text/plain": [
       "            res\n",
       "30001  0.024766\n",
       "30002  0.415366\n",
       "30003  0.671045\n",
       "30004  0.136201\n",
       "30005  0.897334"
      ]
     },
     "execution_count": 717,
     "metadata": {
      "tags": []
     },
     "output_type": "execute_result"
    }
   ],
   "source": [
    "res.head()"
   ]
  },
  {
   "cell_type": "code",
   "execution_count": 0,
   "metadata": {
    "colab": {},
    "colab_type": "code",
    "id": "X4n7GadwlJhp"
   },
   "outputs": [],
   "source": [
    "res.to_csv('res.csv', header=None)"
   ]
  },
  {
   "cell_type": "code",
   "execution_count": 0,
   "metadata": {
    "colab": {},
    "colab_type": "code",
    "id": "0qMIfgzxi7iS"
   },
   "outputs": [],
   "source": [
    "check = pd.read_csv('baseline_solution.csv', sep=';', header=None)"
   ]
  },
  {
   "cell_type": "code",
   "execution_count": 0,
   "metadata": {
    "colab": {
     "base_uri": "https://localhost:8080/",
     "height": 204
    },
    "colab_type": "code",
    "executionInfo": {
     "elapsed": 923,
     "status": "ok",
     "timestamp": 1575633029399,
     "user": {
      "displayName": "NEL VEN",
      "photoUrl": "",
      "userId": "04414681126704222305"
     },
     "user_tz": -180
    },
    "id": "X4HCTa1djrYV",
    "outputId": "304b7b22-dcbd-4ad7-b4bb-76596cacdbb5"
   },
   "outputs": [
    {
     "data": {
      "text/html": [
       "<div>\n",
       "<style scoped>\n",
       "    .dataframe tbody tr th:only-of-type {\n",
       "        vertical-align: middle;\n",
       "    }\n",
       "\n",
       "    .dataframe tbody tr th {\n",
       "        vertical-align: top;\n",
       "    }\n",
       "\n",
       "    .dataframe thead th {\n",
       "        text-align: right;\n",
       "    }\n",
       "</style>\n",
       "<table border=\"1\" class=\"dataframe\">\n",
       "  <thead>\n",
       "    <tr style=\"text-align: right;\">\n",
       "      <th></th>\n",
       "      <th>0</th>\n",
       "    </tr>\n",
       "  </thead>\n",
       "  <tbody>\n",
       "    <tr>\n",
       "      <th>0</th>\n",
       "      <td>30001,0.21362257117243727</td>\n",
       "    </tr>\n",
       "    <tr>\n",
       "      <th>1</th>\n",
       "      <td>30002,0.5356746442721204</td>\n",
       "    </tr>\n",
       "    <tr>\n",
       "      <th>2</th>\n",
       "      <td>30003,0.041250189683554664</td>\n",
       "    </tr>\n",
       "    <tr>\n",
       "      <th>3</th>\n",
       "      <td>30004,0.6039194442334127</td>\n",
       "    </tr>\n",
       "    <tr>\n",
       "      <th>4</th>\n",
       "      <td>30005,0.39016578818886766</td>\n",
       "    </tr>\n",
       "  </tbody>\n",
       "</table>\n",
       "</div>"
      ],
      "text/plain": [
       "                            0\n",
       "0   30001,0.21362257117243727\n",
       "1    30002,0.5356746442721204\n",
       "2  30003,0.041250189683554664\n",
       "3    30004,0.6039194442334127\n",
       "4   30005,0.39016578818886766"
      ]
     },
     "execution_count": 163,
     "metadata": {
      "tags": []
     },
     "output_type": "execute_result"
    }
   ],
   "source": [
    "check.head()"
   ]
  },
  {
   "cell_type": "code",
   "execution_count": 0,
   "metadata": {
    "colab": {},
    "colab_type": "code",
    "id": "Y2IrrWa7j0TY"
   },
   "outputs": [],
   "source": []
  },
  {
   "cell_type": "code",
   "execution_count": 0,
   "metadata": {
    "colab": {
     "base_uri": "https://localhost:8080/",
     "height": 63
    },
    "colab_type": "code",
    "executionInfo": {
     "elapsed": 2049,
     "status": "ok",
     "timestamp": 1575633815308,
     "user": {
      "displayName": "NEL VEN",
      "photoUrl": "",
      "userId": "04414681126704222305"
     },
     "user_tz": -180
    },
    "id": "ksVdb9SOF-iJ",
    "outputId": "8aae7e35-23e8-40ff-a154-52d32b0cf27d"
   },
   "outputs": [
    {
     "data": {
      "text/html": [
       "<p style=\"color: red;\">\n",
       "The default version of TensorFlow in Colab will soon switch to TensorFlow 2.x.<br>\n",
       "We recommend you <a href=\"https://www.tensorflow.org/guide/migrate\" target=\"_blank\">upgrade</a> now \n",
       "or ensure your notebook will continue to use TensorFlow 1.x via the <code>%tensorflow_version 1.x</code> magic:\n",
       "<a href=\"https://colab.research.google.com/notebooks/tensorflow_version.ipynb\" target=\"_blank\">more info</a>.</p>\n"
      ],
      "text/plain": [
       "<IPython.core.display.HTML object>"
      ]
     },
     "metadata": {
      "tags": []
     },
     "output_type": "display_data"
    }
   ],
   "source": [
    "from tensorflow import keras\n",
    "layers = keras.layers\n",
    "models = keras.models"
   ]
  },
  {
   "cell_type": "code",
   "execution_count": 0,
   "metadata": {
    "colab": {},
    "colab_type": "code",
    "id": "GjxFdUzcF_5Z"
   },
   "outputs": [],
   "source": [
    "num_classes = np.max(y_train) + 1\n",
    "y_train = keras.utils.to_categorical(y_train, num_classes)\n",
    "y_test = keras.utils.to_categorical(y_test, num_classes)"
   ]
  },
  {
   "cell_type": "code",
   "execution_count": 0,
   "metadata": {
    "colab": {},
    "colab_type": "code",
    "id": "8nJWHYuKJB1X"
   },
   "outputs": [],
   "source": [
    "tokenize = keras.preprocessing.text.Tokenizer(num_words=500, \n",
    "                                              char_level=False)"
   ]
  },
  {
   "cell_type": "code",
   "execution_count": 0,
   "metadata": {
    "colab": {},
    "colab_type": "code",
    "id": "gfa3I160JEQr"
   },
   "outputs": [],
   "source": [
    "tokenize.fit_on_texts(df_final.iloc[:, 4])\n",
    "x_train = tokenize.texts_to_matrix(df_final.iloc[:, 4], mode='tfidf')"
   ]
  },
  {
   "cell_type": "code",
   "execution_count": 0,
   "metadata": {
    "colab": {
     "base_uri": "https://localhost:8080/",
     "height": 34
    },
    "colab_type": "code",
    "executionInfo": {
     "elapsed": 845,
     "status": "ok",
     "timestamp": 1575634870920,
     "user": {
      "displayName": "NEL VEN",
      "photoUrl": "",
      "userId": "04414681126704222305"
     },
     "user_tz": -180
    },
    "id": "2d-AGKRcJUI5",
    "outputId": "10eb64a0-fc15-4e08-e714-4e975841bd45"
   },
   "outputs": [
    {
     "data": {
      "text/plain": [
       "(30000, 500)"
      ]
     },
     "execution_count": 188,
     "metadata": {
      "tags": []
     },
     "output_type": "execute_result"
    }
   ],
   "source": [
    "x_train.shape"
   ]
  },
  {
   "cell_type": "code",
   "execution_count": 0,
   "metadata": {
    "colab": {
     "base_uri": "https://localhost:8080/",
     "height": 34
    },
    "colab_type": "code",
    "executionInfo": {
     "elapsed": 992,
     "status": "ok",
     "timestamp": 1575635304961,
     "user": {
      "displayName": "NEL VEN",
      "photoUrl": "",
      "userId": "04414681126704222305"
     },
     "user_tz": -180
    },
    "id": "v3ikrgRgLrKw",
    "outputId": "a6d6e687-1903-44aa-b233-6f907b871ad2"
   },
   "outputs": [
    {
     "data": {
      "text/plain": [
       "(30000,)"
      ]
     },
     "execution_count": 199,
     "metadata": {
      "tags": []
     },
     "output_type": "execute_result"
    }
   ],
   "source": [
    "y.shape"
   ]
  },
  {
   "cell_type": "code",
   "execution_count": 0,
   "metadata": {
    "colab": {
     "base_uri": "https://localhost:8080/",
     "height": 34
    },
    "colab_type": "code",
    "executionInfo": {
     "elapsed": 973,
     "status": "ok",
     "timestamp": 1575635142357,
     "user": {
      "displayName": "NEL VEN",
      "photoUrl": "",
      "userId": "04414681126704222305"
     },
     "user_tz": -180
    },
    "id": "zse7KkfJKuJm",
    "outputId": "ce2204e5-8d90-4449-9bdc-1fc5ab5d3e70"
   },
   "outputs": [
    {
     "data": {
      "text/plain": [
       "(30000, 1)"
      ]
     },
     "execution_count": 197,
     "metadata": {
      "tags": []
     },
     "output_type": "execute_result"
    }
   ],
   "source": [
    "y[:, None].shape"
   ]
  },
  {
   "cell_type": "code",
   "execution_count": 0,
   "metadata": {
    "colab": {},
    "colab_type": "code",
    "id": "q1Hqt9QMhSYW"
   },
   "outputs": [],
   "source": []
  },
  {
   "cell_type": "code",
   "execution_count": 0,
   "metadata": {
    "colab": {},
    "colab_type": "code",
    "id": "-I7ArIiehSVM"
   },
   "outputs": [],
   "source": [
    "# Check ngrams"
   ]
  },
  {
   "cell_type": "code",
   "execution_count": 0,
   "metadata": {
    "colab": {},
    "colab_type": "code",
    "id": "GSnO-38vszIy"
   },
   "outputs": [],
   "source": [
    "mapa = set()\n",
    "mapa.add('jumpy')\n",
    "mapa.add('foxxy')"
   ]
  },
  {
   "cell_type": "code",
   "execution_count": 0,
   "metadata": {
    "colab": {},
    "colab_type": "code",
    "id": "y0MLgSYWrCdL"
   },
   "outputs": [],
   "source": [
    "def check_tok(text):\n",
    "  return [word for word in text.split() if word in mapa]"
   ]
  },
  {
   "cell_type": "code",
   "execution_count": 0,
   "metadata": {
    "colab": {
     "base_uri": "https://localhost:8080/",
     "height": 51
    },
    "colab_type": "code",
    "executionInfo": {
     "elapsed": 1153,
     "status": "ok",
     "timestamp": 1575734661749,
     "user": {
      "displayName": "NEL VEN",
      "photoUrl": "",
      "userId": "04414681126704222305"
     },
     "user_tz": -180
    },
    "id": "4zs0S4wMK_a1",
    "outputId": "e3623d6f-196c-4366-c712-8814d6a189c9"
   },
   "outputs": [
    {
     "data": {
      "text/plain": [
       "<2x3 sparse matrix of type '<class 'numpy.float64'>'\n",
       "\twith 4 stored elements in Compressed Sparse Row format>"
      ]
     },
     "execution_count": 269,
     "metadata": {
      "tags": []
     },
     "output_type": "execute_result"
    }
   ],
   "source": [
    "ngram_vectorizer = TfidfVectorizer(tokenizer=check_tok, analyzer='word', ngram_range=(1, 2))\n",
    "ngram_vectorizer.fit_transform(['jumpy and foxxy', 'foxxy'])"
   ]
  },
  {
   "cell_type": "code",
   "execution_count": 0,
   "metadata": {
    "colab": {
     "base_uri": "https://localhost:8080/",
     "height": 34
    },
    "colab_type": "code",
    "executionInfo": {
     "elapsed": 1553,
     "status": "ok",
     "timestamp": 1575734662861,
     "user": {
      "displayName": "NEL VEN",
      "photoUrl": "",
      "userId": "04414681126704222305"
     },
     "user_tz": -180
    },
    "id": "VFjz8FdCpnoE",
    "outputId": "e5b24fa3-2a28-4364-a93e-dc15faf6ee20"
   },
   "outputs": [
    {
     "data": {
      "text/plain": [
       "['foxxy', 'jumpy', 'jumpy foxxy']"
      ]
     },
     "execution_count": 270,
     "metadata": {
      "tags": []
     },
     "output_type": "execute_result"
    }
   ],
   "source": [
    "ngram_vectorizer.get_feature_names()"
   ]
  },
  {
   "cell_type": "code",
   "execution_count": 0,
   "metadata": {
    "colab": {},
    "colab_type": "code",
    "id": "BpOj7Vq3pxLY"
   },
   "outputs": [],
   "source": [
    "tokenizer"
   ]
  },
  {
   "cell_type": "code",
   "execution_count": 0,
   "metadata": {
    "colab": {},
    "colab_type": "code",
    "id": "2qpHCyhghWEH"
   },
   "outputs": [],
   "source": [
    "# check finished"
   ]
  },
  {
   "cell_type": "code",
   "execution_count": 0,
   "metadata": {
    "colab": {},
    "colab_type": "code",
    "id": "kgMN6OPWhWB7"
   },
   "outputs": [],
   "source": []
  },
  {
   "cell_type": "code",
   "execution_count": 0,
   "metadata": {
    "colab": {},
    "colab_type": "code",
    "id": "Aznsk9MDhYHo"
   },
   "outputs": [],
   "source": []
  },
  {
   "cell_type": "code",
   "execution_count": 0,
   "metadata": {
    "colab": {
     "base_uri": "https://localhost:8080/",
     "height": 204
    },
    "colab_type": "code",
    "executionInfo": {
     "elapsed": 568,
     "status": "ok",
     "timestamp": 1576008332339,
     "user": {
      "displayName": "NEL VEN",
      "photoUrl": "",
      "userId": "04414681126704222305"
     },
     "user_tz": -180
    },
    "id": "noJMQPqyhYLv",
    "outputId": "69622fb7-96e1-4a40-c632-1961fcd90067"
   },
   "outputs": [
    {
     "data": {
      "text/html": [
       "<div>\n",
       "<style scoped>\n",
       "    .dataframe tbody tr th:only-of-type {\n",
       "        vertical-align: middle;\n",
       "    }\n",
       "\n",
       "    .dataframe tbody tr th {\n",
       "        vertical-align: top;\n",
       "    }\n",
       "\n",
       "    .dataframe thead th {\n",
       "        text-align: right;\n",
       "    }\n",
       "</style>\n",
       "<table border=\"1\" class=\"dataframe\">\n",
       "  <thead>\n",
       "    <tr style=\"text-align: right;\">\n",
       "      <th></th>\n",
       "      <th>ID</th>\n",
       "      <th>Question</th>\n",
       "      <th>Answer</th>\n",
       "      <th>stemmed</th>\n",
       "    </tr>\n",
       "  </thead>\n",
       "  <tbody>\n",
       "    <tr>\n",
       "      <th>0</th>\n",
       "      <td>1</td>\n",
       "      <td>как зовут лодочника реке стикс древнегреческой...</td>\n",
       "      <td>0</td>\n",
       "      <td>как зовут лодочник рек стикс древнегреческ миф...</td>\n",
       "    </tr>\n",
       "    <tr>\n",
       "      <th>1</th>\n",
       "      <td>2</td>\n",
       "      <td>как химии обозначается свинец</td>\n",
       "      <td>1</td>\n",
       "      <td>как хим обознача свинец</td>\n",
       "    </tr>\n",
       "    <tr>\n",
       "      <th>2</th>\n",
       "      <td>3</td>\n",
       "      <td>какой химический элемент преобладает составе к...</td>\n",
       "      <td>0</td>\n",
       "      <td>как химическ элемент преоблада состав камен угл</td>\n",
       "    </tr>\n",
       "    <tr>\n",
       "      <th>3</th>\n",
       "      <td>4</td>\n",
       "      <td>кто перечисленных был пажом времена екатерины</td>\n",
       "      <td>0</td>\n",
       "      <td>кто перечислен был паж врем екатерин</td>\n",
       "    </tr>\n",
       "    <tr>\n",
       "      <th>4</th>\n",
       "      <td>5</td>\n",
       "      <td>когда началась мировая война</td>\n",
       "      <td>0</td>\n",
       "      <td>когд нача миров войн</td>\n",
       "    </tr>\n",
       "  </tbody>\n",
       "</table>\n",
       "</div>"
      ],
      "text/plain": [
       "   ID  ...                                            stemmed\n",
       "0   1  ...  как зовут лодочник рек стикс древнегреческ миф...\n",
       "1   2  ...                            как хим обознача свинец\n",
       "2   3  ...    как химическ элемент преоблада состав камен угл\n",
       "3   4  ...               кто перечислен был паж врем екатерин\n",
       "4   5  ...                               когд нача миров войн\n",
       "\n",
       "[5 rows x 4 columns]"
      ]
     },
     "execution_count": 182,
     "metadata": {
      "tags": []
     },
     "output_type": "execute_result"
    }
   ],
   "source": [
    "df_final.head()"
   ]
  },
  {
   "cell_type": "code",
   "execution_count": 0,
   "metadata": {
    "colab": {},
    "colab_type": "code",
    "id": "cUh7w8mvhifn"
   },
   "outputs": [],
   "source": [
    "train_text = df_final.stemmed.apply(lambda x: x.split())\n",
    "test_text = test.stemmed.apply(lambda x: x.split())"
   ]
  },
  {
   "cell_type": "code",
   "execution_count": 0,
   "metadata": {
    "colab": {
     "base_uri": "https://localhost:8080/",
     "height": 119
    },
    "colab_type": "code",
    "executionInfo": {
     "elapsed": 469,
     "status": "ok",
     "timestamp": 1576008500215,
     "user": {
      "displayName": "NEL VEN",
      "photoUrl": "",
      "userId": "04414681126704222305"
     },
     "user_tz": -180
    },
    "id": "a0CgpiJvw6DU",
    "outputId": "899feff5-906d-480a-e6c5-6a7ed427a9ff"
   },
   "outputs": [
    {
     "data": {
      "text/plain": [
       "0    [как, зовут, лодочник, рек, стикс, древнегрече...\n",
       "1                         [как, хим, обознача, свинец]\n",
       "2    [как, химическ, элемент, преоблада, состав, ка...\n",
       "3          [кто, перечислен, был, паж, врем, екатерин]\n",
       "4                            [когд, нача, миров, войн]\n",
       "Name: stemmed, dtype: object"
      ]
     },
     "execution_count": 185,
     "metadata": {
      "tags": []
     },
     "output_type": "execute_result"
    }
   ],
   "source": [
    "train_text.head()"
   ]
  },
  {
   "cell_type": "code",
   "execution_count": 0,
   "metadata": {
    "colab": {},
    "colab_type": "code",
    "id": "YR_jyyI-mZlA"
   },
   "outputs": [],
   "source": [
    "all_text = pd.concat([train_text,test_text], axis=0)"
   ]
  },
  {
   "cell_type": "code",
   "execution_count": 0,
   "metadata": {
    "colab": {
     "base_uri": "https://localhost:8080/",
     "height": 34
    },
    "colab_type": "code",
    "executionInfo": {
     "elapsed": 937,
     "status": "ok",
     "timestamp": 1576008504848,
     "user": {
      "displayName": "NEL VEN",
      "photoUrl": "",
      "userId": "04414681126704222305"
     },
     "user_tz": -180
    },
    "id": "7a3f4rHkob2Y",
    "outputId": "8882ed72-ebbb-4aa9-c23f-2f789376dc90"
   },
   "outputs": [
    {
     "data": {
      "text/plain": [
       "41087"
      ]
     },
     "execution_count": 187,
     "metadata": {
      "tags": []
     },
     "output_type": "execute_result"
    }
   ],
   "source": [
    "all_text.size"
   ]
  },
  {
   "cell_type": "code",
   "execution_count": 0,
   "metadata": {
    "colab": {},
    "colab_type": "code",
    "id": "UGuDsnLk5ei1"
   },
   "outputs": [],
   "source": []
  },
  {
   "cell_type": "code",
   "execution_count": 0,
   "metadata": {
    "colab": {},
    "colab_type": "code",
    "id": "jq_INAp03lyN"
   },
   "outputs": [],
   "source": [
    "word_count = collections.defaultdict(int)\n",
    "doc_cnt = all_text.size\n",
    "for text in all_text:\n",
    "  unique_tokens = set(text)\n",
    "  for token in unique_tokens:\n",
    "    word_count[token] += 1"
   ]
  },
  {
   "cell_type": "code",
   "execution_count": 0,
   "metadata": {
    "colab": {},
    "colab_type": "code",
    "id": "AqxkuquT5irI"
   },
   "outputs": [],
   "source": [
    "all_text_filtered = np.array([[word for word in text if word_count[word] > 5 and word_count[word] / all_text.size < 0.2] for text in all_text])"
   ]
  },
  {
   "cell_type": "code",
   "execution_count": 0,
   "metadata": {
    "colab": {
     "base_uri": "https://localhost:8080/",
     "height": 68
    },
    "colab_type": "code",
    "executionInfo": {
     "elapsed": 506,
     "status": "ok",
     "timestamp": 1575821180619,
     "user": {
      "displayName": "NEL VEN",
      "photoUrl": "",
      "userId": "04414681126704222305"
     },
     "user_tz": -180
    },
    "id": "UYIQF9gu6CRd",
    "outputId": "9c4d5bad-19d5-4c57-8d4d-62ad75331307"
   },
   "outputs": [
    {
     "data": {
      "text/plain": [
       "0    [как, зовут, лодочник, рек, стикс, древнегрече...\n",
       "0             [что, литератур, обознача, слов, эпитет]\n",
       "Name: stemmed, dtype: object"
      ]
     },
     "execution_count": 417,
     "metadata": {
      "tags": []
     },
     "output_type": "execute_result"
    }
   ],
   "source": [
    "all_text[0]"
   ]
  },
  {
   "cell_type": "code",
   "execution_count": 0,
   "metadata": {
    "colab": {
     "base_uri": "https://localhost:8080/",
     "height": 34
    },
    "colab_type": "code",
    "executionInfo": {
     "elapsed": 830,
     "status": "ok",
     "timestamp": 1575821183336,
     "user": {
      "displayName": "NEL VEN",
      "photoUrl": "",
      "userId": "04414681126704222305"
     },
     "user_tz": -180
    },
    "id": "sAjTBAy955v0",
    "outputId": "3ef29d1a-efa8-47a9-d9b4-5a7c52b0b829"
   },
   "outputs": [
    {
     "data": {
      "text/plain": [
       "['что', 'литератур', 'обознача', 'слов']"
      ]
     },
     "execution_count": 418,
     "metadata": {
      "tags": []
     },
     "output_type": "execute_result"
    }
   ],
   "source": [
    "all_text_filtered[30000]"
   ]
  },
  {
   "cell_type": "code",
   "execution_count": 0,
   "metadata": {
    "colab": {
     "base_uri": "https://localhost:8080/",
     "height": 282
    },
    "colab_type": "code",
    "executionInfo": {
     "elapsed": 849,
     "status": "ok",
     "timestamp": 1575821186577,
     "user": {
      "displayName": "NEL VEN",
      "photoUrl": "",
      "userId": "04414681126704222305"
     },
     "user_tz": -180
    },
    "id": "9Bb3K45e-M5e",
    "outputId": "3bca593a-fd52-4934-98df-b8d6ec8a79d2"
   },
   "outputs": [
    {
     "data": {
      "text/plain": [
       "<matplotlib.axes._subplots.AxesSubplot at 0x7febb158a278>"
      ]
     },
     "execution_count": 419,
     "metadata": {
      "tags": []
     },
     "output_type": "execute_result"
    },
    {
     "data": {
      "image/png": "[encoded data removed]",
      "text/plain": [
       "<Figure size 432x288 with 1 Axes>"
      ]
     },
     "metadata": {
      "tags": []
     },
     "output_type": "display_data"
    }
   ],
   "source": [
    "pd.Series(all_text_filtered).apply(len).hist()"
   ]
  },
  {
   "cell_type": "code",
   "execution_count": 0,
   "metadata": {
    "colab": {},
    "colab_type": "code",
    "id": "7o7WkcN7-mNt"
   },
   "outputs": [],
   "source": [
    "train_text_filtered = all_text_filtered[:30000]"
   ]
  },
  {
   "cell_type": "code",
   "execution_count": 0,
   "metadata": {
    "colab": {},
    "colab_type": "code",
    "id": "0AQl_yVv_FGJ"
   },
   "outputs": [],
   "source": [
    "df_final['ttf'] = train_text_filtered"
   ]
  },
  {
   "cell_type": "code",
   "execution_count": 0,
   "metadata": {
    "colab": {},
    "colab_type": "code",
    "id": "Xjbmn3_L_O0C"
   },
   "outputs": [],
   "source": [
    "df_final['ttf_len'] = df_final.ttf.apply(len)"
   ]
  },
  {
   "cell_type": "code",
   "execution_count": 0,
   "metadata": {
    "colab": {
     "base_uri": "https://localhost:8080/",
     "height": 34
    },
    "colab_type": "code",
    "executionInfo": {
     "elapsed": 465,
     "status": "ok",
     "timestamp": 1575821236045,
     "user": {
      "displayName": "NEL VEN",
      "photoUrl": "",
      "userId": "04414681126704222305"
     },
     "user_tz": -180
    },
    "id": "EW6EI4-Y_a7P",
    "outputId": "d6c5be4d-b60c-4962-ccf3-1f945a924dc6"
   },
   "outputs": [
    {
     "data": {
      "text/plain": [
       "3.6601307189542487"
      ]
     },
     "execution_count": 425,
     "metadata": {
      "tags": []
     },
     "output_type": "execute_result"
    }
   ],
   "source": [
    "df_final[df_final.ttf_len > 10].Answer.sum() / df_final[df_final.ttf_len > 10].shape[0] * 100"
   ]
  },
  {
   "cell_type": "code",
   "execution_count": 0,
   "metadata": {
    "colab": {
     "base_uri": "https://localhost:8080/",
     "height": 34
    },
    "colab_type": "code",
    "executionInfo": {
     "elapsed": 471,
     "status": "ok",
     "timestamp": 1575821230107,
     "user": {
      "displayName": "NEL VEN",
      "photoUrl": "",
      "userId": "04414681126704222305"
     },
     "user_tz": -180
    },
    "id": "AgMFAyssAFZv",
    "outputId": "67b790ba-9533-45ac-9315-9b8fcfcc3724"
   },
   "outputs": [
    {
     "data": {
      "text/plain": [
       "10.386666666666667"
      ]
     },
     "execution_count": 424,
     "metadata": {
      "tags": []
     },
     "output_type": "execute_result"
    }
   ],
   "source": [
    "df_final.Answer.sum() / df_final.shape[0] * 100"
   ]
  },
  {
   "cell_type": "code",
   "execution_count": 0,
   "metadata": {
    "colab": {
     "base_uri": "https://localhost:8080/",
     "height": 204
    },
    "colab_type": "code",
    "executionInfo": {
     "elapsed": 498,
     "status": "ok",
     "timestamp": 1575821247337,
     "user": {
      "displayName": "NEL VEN",
      "photoUrl": "",
      "userId": "04414681126704222305"
     },
     "user_tz": -180
    },
    "id": "0W4r1R0qBN68",
    "outputId": "2b9e2771-d327-40ea-cbc3-de233f62a59d"
   },
   "outputs": [
    {
     "data": {
      "text/html": [
       "<div>\n",
       "<style scoped>\n",
       "    .dataframe tbody tr th:only-of-type {\n",
       "        vertical-align: middle;\n",
       "    }\n",
       "\n",
       "    .dataframe tbody tr th {\n",
       "        vertical-align: top;\n",
       "    }\n",
       "\n",
       "    .dataframe thead th {\n",
       "        text-align: right;\n",
       "    }\n",
       "</style>\n",
       "<table border=\"1\" class=\"dataframe\">\n",
       "  <thead>\n",
       "    <tr style=\"text-align: right;\">\n",
       "      <th></th>\n",
       "      <th>ID</th>\n",
       "      <th>Question</th>\n",
       "      <th>Answer</th>\n",
       "      <th>lens</th>\n",
       "      <th>ttf</th>\n",
       "      <th>ttf_len</th>\n",
       "      <th>stemmed</th>\n",
       "    </tr>\n",
       "  </thead>\n",
       "  <tbody>\n",
       "    <tr>\n",
       "      <th>0</th>\n",
       "      <td>1</td>\n",
       "      <td>как зовут лодочника реке стикс древнегреческой...</td>\n",
       "      <td>0</td>\n",
       "      <td>62</td>\n",
       "      <td>[зовут, рек, древнегреческ, мифолог]</td>\n",
       "      <td>4</td>\n",
       "      <td>как зовут лодочник рек стикс древнегреческ миф...</td>\n",
       "    </tr>\n",
       "    <tr>\n",
       "      <th>1</th>\n",
       "      <td>2</td>\n",
       "      <td>как химии обозначается свинец</td>\n",
       "      <td>1</td>\n",
       "      <td>32</td>\n",
       "      <td>[хим, обознача]</td>\n",
       "      <td>2</td>\n",
       "      <td>как хим обознача свинец</td>\n",
       "    </tr>\n",
       "    <tr>\n",
       "      <th>2</th>\n",
       "      <td>3</td>\n",
       "      <td>какой химический элемент преобладает составе к...</td>\n",
       "      <td>0</td>\n",
       "      <td>62</td>\n",
       "      <td>[химическ, элемент, преоблада, состав, камен, ...</td>\n",
       "      <td>6</td>\n",
       "      <td>как химическ элемент преоблада состав камен угл</td>\n",
       "    </tr>\n",
       "    <tr>\n",
       "      <th>3</th>\n",
       "      <td>4</td>\n",
       "      <td>кто перечисленных был пажом времена екатерины</td>\n",
       "      <td>0</td>\n",
       "      <td>55</td>\n",
       "      <td>[кто, перечислен, был, врем, екатерин]</td>\n",
       "      <td>5</td>\n",
       "      <td>кто перечислен был паж врем екатерин</td>\n",
       "    </tr>\n",
       "    <tr>\n",
       "      <th>4</th>\n",
       "      <td>5</td>\n",
       "      <td>когда началась мировая война</td>\n",
       "      <td>0</td>\n",
       "      <td>31</td>\n",
       "      <td>[когд, нача, миров, войн]</td>\n",
       "      <td>4</td>\n",
       "      <td>когд нача миров войн</td>\n",
       "    </tr>\n",
       "  </tbody>\n",
       "</table>\n",
       "</div>"
      ],
      "text/plain": [
       "   ID  ...                                            stemmed\n",
       "0   1  ...  как зовут лодочник рек стикс древнегреческ миф...\n",
       "1   2  ...                            как хим обознача свинец\n",
       "2   3  ...    как химическ элемент преоблада состав камен угл\n",
       "3   4  ...               кто перечислен был паж врем екатерин\n",
       "4   5  ...                               когд нача миров войн\n",
       "\n",
       "[5 rows x 7 columns]"
      ]
     },
     "execution_count": 426,
     "metadata": {
      "tags": []
     },
     "output_type": "execute_result"
    }
   ],
   "source": [
    "df_final.head()"
   ]
  },
  {
   "cell_type": "code",
   "execution_count": 0,
   "metadata": {
    "colab": {},
    "colab_type": "code",
    "id": "O-C98OCOsckY"
   },
   "outputs": [],
   "source": [
    "dim = 50"
   ]
  },
  {
   "cell_type": "code",
   "execution_count": 0,
   "metadata": {
    "colab": {},
    "colab_type": "code",
    "id": "TqoZTa5NmjRg"
   },
   "outputs": [],
   "source": [
    "model = word2vec.Word2Vec(all_text, size=50, window=3, workers=-1)"
   ]
  },
  {
   "cell_type": "code",
   "execution_count": 0,
   "metadata": {
    "colab": {
     "base_uri": "https://localhost:8080/",
     "height": 34
    },
    "colab_type": "code",
    "executionInfo": {
     "elapsed": 763,
     "status": "ok",
     "timestamp": 1576008883383,
     "user": {
      "displayName": "NEL VEN",
      "photoUrl": "",
      "userId": "04414681126704222305"
     },
     "user_tz": -180
    },
    "id": "OXs17MY9nU4a",
    "outputId": "e5575c91-0ab2-4f19-ad8d-31906a3289fa"
   },
   "outputs": [
    {
     "data": {
      "text/plain": [
       "5145"
      ]
     },
     "execution_count": 227,
     "metadata": {
      "tags": []
     },
     "output_type": "execute_result"
    }
   ],
   "source": [
    "pd.Series(model.wv.index2word).size"
   ]
  },
  {
   "cell_type": "code",
   "execution_count": 0,
   "metadata": {
    "colab": {},
    "colab_type": "code",
    "id": "6UiOo7DTnWDO"
   },
   "outputs": [],
   "source": [
    "# wv - dict from word to it's emmbading\n",
    "#model.wv['какой']"
   ]
  },
  {
   "cell_type": "code",
   "execution_count": 0,
   "metadata": {
    "colab": {},
    "colab_type": "code",
    "id": "yxzs3eOVpOcc"
   },
   "outputs": [],
   "source": [
    "# dict(zip(model.wv.index2word, model.wv.syn0))"
   ]
  },
  {
   "cell_type": "code",
   "execution_count": 0,
   "metadata": {
    "colab": {},
    "colab_type": "code",
    "id": "7bFtqDSLqXKA"
   },
   "outputs": [],
   "source": [
    "transformed_data = np.array([\n",
    "            np.mean([model.wv[w] for w in words if w in model.wv] \n",
    "                    or [np.zeros(dim)], axis=0)\n",
    "            for words in train_text\n",
    "        ])"
   ]
  },
  {
   "cell_type": "code",
   "execution_count": 0,
   "metadata": {
    "colab": {
     "base_uri": "https://localhost:8080/",
     "height": 34
    },
    "colab_type": "code",
    "executionInfo": {
     "elapsed": 789,
     "status": "ok",
     "timestamp": 1576008891945,
     "user": {
      "displayName": "NEL VEN",
      "photoUrl": "",
      "userId": "04414681126704222305"
     },
     "user_tz": -180
    },
    "id": "BDjJ6Iwzz6zt",
    "outputId": "72a558f6-4132-45d5-8582-1aa1dcdaddcc"
   },
   "outputs": [
    {
     "data": {
      "text/plain": [
       "(30000, 50)"
      ]
     },
     "execution_count": 231,
     "metadata": {
      "tags": []
     },
     "output_type": "execute_result"
    }
   ],
   "source": [
    "transformed_data.shape"
   ]
  },
  {
   "cell_type": "code",
   "execution_count": 0,
   "metadata": {
    "colab": {
     "base_uri": "https://localhost:8080/",
     "height": 34
    },
    "colab_type": "code",
    "executionInfo": {
     "elapsed": 888,
     "status": "ok",
     "timestamp": 1575814771431,
     "user": {
      "displayName": "NEL VEN",
      "photoUrl": "",
      "userId": "04414681126704222305"
     },
     "user_tz": -180
    },
    "id": "bZ_sT6OVt034",
    "outputId": "e2a4da1d-d6a7-44e4-ef33-c49b0049463d"
   },
   "outputs": [
    {
     "data": {
      "text/plain": [
       "(0, (30000,))"
      ]
     },
     "execution_count": 149,
     "metadata": {
      "tags": []
     },
     "output_type": "execute_result"
    }
   ],
   "source": [
    "# DOTO change delete words\n",
    "cnt = 0\n",
    "for text in train_text:\n",
    "  for word in text:\n",
    "    if word not in model.wv:\n",
    "      cnt += 1\n",
    "cnt, train_text.shape"
   ]
  },
  {
   "cell_type": "code",
   "execution_count": 0,
   "metadata": {
    "colab": {},
    "colab_type": "code",
    "id": "TRXRfxOssmYW"
   },
   "outputs": [],
   "source": [
    "from sklearn.model_selection import train_test_split"
   ]
  },
  {
   "cell_type": "code",
   "execution_count": 0,
   "metadata": {
    "colab": {},
    "colab_type": "code",
    "id": "9OtiB91Fzy4W"
   },
   "outputs": [],
   "source": [
    "y = df_final.Answer\n",
    "#transformed_data = pd.Series(transformed_data)"
   ]
  },
  {
   "cell_type": "code",
   "execution_count": 0,
   "metadata": {
    "colab": {},
    "colab_type": "code",
    "id": "AT9oAEYcyYj7"
   },
   "outputs": [],
   "source": [
    "X_train, X_test, y_train, y_test = train_test_split(transformed_data, y, test_size=0.2, random_state=42, stratify=y)"
   ]
  },
  {
   "cell_type": "code",
   "execution_count": 0,
   "metadata": {
    "colab": {
     "base_uri": "https://localhost:8080/",
     "height": 34
    },
    "colab_type": "code",
    "executionInfo": {
     "elapsed": 354,
     "status": "ok",
     "timestamp": 1576008652762,
     "user": {
      "displayName": "NEL VEN",
      "photoUrl": "",
      "userId": "04414681126704222305"
     },
     "user_tz": -180
    },
    "id": "7ofSEa2q1lDA",
    "outputId": "2ad14ce0-d86e-4249-c845-edce0c3caf65"
   },
   "outputs": [
    {
     "data": {
      "text/plain": [
       "300"
      ]
     },
     "execution_count": 204,
     "metadata": {
      "tags": []
     },
     "output_type": "execute_result"
    }
   ],
   "source": [
    "X_train.shape[1]"
   ]
  },
  {
   "cell_type": "code",
   "execution_count": 0,
   "metadata": {
    "colab": {
     "base_uri": "https://localhost:8080/",
     "height": 80
    },
    "colab_type": "code",
    "executionInfo": {
     "elapsed": 2303,
     "status": "ok",
     "timestamp": 1576142333788,
     "user": {
      "displayName": "NEL VEN",
      "photoUrl": "",
      "userId": "04414681126704222305"
     },
     "user_tz": -180
    },
    "id": "bOcNv6h51LMB",
    "outputId": "42ba9f88-eaf2-49f6-df92-fa66f64966a2"
   },
   "outputs": [
    {
     "name": "stderr",
     "output_type": "stream",
     "text": [
      "Using TensorFlow backend.\n"
     ]
    },
    {
     "data": {
      "text/html": [
       "<p style=\"color: red;\">\n",
       "The default version of TensorFlow in Colab will soon switch to TensorFlow 2.x.<br>\n",
       "We recommend you <a href=\"https://www.tensorflow.org/guide/migrate\" target=\"_blank\">upgrade</a> now \n",
       "or ensure your notebook will continue to use TensorFlow 1.x via the <code>%tensorflow_version 1.x</code> magic:\n",
       "<a href=\"https://colab.research.google.com/notebooks/tensorflow_version.ipynb\" target=\"_blank\">more info</a>.</p>\n"
      ],
      "text/plain": [
       "<IPython.core.display.HTML object>"
      ]
     },
     "metadata": {
      "tags": []
     },
     "output_type": "display_data"
    }
   ],
   "source": [
    "from keras.models import Sequential, Model\n",
    "from keras.layers import Dense, Dropout, Activation, Input\n",
    "from keras.preprocessing.text import Tokenizer\n",
    "from keras import regularizers\n",
    "from tensorflow.keras.metrics import AUC"
   ]
  },
  {
   "cell_type": "code",
   "execution_count": 0,
   "metadata": {
    "colab": {},
    "colab_type": "code",
    "id": "btaA8l0D0CAW"
   },
   "outputs": [],
   "source": [
    "model = Sequential()\n",
    "model.add(Dense(512, input_dim=(1692)))\n",
    "model.add(Activation('tanh'))\n",
    "#model.add(Dropout(0.1))\n",
    "model.add(Activation('tanh'))\n",
    "model.add(Dense(256))\n",
    "#model.add(Dropout(0.1))\n",
    "model.add(Activation('tanh'))\n",
    "model.add(Dense(128))\n",
    "#model.add(Dropout(0.1))\n",
    "model.add(Activation('tanh'))\n",
    "model.add(Dense(64))\n",
    "#model.add(Dropout(0.1))\n",
    "model.add(Activation('tanh'))\n",
    "model.add(Dense(32))\n",
    "#model.add(Dropout(0.1))\n",
    "model.add(Dense(1))\n",
    "model.add(Activation('sigmoid'))\n",
    "model.compile(loss='binary_crossentropy',\n",
    "              optimizer='adam',\n",
    "              metrics=['binary_crossentropy'])"
   ]
  },
  {
   "cell_type": "code",
   "execution_count": 0,
   "metadata": {
    "colab": {},
    "colab_type": "code",
    "id": "FsdgbFX00GGW"
   },
   "outputs": [],
   "source": [
    "history = model.fit(X_train, y_train,\n",
    "                    batch_size=128,\n",
    "                    epochs=20,\n",
    "                    validation_data=(X_test, y_test),\n",
    "                    class_weight={0:1, 1:9},\n",
    "                    verbose=0)"
   ]
  },
  {
   "cell_type": "code",
   "execution_count": 0,
   "metadata": {
    "colab": {
     "base_uri": "https://localhost:8080/",
     "height": 34
    },
    "colab_type": "code",
    "executionInfo": {
     "elapsed": 98680,
     "status": "ok",
     "timestamp": 1576144067208,
     "user": {
      "displayName": "NEL VEN",
      "photoUrl": "",
      "userId": "04414681126704222305"
     },
     "user_tz": -180
    },
    "id": "LX1sOBKH22aU",
    "outputId": "6179c117-f75c-4782-dc06-42c96a831193"
   },
   "outputs": [
    {
     "data": {
      "text/plain": [
       "0.6760048372011938"
      ]
     },
     "execution_count": 242,
     "metadata": {
      "tags": []
     },
     "output_type": "execute_result"
    }
   ],
   "source": [
    "classes = model.predict_proba(X_test, batch_size=128)\n",
    "roc_auc_score(y_test, classes)"
   ]
  },
  {
   "cell_type": "code",
   "execution_count": 0,
   "metadata": {
    "colab": {},
    "colab_type": "code",
    "id": "nH8ARSxr3CEQ"
   },
   "outputs": [],
   "source": [
    "500 -> 128 -> 64 -> 32 -> 16 -> 1\n",
    "tanh * 4, sig 0.7439"
   ]
  },
  {
   "cell_type": "code",
   "execution_count": 0,
   "metadata": {
    "colab": {},
    "colab_type": "code",
    "id": "Dm7mOSiU7D_j"
   },
   "outputs": [],
   "source": [
    "# XGBoost"
   ]
  },
  {
   "cell_type": "code",
   "execution_count": 0,
   "metadata": {
    "colab": {},
    "colab_type": "code",
    "id": "TA3UbHTy7FfZ"
   },
   "outputs": [],
   "source": [
    "import xgboost as xgb"
   ]
  },
  {
   "cell_type": "code",
   "execution_count": 0,
   "metadata": {
    "colab": {},
    "colab_type": "code",
    "id": "BUKdJGk_7F_5"
   },
   "outputs": [],
   "source": [
    "dtr = xgb.DMatrix(X_train, label=y_train, missing = np.nan)\n",
    "dval = xgb.DMatrix(X_test, label= y_test,missing = np.nan)\n",
    "watchlist = [(dtr, 'train'), (dval, 'eval')]\n",
    "history = dict()"
   ]
  },
  {
   "cell_type": "code",
   "execution_count": 0,
   "metadata": {
    "colab": {
     "base_uri": "https://localhost:8080/",
     "height": 34
    },
    "colab_type": "code",
    "executionInfo": {
     "elapsed": 877,
     "status": "ok",
     "timestamp": 1576142136560,
     "user": {
      "displayName": "NEL VEN",
      "photoUrl": "",
      "userId": "04414681126704222305"
     },
     "user_tz": -180
    },
    "id": "GCrpF-3b7tsy",
    "outputId": "56d1f28d-1096-44d1-95dc-6a2faf9422e2"
   },
   "outputs": [
    {
     "data": {
      "text/plain": [
       "9.630818619582664"
      ]
     },
     "execution_count": 117,
     "metadata": {
      "tags": []
     },
     "output_type": "execute_result"
    }
   ],
   "source": [
    "1 / y_test.mean()"
   ]
  },
  {
   "cell_type": "code",
   "execution_count": 0,
   "metadata": {
    "colab": {},
    "colab_type": "code",
    "id": "6i2cKpGZ7PPh"
   },
   "outputs": [],
   "source": [
    "params = {\n",
    "    'max_depth': 7,\n",
    "    'eta': 0.025,\n",
    "    'nthread':-1,\n",
    "    'gamma' : 1,\n",
    "    'alpha' : 1,\n",
    "    'subsample': 1,\n",
    "    'eval_metric': ['auc'],\n",
    "    'objective': 'binary:logistic',\n",
    "    'colsample_bytree': 0.9,\n",
    "    'min_child_weight': 20,\n",
    "    'scale_pos_weight':9,\n",
    "    'seed':7\n",
    "} #max_depth - 10, min_child_weight = 25 72.46"
   ]
  },
  {
   "cell_type": "code",
   "execution_count": 0,
   "metadata": {
    "colab": {
     "base_uri": "https://localhost:8080/",
     "height": 204
    },
    "colab_type": "code",
    "executionInfo": {
     "elapsed": 5304,
     "status": "ok",
     "timestamp": 1576142142286,
     "user": {
      "displayName": "NEL VEN",
      "photoUrl": "",
      "userId": "04414681126704222305"
     },
     "user_tz": -180
    },
    "id": "UtZzdBk17RFw",
    "outputId": "2bc57da4-5642-4a20-b12e-50083942eaad"
   },
   "outputs": [
    {
     "name": "stdout",
     "output_type": "stream",
     "text": [
      "[0]\ttrain-auc:0.663426\teval-auc:0.650869\n",
      "[20]\ttrain-auc:0.709518\teval-auc:0.686014\n",
      "[40]\ttrain-auc:0.722268\teval-auc:0.693666\n",
      "[60]\ttrain-auc:0.732793\teval-auc:0.701369\n",
      "[80]\ttrain-auc:0.740881\teval-auc:0.707199\n",
      "[100]\ttrain-auc:0.749294\teval-auc:0.711506\n",
      "[120]\ttrain-auc:0.753352\teval-auc:0.712191\n",
      "[140]\ttrain-auc:0.757483\teval-auc:0.714327\n",
      "[160]\ttrain-auc:0.759548\teval-auc:0.715724\n",
      "[180]\ttrain-auc:0.762737\teval-auc:0.718408\n",
      "[199]\ttrain-auc:0.765299\teval-auc:0.718425\n"
     ]
    }
   ],
   "source": [
    "model_new = xgb.train(params, dtr, num_boost_round=200, evals=watchlist, evals_result=history, verbose_eval=20)"
   ]
  },
  {
   "cell_type": "code",
   "execution_count": 0,
   "metadata": {
    "colab": {},
    "colab_type": "code",
    "id": "8AJvuryT7SeB"
   },
   "outputs": [],
   "source": [
    "dfnow = pd.read_csv('res73.csv', header=None)\n",
    "dfwas = pd.read_csv('res64.csv', header=None)"
   ]
  },
  {
   "cell_type": "code",
   "execution_count": 0,
   "metadata": {
    "colab": {},
    "colab_type": "code",
    "id": "W0oHWY1y0AzG"
   },
   "outputs": [],
   "source": [
    "dfnow.drop([0], inplace=True, axis=1)"
   ]
  },
  {
   "cell_type": "code",
   "execution_count": 0,
   "metadata": {
    "colab": {},
    "colab_type": "code",
    "id": "PqO7z6N1031w"
   },
   "outputs": [],
   "source": [
    "dfnow= dfnow.rename({1: 'res_now'}, axis=1)"
   ]
  },
  {
   "cell_type": "code",
   "execution_count": 106,
   "metadata": {
    "colab": {
     "base_uri": "https://localhost:8080/",
     "height": 204
    },
    "colab_type": "code",
    "executionInfo": {
     "elapsed": 463,
     "status": "ok",
     "timestamp": 1576173945936,
     "user": {
      "displayName": "NEL VEN",
      "photoUrl": "",
      "userId": "04414681126704222305"
     },
     "user_tz": -180
    },
    "id": "pRVjd0XO00fE",
    "outputId": "fe9b2df0-b747-4520-b81f-82a67ace8fea"
   },
   "outputs": [
    {
     "data": {
      "text/html": [
       "<div>\n",
       "<style scoped>\n",
       "    .dataframe tbody tr th:only-of-type {\n",
       "        vertical-align: middle;\n",
       "    }\n",
       "\n",
       "    .dataframe tbody tr th {\n",
       "        vertical-align: top;\n",
       "    }\n",
       "\n",
       "    .dataframe thead th {\n",
       "        text-align: right;\n",
       "    }\n",
       "</style>\n",
       "<table border=\"1\" class=\"dataframe\">\n",
       "  <thead>\n",
       "    <tr style=\"text-align: right;\">\n",
       "      <th></th>\n",
       "      <th>res_now</th>\n",
       "    </tr>\n",
       "  </thead>\n",
       "  <tbody>\n",
       "    <tr>\n",
       "      <th>0</th>\n",
       "      <td>0.006402</td>\n",
       "    </tr>\n",
       "    <tr>\n",
       "      <th>1</th>\n",
       "      <td>0.412673</td>\n",
       "    </tr>\n",
       "    <tr>\n",
       "      <th>2</th>\n",
       "      <td>0.700921</td>\n",
       "    </tr>\n",
       "    <tr>\n",
       "      <th>3</th>\n",
       "      <td>0.049069</td>\n",
       "    </tr>\n",
       "    <tr>\n",
       "      <th>4</th>\n",
       "      <td>0.908883</td>\n",
       "    </tr>\n",
       "  </tbody>\n",
       "</table>\n",
       "</div>"
      ],
      "text/plain": [
       "    res_now\n",
       "0  0.006402\n",
       "1  0.412673\n",
       "2  0.700921\n",
       "3  0.049069\n",
       "4  0.908883"
      ]
     },
     "execution_count": 106,
     "metadata": {
      "tags": []
     },
     "output_type": "execute_result"
    }
   ],
   "source": [
    "dfnow.head()"
   ]
  },
  {
   "cell_type": "code",
   "execution_count": 107,
   "metadata": {
    "colab": {
     "base_uri": "https://localhost:8080/",
     "height": 204
    },
    "colab_type": "code",
    "executionInfo": {
     "elapsed": 700,
     "status": "ok",
     "timestamp": 1576173948569,
     "user": {
      "displayName": "NEL VEN",
      "photoUrl": "",
      "userId": "04414681126704222305"
     },
     "user_tz": -180
    },
    "id": "vjbKfWEjzbwM",
    "outputId": "54d19ae1-45a8-4249-89ce-a93fd268009e"
   },
   "outputs": [
    {
     "data": {
      "text/html": [
       "<div>\n",
       "<style scoped>\n",
       "    .dataframe tbody tr th:only-of-type {\n",
       "        vertical-align: middle;\n",
       "    }\n",
       "\n",
       "    .dataframe tbody tr th {\n",
       "        vertical-align: top;\n",
       "    }\n",
       "\n",
       "    .dataframe thead th {\n",
       "        text-align: right;\n",
       "    }\n",
       "</style>\n",
       "<table border=\"1\" class=\"dataframe\">\n",
       "  <thead>\n",
       "    <tr style=\"text-align: right;\">\n",
       "      <th></th>\n",
       "      <th>0</th>\n",
       "      <th>1</th>\n",
       "    </tr>\n",
       "  </thead>\n",
       "  <tbody>\n",
       "    <tr>\n",
       "      <th>0</th>\n",
       "      <td>30001</td>\n",
       "      <td>0.413396</td>\n",
       "    </tr>\n",
       "    <tr>\n",
       "      <th>1</th>\n",
       "      <td>30002</td>\n",
       "      <td>0.244051</td>\n",
       "    </tr>\n",
       "    <tr>\n",
       "      <th>2</th>\n",
       "      <td>30003</td>\n",
       "      <td>0.451170</td>\n",
       "    </tr>\n",
       "    <tr>\n",
       "      <th>3</th>\n",
       "      <td>30004</td>\n",
       "      <td>0.083641</td>\n",
       "    </tr>\n",
       "    <tr>\n",
       "      <th>4</th>\n",
       "      <td>30005</td>\n",
       "      <td>0.712161</td>\n",
       "    </tr>\n",
       "  </tbody>\n",
       "</table>\n",
       "</div>"
      ],
      "text/plain": [
       "       0         1\n",
       "0  30001  0.413396\n",
       "1  30002  0.244051\n",
       "2  30003  0.451170\n",
       "3  30004  0.083641\n",
       "4  30005  0.712161"
      ]
     },
     "execution_count": 107,
     "metadata": {
      "tags": []
     },
     "output_type": "execute_result"
    }
   ],
   "source": [
    "dfwas.head()"
   ]
  },
  {
   "cell_type": "code",
   "execution_count": 0,
   "metadata": {
    "colab": {},
    "colab_type": "code",
    "id": "lS03eGd1z5rJ"
   },
   "outputs": [],
   "source": [
    "df = dfwas.rename({1:'res_was'}, axis=1)\n",
    "df['res_now'] = dfnow.res_now"
   ]
  },
  {
   "cell_type": "code",
   "execution_count": 109,
   "metadata": {
    "colab": {
     "base_uri": "https://localhost:8080/",
     "height": 204
    },
    "colab_type": "code",
    "executionInfo": {
     "elapsed": 635,
     "status": "ok",
     "timestamp": 1576173956143,
     "user": {
      "displayName": "NEL VEN",
      "photoUrl": "",
      "userId": "04414681126704222305"
     },
     "user_tz": -180
    },
    "id": "t1tjeAN7Sd6L",
    "outputId": "1ec494db-9f74-45a8-ea03-7886b958ed6a"
   },
   "outputs": [
    {
     "data": {
      "text/html": [
       "<div>\n",
       "<style scoped>\n",
       "    .dataframe tbody tr th:only-of-type {\n",
       "        vertical-align: middle;\n",
       "    }\n",
       "\n",
       "    .dataframe tbody tr th {\n",
       "        vertical-align: top;\n",
       "    }\n",
       "\n",
       "    .dataframe thead th {\n",
       "        text-align: right;\n",
       "    }\n",
       "</style>\n",
       "<table border=\"1\" class=\"dataframe\">\n",
       "  <thead>\n",
       "    <tr style=\"text-align: right;\">\n",
       "      <th></th>\n",
       "      <th>0</th>\n",
       "      <th>res_was</th>\n",
       "      <th>res_now</th>\n",
       "    </tr>\n",
       "  </thead>\n",
       "  <tbody>\n",
       "    <tr>\n",
       "      <th>0</th>\n",
       "      <td>30001</td>\n",
       "      <td>0.413396</td>\n",
       "      <td>0.006402</td>\n",
       "    </tr>\n",
       "    <tr>\n",
       "      <th>1</th>\n",
       "      <td>30002</td>\n",
       "      <td>0.244051</td>\n",
       "      <td>0.412673</td>\n",
       "    </tr>\n",
       "    <tr>\n",
       "      <th>2</th>\n",
       "      <td>30003</td>\n",
       "      <td>0.451170</td>\n",
       "      <td>0.700921</td>\n",
       "    </tr>\n",
       "    <tr>\n",
       "      <th>3</th>\n",
       "      <td>30004</td>\n",
       "      <td>0.083641</td>\n",
       "      <td>0.049069</td>\n",
       "    </tr>\n",
       "    <tr>\n",
       "      <th>4</th>\n",
       "      <td>30005</td>\n",
       "      <td>0.712161</td>\n",
       "      <td>0.908883</td>\n",
       "    </tr>\n",
       "  </tbody>\n",
       "</table>\n",
       "</div>"
      ],
      "text/plain": [
       "       0   res_was   res_now\n",
       "0  30001  0.413396  0.006402\n",
       "1  30002  0.244051  0.412673\n",
       "2  30003  0.451170  0.700921\n",
       "3  30004  0.083641  0.049069\n",
       "4  30005  0.712161  0.908883"
      ]
     },
     "execution_count": 109,
     "metadata": {
      "tags": []
     },
     "output_type": "execute_result"
    }
   ],
   "source": [
    "df.head()"
   ]
  },
  {
   "cell_type": "code",
   "execution_count": 38,
   "metadata": {
    "colab": {
     "base_uri": "https://localhost:8080/",
     "height": 419
    },
    "colab_type": "code",
    "executionInfo": {
     "elapsed": 502,
     "status": "ok",
     "timestamp": 1576167002799,
     "user": {
      "displayName": "NEL VEN",
      "photoUrl": "",
      "userId": "04414681126704222305"
     },
     "user_tz": -180
    },
    "id": "GB98tjeF1Uy4",
    "outputId": "466eac05-5886-4bde-cf4d-81a70d3a0190"
   },
   "outputs": [
    {
     "data": {
      "text/html": [
       "<div>\n",
       "<style scoped>\n",
       "    .dataframe tbody tr th:only-of-type {\n",
       "        vertical-align: middle;\n",
       "    }\n",
       "\n",
       "    .dataframe tbody tr th {\n",
       "        vertical-align: top;\n",
       "    }\n",
       "\n",
       "    .dataframe thead th {\n",
       "        text-align: right;\n",
       "    }\n",
       "</style>\n",
       "<table border=\"1\" class=\"dataframe\">\n",
       "  <thead>\n",
       "    <tr style=\"text-align: right;\">\n",
       "      <th></th>\n",
       "      <th>0</th>\n",
       "      <th>res_was</th>\n",
       "      <th>res_now</th>\n",
       "    </tr>\n",
       "  </thead>\n",
       "  <tbody>\n",
       "    <tr>\n",
       "      <th>15</th>\n",
       "      <td>30016</td>\n",
       "      <td>0.098970</td>\n",
       "      <td>0.836211</td>\n",
       "    </tr>\n",
       "    <tr>\n",
       "      <th>18</th>\n",
       "      <td>30019</td>\n",
       "      <td>0.681288</td>\n",
       "      <td>0.014852</td>\n",
       "    </tr>\n",
       "    <tr>\n",
       "      <th>20</th>\n",
       "      <td>30021</td>\n",
       "      <td>0.675420</td>\n",
       "      <td>0.022460</td>\n",
       "    </tr>\n",
       "    <tr>\n",
       "      <th>36</th>\n",
       "      <td>30037</td>\n",
       "      <td>0.717411</td>\n",
       "      <td>0.050203</td>\n",
       "    </tr>\n",
       "    <tr>\n",
       "      <th>39</th>\n",
       "      <td>30040</td>\n",
       "      <td>0.718911</td>\n",
       "      <td>0.166853</td>\n",
       "    </tr>\n",
       "    <tr>\n",
       "      <th>...</th>\n",
       "      <td>...</td>\n",
       "      <td>...</td>\n",
       "      <td>...</td>\n",
       "    </tr>\n",
       "    <tr>\n",
       "      <th>10975</th>\n",
       "      <td>40976</td>\n",
       "      <td>0.680894</td>\n",
       "      <td>0.014477</td>\n",
       "    </tr>\n",
       "    <tr>\n",
       "      <th>11015</th>\n",
       "      <td>41016</td>\n",
       "      <td>0.743724</td>\n",
       "      <td>0.197289</td>\n",
       "    </tr>\n",
       "    <tr>\n",
       "      <th>11048</th>\n",
       "      <td>41049</td>\n",
       "      <td>0.374856</td>\n",
       "      <td>0.945689</td>\n",
       "    </tr>\n",
       "    <tr>\n",
       "      <th>11050</th>\n",
       "      <td>41051</td>\n",
       "      <td>0.767336</td>\n",
       "      <td>0.201466</td>\n",
       "    </tr>\n",
       "    <tr>\n",
       "      <th>11076</th>\n",
       "      <td>41077</td>\n",
       "      <td>0.338836</td>\n",
       "      <td>0.854521</td>\n",
       "    </tr>\n",
       "  </tbody>\n",
       "</table>\n",
       "<p>524 rows × 3 columns</p>\n",
       "</div>"
      ],
      "text/plain": [
       "           0   res_was   res_now\n",
       "15     30016  0.098970  0.836211\n",
       "18     30019  0.681288  0.014852\n",
       "20     30021  0.675420  0.022460\n",
       "36     30037  0.717411  0.050203\n",
       "39     30040  0.718911  0.166853\n",
       "...      ...       ...       ...\n",
       "10975  40976  0.680894  0.014477\n",
       "11015  41016  0.743724  0.197289\n",
       "11048  41049  0.374856  0.945689\n",
       "11050  41051  0.767336  0.201466\n",
       "11076  41077  0.338836  0.854521\n",
       "\n",
       "[524 rows x 3 columns]"
      ]
     },
     "execution_count": 38,
     "metadata": {
      "tags": []
     },
     "output_type": "execute_result"
    }
   ],
   "source": [
    "df[(abs(df.res_was - df.res_now) > 0.5) ] #& (((df.res_now < 0.2) & (df.res_was < 0.2)) | (df.res_now > 0.8))"
   ]
  },
  {
   "cell_type": "code",
   "execution_count": 59,
   "metadata": {
    "colab": {
     "base_uri": "https://localhost:8080/",
     "height": 419
    },
    "colab_type": "code",
    "executionInfo": {
     "elapsed": 471,
     "status": "ok",
     "timestamp": 1576167690165,
     "user": {
      "displayName": "NEL VEN",
      "photoUrl": "",
      "userId": "04414681126704222305"
     },
     "user_tz": -180
    },
    "id": "b1heNDNh5shb",
    "outputId": "f657df13-8442-4944-ea1b-c361c3373ed1"
   },
   "outputs": [
    {
     "data": {
      "text/html": [
       "<div>\n",
       "<style scoped>\n",
       "    .dataframe tbody tr th:only-of-type {\n",
       "        vertical-align: middle;\n",
       "    }\n",
       "\n",
       "    .dataframe tbody tr th {\n",
       "        vertical-align: top;\n",
       "    }\n",
       "\n",
       "    .dataframe thead th {\n",
       "        text-align: right;\n",
       "    }\n",
       "</style>\n",
       "<table border=\"1\" class=\"dataframe\">\n",
       "  <thead>\n",
       "    <tr style=\"text-align: right;\">\n",
       "      <th></th>\n",
       "      <th>0</th>\n",
       "      <th>res_was</th>\n",
       "      <th>res_now</th>\n",
       "      <th>new_res</th>\n",
       "    </tr>\n",
       "  </thead>\n",
       "  <tbody>\n",
       "    <tr>\n",
       "      <th>15</th>\n",
       "      <td>30016</td>\n",
       "      <td>0.098970</td>\n",
       "      <td>0.836211</td>\n",
       "      <td>1.0</td>\n",
       "    </tr>\n",
       "    <tr>\n",
       "      <th>18</th>\n",
       "      <td>30019</td>\n",
       "      <td>0.681288</td>\n",
       "      <td>0.014852</td>\n",
       "      <td>0.0</td>\n",
       "    </tr>\n",
       "    <tr>\n",
       "      <th>20</th>\n",
       "      <td>30021</td>\n",
       "      <td>0.675420</td>\n",
       "      <td>0.022460</td>\n",
       "      <td>0.0</td>\n",
       "    </tr>\n",
       "    <tr>\n",
       "      <th>36</th>\n",
       "      <td>30037</td>\n",
       "      <td>0.717411</td>\n",
       "      <td>0.050203</td>\n",
       "      <td>0.0</td>\n",
       "    </tr>\n",
       "    <tr>\n",
       "      <th>39</th>\n",
       "      <td>30040</td>\n",
       "      <td>0.718911</td>\n",
       "      <td>0.166853</td>\n",
       "      <td>0.0</td>\n",
       "    </tr>\n",
       "    <tr>\n",
       "      <th>...</th>\n",
       "      <td>...</td>\n",
       "      <td>...</td>\n",
       "      <td>...</td>\n",
       "      <td>...</td>\n",
       "    </tr>\n",
       "    <tr>\n",
       "      <th>10975</th>\n",
       "      <td>40976</td>\n",
       "      <td>0.680894</td>\n",
       "      <td>0.014477</td>\n",
       "      <td>0.0</td>\n",
       "    </tr>\n",
       "    <tr>\n",
       "      <th>11015</th>\n",
       "      <td>41016</td>\n",
       "      <td>0.743724</td>\n",
       "      <td>0.197289</td>\n",
       "      <td>0.0</td>\n",
       "    </tr>\n",
       "    <tr>\n",
       "      <th>11048</th>\n",
       "      <td>41049</td>\n",
       "      <td>0.374856</td>\n",
       "      <td>0.945689</td>\n",
       "      <td>1.0</td>\n",
       "    </tr>\n",
       "    <tr>\n",
       "      <th>11050</th>\n",
       "      <td>41051</td>\n",
       "      <td>0.767336</td>\n",
       "      <td>0.201466</td>\n",
       "      <td>0.0</td>\n",
       "    </tr>\n",
       "    <tr>\n",
       "      <th>11076</th>\n",
       "      <td>41077</td>\n",
       "      <td>0.338836</td>\n",
       "      <td>0.854521</td>\n",
       "      <td>1.0</td>\n",
       "    </tr>\n",
       "  </tbody>\n",
       "</table>\n",
       "<p>524 rows × 4 columns</p>\n",
       "</div>"
      ],
      "text/plain": [
       "           0   res_was   res_now  new_res\n",
       "15     30016  0.098970  0.836211      1.0\n",
       "18     30019  0.681288  0.014852      0.0\n",
       "20     30021  0.675420  0.022460      0.0\n",
       "36     30037  0.717411  0.050203      0.0\n",
       "39     30040  0.718911  0.166853      0.0\n",
       "...      ...       ...       ...      ...\n",
       "10975  40976  0.680894  0.014477      0.0\n",
       "11015  41016  0.743724  0.197289      0.0\n",
       "11048  41049  0.374856  0.945689      1.0\n",
       "11050  41051  0.767336  0.201466      0.0\n",
       "11076  41077  0.338836  0.854521      1.0\n",
       "\n",
       "[524 rows x 4 columns]"
      ]
     },
     "execution_count": 59,
     "metadata": {
      "tags": []
     },
     "output_type": "execute_result"
    }
   ],
   "source": [
    "df[new_res != df.res_now]"
   ]
  },
  {
   "cell_type": "code",
   "execution_count": 0,
   "metadata": {
    "colab": {},
    "colab_type": "code",
    "id": "sIUcoK2v1Vlu"
   },
   "outputs": [],
   "source": [
    "new_res = df.apply(lambda x: round(x.res_now) if abs(x.res_was - x.res_now) > 0.5 else x.res_now, axis=1)"
   ]
  },
  {
   "cell_type": "code",
   "execution_count": 0,
   "metadata": {
    "colab": {},
    "colab_type": "code",
    "id": "AtGGCQ457KNz"
   },
   "outputs": [],
   "source": []
  },
  {
   "cell_type": "code",
   "execution_count": 0,
   "metadata": {
    "colab": {},
    "colab_type": "code",
    "id": "pzqcpYvr6c00"
   },
   "outputs": [],
   "source": [
    "df['new_res'] = new_res"
   ]
  },
  {
   "cell_type": "code",
   "execution_count": 0,
   "metadata": {
    "colab": {},
    "colab_type": "code",
    "id": "7RsZ6UJr5UlW"
   },
   "outputs": [],
   "source": [
    "res = pd.DataFrame({'res': new_res})\n",
    "res.index += 30001"
   ]
  },
  {
   "cell_type": "code",
   "execution_count": 0,
   "metadata": {
    "colab": {},
    "colab_type": "code",
    "id": "muA2y7b-565d"
   },
   "outputs": [],
   "source": [
    "res.to_csv('kek.csv', header=None)"
   ]
  },
  {
   "cell_type": "code",
   "execution_count": 0,
   "metadata": {
    "colab": {},
    "colab_type": "code",
    "id": "INv8hP0N6Qy1"
   },
   "outputs": [],
   "source": []
  }
 ],
 "metadata": {
  "colab": {
   "collapsed_sections": [],
   "name": "vk_cup_kvals.ipynb",
   "provenance": []
  },
  "kernelspec": {
   "display_name": "Python 3",
   "language": "python",
   "name": "python3"
  },
  "language_info": {
   "codemirror_mode": {
    "name": "ipython",
    "version": 3
   },
   "file_extension": ".py",
   "mimetype": "text/x-python",
   "name": "python",
   "nbconvert_exporter": "python",
   "pygments_lexer": "ipython3",
   "version": "3.7.4"
  }
 },
 "nbformat": 4,
 "nbformat_minor": 1
}
